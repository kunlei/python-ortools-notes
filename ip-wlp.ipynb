{
 "cells": [
  {
   "attachments": {},
   "cell_type": "markdown",
   "metadata": {},
   "source": [
    "---\n",
    "format:\n",
    "  html:\n",
    "    code-line-numbers: true\n",
    "    code-overflow: wrap\n",
    "    code-block-bg: true\n",
    "    code-block-border-left: true\n",
    "    highlight-style: Arrow\n",
    "---"
   ]
  },
  {
   "attachments": {},
   "cell_type": "markdown",
   "metadata": {},
   "source": [
    "# Warehouse Location Problem {#sec-wlp}"
   ]
  },
  {
   "attachments": {},
   "cell_type": "markdown",
   "metadata": {},
   "source": [
    "The warehouse location problem (WLP) is a classic optimization problem in operations research that aims to find the optimal locations for warehouses in order to minimize transportation costs while meeting the demand for goods from a set of customers. The problem is particularly relevant for businesses that need to distribute their products across a large geographic region.\n",
    "\n",
    "The problem can be formulated as follows: Given a set of stores $\\mathcal{S} = \\{1, \\cdots, s\\}$ and a set of potential warehouse locations $\\mathcal{W} = \\{1, \\cdots, w\\}$, the objective is to select a subset of warehouse locations and allocate stores to these locations such that the total transportation cost is minimized. The transportation cost typically depends on the distance between each store and the warehouse they are assigned to, as well as the quantity of goods that need to be transported."
   ]
  },
  {
   "attachments": {},
   "cell_type": "markdown",
   "metadata": {},
   "source": [
    "In order to simplify our mathematical model, we utilize the following symbols to indicate the input parameters:\n",
    "\n",
    "- $f_w$: the fixed cost required for initiating warehouse $w$\n",
    "- $c_{ws}$: the cost of transporting goods from warehouse $w$ to store $s$\n",
    "- $d_s$: the quantity of goods demanded by store $s$\n",
    "- $N_w$: the storage capacity of warehouse $w$\n",
    "\n",
    "We can then define two variables:\n",
    "\n",
    "- $y_s$: a binary variable that takes on a value of 1 if warehouse $s$ is chosen, and 0 otherwise\n",
    "- $x_{ws}$: a continuous variable that represents the fraction of store $s$'s demand that will be met by warehouse $w$"
   ]
  },
  {
   "attachments": {},
   "cell_type": "markdown",
   "metadata": {},
   "source": [
    "The complete model of this problem is given below."
   ]
  },
  {
   "attachments": {},
   "cell_type": "markdown",
   "metadata": {},
   "source": [
    "\\begin{align}\n",
    "    \\text{min.} &\\quad \\sum_{w \\in \\mathcal{W}} \\sum_{s \\in \\mathcal{S}} c_{ws} d_s x_{ws} + \\sum_{w \\in \\mathcal{W}} f_w y_w \\label{wlp-obj} \\\\\n",
    "    \\text{s.t.} &\\quad \\sum_{w \\in \\mathcal{W}} x_{ws} = 1, \\ \\forall s \\in \\mathcal{S} \\label{wlp-cons1} \\\\\n",
    "    &\\quad \\sum_{s \\in \\mathcal{S}} d_s x_{ws} \\leq N_w y_w, \\ \\forall w \\in \\mathcal{W} \\label{wlp-cons2} \\\\\n",
    "    &\\quad 0 \\leq x_{ws} \\leq 1, \\ \\forall w \\in \\mathcal{W}, s \\in \\mathcal{S} \\label{wlp-cons3} \\\\\n",
    "    &\\quad y_w \\in \\{0, 1\\}, \\ \\forall w \\in \\mathcal{W} \\label{wlp-cons4}\n",
    "\\end{align}"
   ]
  },
  {
   "attachments": {},
   "cell_type": "markdown",
   "metadata": {},
   "source": [
    "The objective function \\eqref{wlp-obj} is to minimize the total cost of transportation and the fixed cost of opening warehouses. The first term of the objective function sums up the transportation cost of moving goods from each warehouse $w$ to each store $s$, multiplied by the proportion of store $s$'s demand met by warehouse $w$, represented by $x_{ws}$. The second term of the objective function sums up the fixed cost of opening each warehouse $w$, represented by $f_w$, multiplied by a binary variable $y_w$ that takes on a value of 1 if warehouse $w$ is selected, and 0 otherwise.\n",
    "\n",
    "The model is subject to four constraints:\n",
    "\n",
    "- Constraint \\eqref{wlp-cons1} ensures that the entire demand of each store $s$ is met. The sum of $x_{ws}$ over all warehouses must be equal to 1 for each store $s$.\n",
    "- Constraint \\eqref{wlp-cons2} ensures that the total demand of all stores served by warehouse $w$ does not exceed its capacity $N_w$. The sum of $d_s x_{ws}$ over all stores $s$ must be less than or equal to $N_w y_w$ for each warehouse $w$.\n",
    "- Constraint \\eqref{wlp-cons3} ensures that the fraction of store $s$'s demand met by warehouse $w$, represented by $x_{ws}$, is between 0 and 1.\n",
    "- Constraint \\eqref{wlp-cons4} ensures that the binary variable $y_w$ takes on a value of either 0 or 1, indicating whether or not warehouse $w$ is selected."
   ]
  },
  {
   "attachments": {},
   "cell_type": "markdown",
   "metadata": {},
   "source": [
    "To demonstrate the solution process for the Warehouse Location Problem (WLP) using OR-Tools, we will use some sample instances available online from the website https://opthub.uniud.it/problem/facility-location/wlp. Specifically, we will be using an instance file called *wlp2*, the contents of which are shown below."
   ]
  },
  {
   "attachments": {},
   "cell_type": "markdown",
   "metadata": {},
   "source": [
    "```{bash}\n",
    "Warehouses = 2;\n",
    "Stores = 5;\n",
    "\n",
    "Capacity = [65, 47];\n",
    "FixedCost = [80, 184];\n",
    "Goods = [4, 15, 17, 6, 6];\n",
    "SupplyCost = [|57, 71\n",
    "              |30, 59\n",
    "              |43, 71\n",
    "              |37, 72\n",
    "              |30, 68|];\n",
    "```"
   ]
  },
  {
   "attachments": {},
   "cell_type": "markdown",
   "metadata": {},
   "source": [
    "In this instance file, there are 2 warehouses and 5 stores.\n",
    "The *Capacity* array specifies the maximum capacity of each warehouse, where the first warehouse has a capacity of 65 and the second has a capacity of 47.\n",
    "The *FixedCost* array specifies the fixed cost of opening each warehouse, where the first warehouse has a fixed cost of 80 and the second has a fixed cost of 184.\n",
    "The *Goods* array specifies the demand for each store, where the first store has a demand of 4, the second store has a demand of 15, the third store has a demand of 17, the fourth store has a demand of 6, and the fifth store has a demand of 6.\n",
    "The *SupplyCost* matrix specifies the transportation cost of moving goods from each warehouse to each store. The entry in row $i$ and column $j$ of the matrix represents the transportation cost of moving goods from warehouse $j$ to store $i$. For example, the transportation cost of moving goods from the first warehouse to the first store is 57, the transportation cost of moving goods from the second warehouse to the fourth store is 71, etc."
   ]
  },
  {
   "attachments": {},
   "cell_type": "markdown",
   "metadata": {},
   "source": [
    "We will create a `WlpDataCenter` class that will be responsible for reading and storing the necessary information required for solving the problem later on."
   ]
  },
  {
   "cell_type": "code",
   "execution_count": 67,
   "metadata": {},
   "outputs": [],
   "source": [
    "import re\n",
    "\n",
    "class WlpDataCenter:\n",
    "    \n",
    "    def __init__(self):\n",
    "        self._num_warehouses = None\n",
    "        self._num_stores = None\n",
    "        self._capacities = None\n",
    "        self._fixed_costs = None\n",
    "        self._demands = None\n",
    "        self._transport_costs = None\n",
    "    \n",
    "    def read_data(self, data_file):\n",
    "        with open(data_file) as f:\n",
    "            lines = f.readlines()\n",
    "    \n",
    "        self._num_warehouses = int(re.findall(r'\\d+', \n",
    "                                            lines[0])[0])\n",
    "        self._num_stores = int(re.findall(r'\\d+', \n",
    "                                        lines[1])[0])\n",
    "\n",
    "        self._capacities = [\n",
    "                    int(num)\n",
    "                    for num in re.findall(r'\\d+', lines[3])\n",
    "                ]\n",
    "        self._fixed_costs = [\n",
    "                    int(num)\n",
    "                    for num in re.findall(r'\\d+', lines[4])\n",
    "                ]\n",
    "        self._demands = [\n",
    "                    int(num)\n",
    "                    for num in re.findall(r'\\d+', lines[5])\n",
    "                ]\n",
    "        self._transport_costs = []\n",
    "        for line in lines[6:]:\n",
    "            numbers = [\n",
    "                    int(num)\n",
    "                    for num in re.findall(r'\\d+', line)\n",
    "                ]\n",
    "            self._transport_costs.append(numbers)\n",
    "    \n",
    "    @property\n",
    "    def num_warehouses(self): return self._num_warehouses\n",
    "    \n",
    "    @property\n",
    "    def num_stores(self): return self._num_stores\n",
    "    \n",
    "    @property\n",
    "    def capacities(self): return self._capacities\n",
    "    \n",
    "    @property\n",
    "    def demands(self): return self._demands\n",
    "    \n",
    "    @property\n",
    "    def fixed_costs(self): return self._fixed_costs\n",
    "    \n",
    "    @property\n",
    "    def transport_costs(self): return self._transport_costs"
   ]
  },
  {
   "attachments": {},
   "cell_type": "markdown",
   "metadata": {},
   "source": [
    "Now we are ready to solve the WLP using OR-Tools!"
   ]
  },
  {
   "cell_type": "code",
   "execution_count": 84,
   "metadata": {},
   "outputs": [],
   "source": [
    "from ortools.linear_solver import pywraplp\n",
    "from itertools import product\n",
    "import numpy as np\n",
    "\n",
    "class WlpSolver:\n",
    "    \n",
    "    def __init__(self, data_center):\n",
    "        self._data_center: WlpDataCenter = data_center\n",
    "        \n",
    "        self._solver = None\n",
    "        self._var_x = None\n",
    "        self._var_y = None\n",
    "        \n",
    "        self._opt_obj = None\n",
    "        self._opt_x = None\n",
    "        self._opt_y = None\n",
    "        \n",
    "    def build_model(self):\n",
    "        self._solver = pywraplp.Solver.CreateSolver('SCIP')\n",
    "\n",
    "        self._create_variables()\n",
    "        self._create_objective()\n",
    "        self._create_constraints()\n",
    "        \n",
    "    def optimize(self):\n",
    "        model = self._solver.ExportModelAsLpFormat(False)\n",
    "        print(model)\n",
    "        status = self._solver.Solve()\n",
    "        if status == pywraplp.Solver.OPTIMAL:\n",
    "            print(f\"solver success!\")\n",
    "            num_warehouses = self._data_center.num_warehouses\n",
    "            num_stores = self._data_center.num_stores\n",
    "            self._opt_obj = self._solver.Objective().Value()\n",
    "            self._opt_x = np.zeros((num_warehouses, num_stores))\n",
    "            for w, s in product(range(num_warehouses),\n",
    "                                range(num_stores)):\n",
    "                self._opt_x[w][s] = \\\n",
    "                    self._var_x[w][s].solution_value()\n",
    "            \n",
    "            self._opt_y = [\n",
    "                self._var_y[w] for w in range(num_warehouses)\n",
    "            ]\n",
    "    \n",
    "    def _create_variables(self):\n",
    "        num_warehouses = self._data_center.num_warehouses\n",
    "        num_stores = self._data_center.num_stores\n",
    "        self._var_x = np.empty((num_warehouses, num_stores),\n",
    "                            dtype=object)\n",
    "        for w, s in product(range(num_warehouses),\n",
    "                            range(num_stores)):\n",
    "            self._var_x[w][s] = \\\n",
    "                self._solver.NumVar(0, 1,\n",
    "                                    name=f'x_{w,s}')\n",
    "        \n",
    "        self._var_y = [\n",
    "            self._solver.BoolVar(name=f'y_{w}')\n",
    "            for w in range(num_warehouses)\n",
    "        ]\n",
    "    \n",
    "    def _create_objective(self):\n",
    "        num_warehouses = self._data_center.num_warehouses\n",
    "        num_stores = self._data_center.num_stores\n",
    "        demands = self._data_center.demands\n",
    "        transport_costs = self._data_center.transport_costs\n",
    "        fixed_costs = self._data_center.fixed_costs\n",
    "        expr1 = [\n",
    "            transport_costs[s][w] *\n",
    "            demands[s] *\n",
    "            self._var_x[w][s]\n",
    "            for w in range(num_warehouses)\n",
    "            for s in range(num_stores)\n",
    "        ]\n",
    "        expr2 = [\n",
    "            fixed_costs[w] *\n",
    "            self._var_y[w]\n",
    "            for w in range(num_warehouses)\n",
    "        ]\n",
    "        self._solver.Minimize(\n",
    "            self._solver.Sum(expr1) +\n",
    "            self._solver.Sum(expr2)\n",
    "        )\n",
    "    \n",
    "    def _create_constraints(self):\n",
    "        num_warehouses = self._data_center.num_warehouses\n",
    "        num_stores = self._data_center.num_stores\n",
    "        for s in range(num_stores):\n",
    "            expr = [\n",
    "                self._var_x[w][s]\n",
    "                for w in range(num_warehouses)\n",
    "            ]\n",
    "            self._solver.Add(\n",
    "                self._solver.Sum(expr) == 1\n",
    "            )\n",
    "        \n",
    "        demands = self._data_center.demands\n",
    "        capacities = self._data_center.capacities\n",
    "        for w in range(num_warehouses):\n",
    "            expr = [\n",
    "                self._var_x[w][s] *\n",
    "                demands[s]\n",
    "            ]\n",
    "            self._solver.Add(\n",
    "                self._solver.Sum(expr) == \n",
    "                capacities[w] *\n",
    "                self._var_y[w]\n",
    "            )\n",
    "    \n",
    "    @property\n",
    "    def opt_obj(self): return self._opt_obj\n",
    "    \n",
    "    @property\n",
    "    def opt_x(self): return self._opt_x\n",
    "    \n",
    "    @property\n",
    "    def opt_y(self): return self._opt_y"
   ]
  },
  {
   "cell_type": "code",
   "execution_count": 77,
   "metadata": {},
   "outputs": [
    {
     "name": "stdout",
     "output_type": "stream",
     "text": [
      "2\n",
      "5\n",
      "[4, 15, 17, 6, 6]\n",
      "[[57, 71], [30, 59], [43, 71], [37, 72], [30, 68]]\n",
      "[80, 184]\n"
     ]
    }
   ],
   "source": [
    "import os\n",
    "\n",
    "data_file = \"./data/wlp/wlp/wlp2\"\n",
    "\n",
    "data_center = WlpDataCenter()\n",
    "data_center.read_data(data_file)\n",
    "\n",
    "num_warehouses = data_center.num_warehouses\n",
    "print(num_warehouses)\n",
    "\n",
    "num_stores = data_center.num_stores\n",
    "print(num_stores)\n",
    "\n",
    "demands = data_center.demands\n",
    "transport_costs = data_center.transport_costs\n",
    "fixed_costs = data_center.fixed_costs\n",
    "print(demands)\n",
    "print(transport_costs)\n",
    "print(fixed_costs)"
   ]
  },
  {
   "cell_type": "code",
   "execution_count": 85,
   "metadata": {},
   "outputs": [
    {
     "name": "stdout",
     "output_type": "stream",
     "text": [
      "\\ Generated by MPModelProtoExporter\n",
      "\\   Name             : \n",
      "\\   Format           : Free\n",
      "\\   Constraints      : 7\n",
      "\\   Variables        : 12\n",
      "\\     Binary         : 2\n",
      "\\     Integer        : 0\n",
      "\\     Continuous     : 10\n",
      "Minimize\n",
      " Obj: +228 x_(0,_0) +450 x_(0,_1) +731 x_(0,_2) +222 x_(0,_3) +180 x_(0,_4) +284 x_(1,_0) +885 x_(1,_1) +1207 x_(1,_2) +432 x_(1,_3) +408 x_(1,_4) +80 y_0 +184 y_1 \n",
      "Subject to\n",
      " auto_c_000000000: +1 x_(0,_0) +1 x_(1,_0)  = 1\n",
      " auto_c_000000001: +1 x_(0,_1) +1 x_(1,_1)  = 1\n",
      " auto_c_000000002: +1 x_(0,_2) +1 x_(1,_2)  = 1\n",
      " auto_c_000000003: +1 x_(0,_3) +1 x_(1,_3)  = 1\n",
      " auto_c_000000004: +1 x_(0,_4) +1 x_(1,_4)  = 1\n",
      " auto_c_000000005: +6 x_(0,_4) -65 y_0  = 0\n",
      " auto_c_000000006: +6 x_(1,_4) -47 y_1  = 0\n",
      "Bounds\n",
      " 0 <= x_(0,_0) <= 1\n",
      " 0 <= x_(0,_1) <= 1\n",
      " 0 <= x_(0,_2) <= 1\n",
      " 0 <= x_(0,_3) <= 1\n",
      " 0 <= x_(0,_4) <= 1\n",
      " 0 <= x_(1,_0) <= 1\n",
      " 0 <= x_(1,_1) <= 1\n",
      " 0 <= x_(1,_2) <= 1\n",
      " 0 <= x_(1,_3) <= 1\n",
      " 0 <= x_(1,_4) <= 1\n",
      " 0 <= y_0 <= 1\n",
      " 0 <= y_1 <= 1\n",
      "Binaries\n",
      " y_0\n",
      " y_1\n",
      "End\n",
      "\n"
     ]
    }
   ],
   "source": [
    "solver = WlpSolver(data_center)\n",
    "solver.build_model()\n",
    "solver.optimize()"
   ]
  },
  {
   "cell_type": "code",
   "execution_count": 83,
   "metadata": {},
   "outputs": [
    {
     "name": "stdout",
     "output_type": "stream",
     "text": [
      "None\n"
     ]
    }
   ],
   "source": [
    "opt_obj = solver.opt_obj\n",
    "opt_y = solver.opt_y\n",
    "print(opt_obj)"
   ]
  }
 ],
 "metadata": {
  "kernelspec": {
   "display_name": "ortools",
   "language": "python",
   "name": "python3"
  },
  "language_info": {
   "codemirror_mode": {
    "name": "ipython",
    "version": 3
   },
   "file_extension": ".py",
   "mimetype": "text/x-python",
   "name": "python",
   "nbconvert_exporter": "python",
   "pygments_lexer": "ipython3",
   "version": "3.10.9"
  },
  "orig_nbformat": 4,
  "vscode": {
   "interpreter": {
    "hash": "bf48c6200b504fe5a034fe37dc129ab5028b5377bed7e5a0a28d850d57df49a8"
   }
  }
 },
 "nbformat": 4,
 "nbformat_minor": 2
}
