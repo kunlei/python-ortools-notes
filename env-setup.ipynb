{
  "cells": [
    {
      "cell_type": "markdown",
      "id": "dca99a45",
      "metadata": {},
      "source": [
        "# Environment Setup {#sec-setup}\n",
        "\n",
        "In this chapter, we explain the steps needed to set up Python and Google OR-Tools.\n",
        "All the steps below are based on MacBook Air with M1 chip and macOS Ventura 13.1.\n",
        "\n",
        "The first tool we need is Homebrew, 'the Missing Package Manager for macOS (or Linux)', and it can be accessed at <https://brew.sh/>.\n",
        "To install Homebrew, just\n",
        "\n",
        "\n",
        "```{bash}\n",
        "/bin/bash -c \"$(curl -fsSL https://raw.githubusercontent.com/Homebrew/install/HEAD/install.sh)\"\n",
        "```"
      ]
    }
  ],
  "metadata": {
    "kernelspec": {
      "display_name": "Python 3",
      "language": "python",
      "name": "python3"
    },
    "language_info": {
      "name": "python",
      "version": "3.11.1 (main, Dec 23 2022, 09:28:24) [Clang 14.0.0 (clang-1400.0.29.202)]"
    },
    "vscode": {
      "interpreter": {
        "hash": "5c7b89af1651d0b8571dde13640ecdccf7d5a6204171d6ab33e7c296e100e08a"
      }
    }
  },
  "nbformat": 4,
  "nbformat_minor": 5
}
