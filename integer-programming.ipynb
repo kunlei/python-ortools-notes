{
 "cells": [
  {
   "attachments": {},
   "cell_type": "markdown",
   "metadata": {},
   "source": [
    "---\n",
    "highlight-style:\n",
    "  light: arrow.theme\n",
    "  dark: arrow-dark.theme\n",
    "format:\n",
    "  html:\n",
    "    code-line-numbers: false\n",
    "    code-overflow: wrap\n",
    "---"
   ]
  },
  {
   "attachments": {},
   "cell_type": "markdown",
   "metadata": {},
   "source": [
    "# Integer Programming {#sec-integer}"
   ]
  },
  {
   "attachments": {},
   "cell_type": "markdown",
   "metadata": {},
   "source": [
    "Integer programming has a wide range of applications across various industries and domains. Some of the classical applications of integer programming include:\n",
    "\n",
    "- Production Planning and Scheduling: Integer programming is widely used in production planning and scheduling to optimize the allocation of resources, such as machines, workers, and raw materials. It helps to minimize costs and maximize efficiency by determining the optimal production schedule.\n",
    "\n",
    "- Network Optimization: Integer programming is used in network optimization problems such as routing, scheduling, and allocation of resources in transportation networks, telecommunication networks, and supply chain management.\n",
    "\n",
    "- Facility Location: Integer programming is used in facility location problems, which involve determining the optimal location for a facility based on various factors such as demand, supply, and transportation costs. It is commonly used in logistics, transportation, and distribution industries.\n",
    "\n",
    "- Portfolio Optimization: Integer programming is used in finance to optimize investment portfolios, where the goal is to maximize the returns on the investment while minimizing risk.\n",
    "\n",
    "- Cutting Stock and Bin Packing: Integer programming is used in cutting stock and bin packing problems where items of varying sizes must be packed into containers or cut from a stock. This is commonly used in the packaging and manufacturing industries.\n",
    "\n",
    "- Crew Scheduling: Integer programming is used in crew scheduling problems, where the goal is to optimize the allocation of crew members to different shifts, duties, or activities. It is commonly used in industries such as airlines, railways, and public transportation.\n",
    "\n",
    "- Timetabling: Integer programming is used in timetabling problems such as scheduling classes, exams, and events in academic institutions. It helps to minimize scheduling conflicts and maximize resource utilization."
   ]
  },
  {
   "attachments": {},
   "cell_type": "markdown",
   "metadata": {},
   "source": [
    "This chapter explores the various methods that Google OR-Tools provides for modeling and solving (mixed) integer linear programming problems. The first step is to review the additional conditions that arise when modeling integer variables and solving integer programs. Following that, we use specific instances to demonstrate how these techniques are applied."
   ]
  },
  {
   "attachments": {},
   "cell_type": "markdown",
   "metadata": {},
   "source": [
    "## Modeling Capabilities\n",
    "\n"
   ]
  },
  {
   "attachments": {},
   "cell_type": "markdown",
   "metadata": {},
   "source": [
    "When modeling integer programs, there are two main tasks that require attention. The first is declaring integer variables, and the second is selecting a solver that is capable of solving integer programs."
   ]
  },
  {
   "attachments": {},
   "cell_type": "markdown",
   "metadata": {},
   "source": [
    "### Declaring Integer Variables\n",
    "\n",
    "As reviewed in @sec-linear, Google OR-Tools provides two options to create integer variables:\n",
    "\n",
    "+ The `Var(lb, ub, integer: bool, name)` function\n",
    "+ The `IntVar(lb, ub, name)` function\n",
    "+ The `Variable.SetInteger(integer: bool)` function"
   ]
  },
  {
   "attachments": {},
   "cell_type": "markdown",
   "metadata": {},
   "source": [
    "In the code snippet below, we create three integer variables using all the aforementioned approaches:"
   ]
  },
  {
   "cell_type": "code",
   "execution_count": 13,
   "metadata": {},
   "outputs": [],
   "source": [
    "from ortools.linear_solver import pywraplp\n",
    "\n",
    "solver = pywraplp.Solver.CreateSolver('SCIP')\n",
    "\n",
    "# option 1\n",
    "x = solver.Var(lb=0, ub=10, integer=True, name='x')\n",
    "\n",
    "# option 2\n",
    "y = solver.IntVar(lb=10, ub=20, name='y')\n",
    "\n",
    "# option 3\n",
    "z = solver.NumVar(lb=0, ub=5.5, name='z')\n",
    "z.SetInteger(integer=True)"
   ]
  },
  {
   "attachments": {},
   "cell_type": "markdown",
   "metadata": {},
   "source": [
    "We can verify the types of variables $x, y, z$:"
   ]
  },
  {
   "cell_type": "code",
   "execution_count": 14,
   "metadata": {},
   "outputs": [
    {
     "name": "stdout",
     "output_type": "stream",
     "text": [
      "x is integer? True\n",
      "y is integer? True\n",
      "z is integer? True\n"
     ]
    }
   ],
   "source": [
    "print(f\"x is integer? {x.integer()}\")\n",
    "print(f\"y is integer? {y.integer()}\")\n",
    "print(f\"z is integer? {z.integer()}\")"
   ]
  },
  {
   "attachments": {},
   "cell_type": "markdown",
   "metadata": {},
   "source": [
    "### Selecting an Integer Solver"
   ]
  },
  {
   "attachments": {},
   "cell_type": "markdown",
   "metadata": {},
   "source": [
    "There are several solvers available for solving integer programs, and some options include:\n",
    "\n",
    "- CBC_MIXED_INTEGER_PROGRAMMING or CBC\n",
    "- BOP_INTEGER_PROGRAMMING or BOP\n",
    "- SAT_INTEGER_PROGRAMMING or SAT or CP_SAT\n",
    "- SCIP_MIXED_INTEGER_PROGRAMMING or SCIP\n",
    "- GUROBI_MIXED_INTEGER_PROGRAMMING or GUROBI or GUROBI_MIP\n",
    "- CPLEX_MIXED_INTEGER_PROGRAMMING or CPLEX or CPLEX_MIP\n",
    "- XPRESS_MIXED_INTEGER_PROGRAMMING or XPRESS or XPRESS_MIP\n",
    "- GLPK_MIXED_INTEGER_PROGRAMMING or GLPK or GLPK_MIP\n",
    "\n",
    "It's important to note that some of these solvers are open-source, while others require a commercial license.\n",
    "The code block above demonstrates how to create an instance of an integer solver. To do so, we simply need to specify the name of the solver in the Solver.CreateSolver() function."
   ]
  },
  {
   "cell_type": "code",
   "execution_count": 15,
   "metadata": {},
   "outputs": [],
   "source": [
    "solver = pywraplp.Solver.CreateSolver('CBC')"
   ]
  },
  {
   "attachments": {},
   "cell_type": "markdown",
   "metadata": {},
   "source": [
    "## Applications"
   ]
  },
  {
   "attachments": {},
   "cell_type": "markdown",
   "metadata": {},
   "source": [
    "In this section, we use Google OR-Tools to solve some of the classical integer programming problems."
   ]
  },
  {
   "attachments": {},
   "cell_type": "markdown",
   "metadata": {},
   "source": [
    "### Job Shop Scheduling Problem\n",
    "\n",
    "In the job shop scheduling problem (JSSP), there are a set of $n$ jobs $\\mathcal{J}$ and a set of $m$ machines $\\mathcal{M}$, and each job $j \\in \\mathcal{J}$ has a list of operations, given by $(o_1^j, \\cdots, o_h^j, \\cdots, o_m^j)$, that must be carried on the machines.\n",
    "The order of operations in the list also indicates the processing order of the job, and $o_h^j$ represents the $h$-th operation of the job $j$.\n",
    "In addition, the processing time of job $j$ on machine $i$, denoted by $p_{ij}$, is known in advance and is a non-negative integer.\n",
    "At any moment of time, each machine can only process at most one job and no preemption is allowed which means that a job must completes its processing on a machine once it starts on that machine.\n",
    "The objective is to find a processing schedule of the jobs on the machines such that the makespan, the completion time of the last operation of any job, is minimized.\n"
   ]
  },
  {
   "attachments": {},
   "cell_type": "markdown",
   "metadata": {},
   "source": [
    "To test the modeling of JSSP, we use a benchmarking instance from the OR-Library (@or-library), shown in the box below.\n",
    "The two numbers in the first line represent the number of jobs and the number of machines, respectively.\n",
    "Each remaining line contains the operations, processing machine and processing time, for each job.\n",
    "Note that the machines are numbered starting from 0."
   ]
  },
  {
   "cell_type": "code",
   "execution_count": 95,
   "metadata": {},
   "outputs": [],
   "source": [
    "#| code-block-bg: true\n",
    "#| code-block-border-left: \"#31BAE9\"\n",
    "\n",
    "# Instance ft06 from OR-Library\n",
    "# 6\t6\t\n",
    "# 2\t1\t0\t3\t1\t6\t3\t7\t5\t3\t4\t6\n",
    "# 1\t8\t2\t5\t4\t10\t5\t10\t0\t10\t3\t4\n",
    "# 2\t5\t3\t4\t5\t8\t0\t9\t1\t1\t4\t7\n",
    "# 1\t5\t0\t5\t2\t5\t3\t3\t4\t8\t5\t9\n",
    "# 2\t9\t1\t3\t4\t5\t5\t4\t0\t3\t3\t1\n",
    "# 1\t3\t3\t3\t5\t9\t0\t10\t4\t4\t2\t1"
   ]
  },
  {
   "attachments": {},
   "cell_type": "markdown",
   "metadata": {},
   "source": [
    "Suppose this instance data is saved in a file named *ft06.txt* and the code below defines an utility function to read and parse the instance for later use."
   ]
  },
  {
   "cell_type": "code",
   "execution_count": 20,
   "metadata": {},
   "outputs": [],
   "source": [
    "def read_jssp_instance(filename: str):\n",
    "    with open(filename) as f:\n",
    "        num_jobs, num_machines = [int(x) for x in next(f).split()]\n",
    "        operations = []\n",
    "        processing_times = {}\n",
    "        job_idx = 0\n",
    "        for line in f:\n",
    "            info = [int(x) for x in line.split()]\n",
    "            arr = [info[2 * m] for m in range(num_machines)]\n",
    "            times = {info[2 * m]: info[2 * m + 1]\n",
    "                    for m in range(num_machines)}\n",
    "            operations.append(arr)\n",
    "            processing_times[job_idx] = times\n",
    "            job_idx += 1\n",
    "    return num_jobs, num_machines, operations, processing_times"
   ]
  },
  {
   "attachments": {},
   "cell_type": "markdown",
   "metadata": {},
   "source": [
    "We present here three classical formulations of the JSSP from the literature and implement them using Google OR-Tools.\n",
    "\n",
    "1. Disjunctive model\n",
    "\n",
    "This model is taken from @ku_mixed_2016 and @manne_job-shop_1960. \n",
    "The decision variables are defined as follows:\n",
    "\n",
    "- $x_{ij}$: the processing starting time of job $j$ on machine $i$\n",
    "- $z_{ijk}$: a binary variable that equals 1 if job $j$ precedes job $k$ on machine $i$\n",
    "\n",
    "The disjunctive model can then be stated as below."
   ]
  },
  {
   "attachments": {},
   "cell_type": "markdown",
   "metadata": {},
   "source": [
    "\\begin{align}\n",
    "    \\text{min.} &\\quad C_{max} \\label{jsp-dis-obj}\\\\\n",
    "    \\text{s.t.} &\\quad x_{ij} \\geq 0, \\ \\forall j \\in \\mathcal{J}, i \\in \\mathcal{M} \\label{jsp-dis-cons1}\\\\\n",
    "    &\\quad x_{o_h^j, j} \\geq x_{o_{h-1}^j, j} + p_{o_{h-1}^j, j}, \\ \\forall j \\in \\mathcal{J}, h = 2, \\cdots, m \\label{jsp-dis-cons2}\\\\\n",
    "    &\\quad x_{ij} \\geq x_{ik} + p_{ik} - V \\cdot z_{ijk}, \\ \\forall i \\in \\mathcal{M}, j, k \\in \\mathcal{J}, j < k  \\label{jsp-dis-cons3}\\\\\n",
    "    &\\quad x_{ik} \\geq x_{ij} + p_{ij} - V \\cdot (1 - z_{ijk}), \\ \\forall i \\in \\mathcal{M}, j, k \\in \\mathcal{J}, j < k  \\label{jsp-dis-cons4}\\\\\n",
    "    &\\quad C_{max} \\geq x_{o_m^j, j} + p_{o_m^j, j}, \\ \\forall j \\in \\mathcal{J}  \\label{jsp-dis-cons5}\\\\\n",
    "    &\\quad z_{ijk} \\in \\{0, 1\\}, \\ \\forall i \\in \\mathcal{M}, j, k \\in \\mathcal{J} \\label{jsp-dis-cons6}\n",
    "\\end{align}\n",
    "\n",
    "The objective \\eqref{jsp-dis-obj} aims to minimize the maximal completion time of any job $j \\in \\mathcal{J}$.\n",
    "Constraints \\eqref{jsp-dis-cons1} require that all the job processing starting time must not be negative values.\n",
    "Constraints \\eqref{jsp-dis-cons2} enforce the sequencing order among operations for every job, which state that the $h$-th operation of job $j$, $o_h^j$, cannot start unless its preceeding operation $o_{h - 1}^j$ finishes.\n",
    "Constraints \\eqref{jsp-dis-cons3} and \\eqref{jsp-dis-cons4} together make sure that at most one job can be processed on a machine at any time.\n",
    "To be specific, in case of job $j$ preceding job $k$ on machine $i$, $z_{ijk}$ takes the value of 1 and constraints \\eqref{jsp-dis-cons4} ensure that job $k$ won't start processing on machine $i$ unless job $i$ completes processing; Otherwise, $z_{ijk}$ takes the value of 0 and constraints \\eqref{jsp-dis-cons3} require that job $j$ starts processing after job $k$.\n",
    "Note that both constraints are needed when we require $j < k$; Otherwise, only one of them is needed if we create a constraint for every pair of $j$ and $k$ on a machine.\n",
    "Constraints \\eqref{jsp-dis-cons5} derive $C_{max}$ across all jobs.\n",
    "The last constraints \\eqref{jsp-dis-cons6} state the variable type of $z_{ijk}$."
   ]
  },
  {
   "attachments": {},
   "cell_type": "markdown",
   "metadata": {},
   "source": [
    "The disjunctive formulation code is presented entirely in the following lines. The data related to the specific case are read between lines 5 to 8, and a solver object is created in line 11. The variable $x_{ij}$ is introduced in lines 16 to 23, followed by the introduction of variable $z_{ijk}$ in lines 25 to 34. The variable $C_{max}$ is defined in lines 36 to 38. The objective of the model is set in line 41, and the constraints are established in lines 44 to 80. The instance is solved, and the optimal solution is obtained from lines 82 to 93.\n"
   ]
  },
  {
   "cell_type": "code",
   "execution_count": 102,
   "metadata": {},
   "outputs": [
    {
     "name": "stdout",
     "output_type": "stream",
     "text": [
      "min. makespan = 55.00\n"
     ]
    }
   ],
   "source": [
    "#| code-overflow: no-wrap\n",
    "#| code-line-numbers: true\n",
    "\n",
    "from typing import List, Dict\n",
    "from ortools.linear_solver import pywraplp\n",
    "\n",
    "# read and parse the data\n",
    "filename = './data/jssp/ft06.txt'\n",
    "num_jobs, num_machines, \\\n",
    "operations, processing_times = \\\n",
    "    read_jssp_instance(filename)\n",
    "\n",
    "# create solver\n",
    "solver = pywraplp.Solver.CreateSolver('SCIP')\n",
    "\n",
    "# create variables\n",
    "infinity = solver.Infinity()\n",
    "var_time: List[List] = []\n",
    "for machine in range(num_machines):\n",
    "    arr = [\n",
    "        solver.NumVar(0, \n",
    "                    infinity, \n",
    "                    name=f'x_{machine, job}') \n",
    "        for job in range(num_jobs)\n",
    "        ]\n",
    "    var_time.append(arr)\n",
    "\n",
    "var_prec: Dict = []\n",
    "for machine in range(num_machines):\n",
    "    mac_dict = {}\n",
    "    for job_j in range(num_jobs - 1):\n",
    "        for job_k in range(job_j + 1, num_jobs):\n",
    "            mac_dict[(job_j, job_k)] = \\\n",
    "            solver.BoolVar(\n",
    "                name=f'z_{machine, job_j, job_k}'\n",
    "            )\n",
    "    var_prec.append(mac_dict)\n",
    "\n",
    "var_makespan = solver.NumVar(0, \n",
    "                            infinity, \n",
    "                            name='C_max')\n",
    "\n",
    "# create objective\n",
    "solver.Minimize(var_makespan)\n",
    "\n",
    "# create constraints\n",
    "for job, job_operations in enumerate(operations):\n",
    "    for h in range(1, num_machines):\n",
    "        curr_machine = job_operations[h]\n",
    "        prev_machine = job_operations[h - 1]\n",
    "        prev_time = processing_times[job][prev_machine]\n",
    "        solver.Add(\n",
    "            var_time[curr_machine][job] >= \n",
    "                var_time[prev_machine][job] + \n",
    "                prev_time\n",
    "            )\n",
    "\n",
    "V = 0\n",
    "for job in processing_times:\n",
    "    V += sum(processing_times[job].values())\n",
    "for machine in range(num_machines):\n",
    "    for job_j in range(num_jobs - 1):\n",
    "        for job_k in range(job_j + 1, num_jobs):\n",
    "            solver.Add(\n",
    "                var_time[machine][job_j] >= \n",
    "                var_time[machine][job_k] +\n",
    "                processing_times[job_k][machine] - \n",
    "                V * var_prec[machine][(job_j, job_k)]\n",
    "            )\n",
    "            solver.Add(\n",
    "                var_time[machine][job_k] >= \n",
    "                var_time[machine][job_j] +\n",
    "                processing_times[job_j][machine] - \n",
    "                V * (1 - var_prec[machine][(job_j, job_k)])\n",
    "            )\n",
    "            \n",
    "for job in range(num_jobs):\n",
    "    last_oper_machine = operations[job][-1]\n",
    "    solver.Add(\n",
    "        var_makespan >= \n",
    "        var_time[last_oper_machine][job] + \n",
    "        processing_times[job][last_oper_machine]\n",
    "    )\n",
    "\n",
    "status = solver.Solve()\n",
    "\n",
    "if status == solver.OPTIMAL:\n",
    "    print(f\"min. makespan = {solver.Objective().Value():.2f}\")\n",
    "    \n",
    "    opt_time = []\n",
    "    for machine in range(num_machines):\n",
    "        arr = [\n",
    "            int(var_time[machine][job].solution_value()) \n",
    "            for job in range(num_jobs)\n",
    "        ]\n",
    "        opt_time.append(arr)"
   ]
  },
  {
   "attachments": {},
   "cell_type": "markdown",
   "metadata": {},
   "source": [
    "The output of the model indicates that the lowest possible time needed to complete all tasks in this instance is 55. To illustrate the most efficient solution, we have created a function called `show_schedule()` that displays a Gantt chart of the tasks needed to process all jobs. @fig-jssp-dis-sol-ft06 displays the optimal solution for this instance."
   ]
  },
  {
   "cell_type": "code",
   "execution_count": 101,
   "metadata": {},
   "outputs": [
    {
     "data": {
      "image/png": "[encoded data removed]",
      "text/plain": [
       "<Figure size 700x300 with 1 Axes>"
      ]
     },
     "metadata": {},
     "output_type": "display_data"
    }
   ],
   "source": [
    "#| code-fold: false\n",
    "#| label: fig-jssp-dis-sol-ft06\n",
    "#| fig-cap: Optimal solution of the ft06 instance\n",
    "\n",
    "import matplotlib as mpl\n",
    "import matplotlib.pyplot as plt\n",
    "\n",
    "def show_schedule(num_jobs, operations, processing_times):\n",
    "    colors = mpl.colormaps[\"Set1\"].colors\n",
    "\n",
    "    fig, ax = plt.subplots(figsize=[7, 3], dpi=100)\n",
    "\n",
    "    for idx, job in enumerate(range(num_jobs)):\n",
    "        machines = operations[job]\n",
    "        job_start_times = [opt_time[machine][job] \n",
    "                            for machine in machines]\n",
    "        job_processing_times = [processing_times[job][machine] \n",
    "                                for machine in operations[job]]\n",
    "        \n",
    "        if idx >= len(colors):\n",
    "            idx = idx % len(colors)\n",
    "        color = colors[idx]\n",
    "\n",
    "        bars = ax.barh(machines, \n",
    "                width=job_processing_times, \n",
    "                left=job_start_times, \n",
    "                label=f'Job {job + 1}', \n",
    "                color=color)\n",
    "        \n",
    "        ax.bar_label(bars, \n",
    "                    fmt=f'{job + 1}', \n",
    "                    label_type='center')\n",
    "        \n",
    "    ax.set_yticks(machines)\n",
    "    ax.set_xlabel(\"Time\")\n",
    "    ax.set_ylabel(\"Machine\")\n",
    "    fig.tight_layout()\n",
    "    plt.show()\n",
    "    \n",
    "show_schedule(num_jobs, operations, processing_times)"
   ]
  },
  {
   "attachments": {},
   "cell_type": "markdown",
   "metadata": {},
   "source": [
    "2. Time-indexed model\n",
    "\n",
    "The time-indexed formulation, proposed by @kondili_general_1988 and @ku_mixed_2016, involves the use of a binary variable $x_{ijt}$ that takes the value of 1 if job $j$ starts at time $t$ on machine $i$.\n",
    "The model can be expressed as follows."
   ]
  },
  {
   "attachments": {},
   "cell_type": "markdown",
   "metadata": {},
   "source": [
    "\\begin{align}\n",
    "\\text{min.} &\\quad C_{max} \\label{jsp-time-obj}\\\\\n",
    "\\text{s.t.} &\\quad \\sum_{t \\in H} x_{ijt} = 1, \\ \\forall j \\in \\mathcal{J}, i \\in \\mathcal{M} \\label{jsp-time-cons1} \\\\\n",
    "&\\quad \\sum_{t \\in H} (t + p_{ij}) \\cdot x_{ijt} \\leq C_{max}, \\ \\forall j \\in \\mathcal{J}, i \\in \\mathcal{M} \\label{jsp-time-cons2} \\\\\n",
    "&\\quad \\sum_{j \\in \\mathcal{J}} \\sum_{t' \\in T_{ijt}} x_{ijt'} \\leq 1, \\ \\forall i \\in \\mathcal{M}, t \\in H, T_{ijt} = \\{t - p_{ij} + 1, \\cdots, t\\} \\label{jsp-time-cons3} \\\\\n",
    "&\\quad \\sum_{t \\in H} (t + p_{o_{h - 1}^j}, j) \\cdot x_{o_{h - 1}^j, jt} \\leq \\sum_{t \\in H} t \\cdot x_{o_h^j, jt}, \\ \\forall j \\in \\mathcal{J}, h = 2, \\cdots, m \\label{jsp-time-cons4} \\\\\n",
    "&\\quad x_{ijt} \\in \\{0, 1\\}, \\ \\forall j \\in \\mathcal{J}, i \\in \\mathcal{M}, t \\in H \\label{jsp-time-cons5}\n",
    "\\end{align}"
   ]
  },
  {
   "attachments": {},
   "cell_type": "markdown",
   "metadata": {},
   "source": [
    "In this formulation, the first set of constraints, referred to as \\eqref{jsp-time-cons1}, state that each job $j$ must start at one specific time within the scheduling horizon $H$, which is determined as the sum of processing times for all jobs - $H = \\sum_{i \\in \\mathcal{I}, j \\in \\mathcal{J}} p_{ij}$. Constraints \\eqref{jsp-time-cons2} are used to calculate the value of $C_{max}$, while constraints \\eqref{jsp-time-cons3} ensure that only one job can be processed by a machine at any given time. It's important to note that a job will remain on a machine for its full processing time and cannot be interrupted. Constraints \\eqref{jsp-time-cons4} make sure that the order of processing jobs is followed, and constraints \\eqref{jsp-time-cons5} define the variable types used in the formulation."
   ]
  },
  {
   "cell_type": "code",
   "execution_count": 113,
   "metadata": {},
   "outputs": [
    {
     "name": "stdout",
     "output_type": "stream",
     "text": [
      "min. makespan = 55.00\n"
     ]
    }
   ],
   "source": [
    "from typing import List, Dict\n",
    "from ortools.linear_solver import pywraplp\n",
    "import numpy as np\n",
    "\n",
    "# read and parse the data\n",
    "filename = './data/jssp/ft06.txt'\n",
    "num_jobs, num_machines, \\\n",
    "operations, processing_times = \\\n",
    "    read_jssp_instance(filename)\n",
    "    \n",
    "# create solver\n",
    "solver = pywraplp.Solver.CreateSolver('SCIP')\n",
    "\n",
    "# create variables\n",
    "H = 1\n",
    "for job in processing_times:\n",
    "    H += sum(processing_times[job].values())\n",
    "var_x = np.empty((num_machines, num_jobs, H), dtype=object)\n",
    "for machine in range(num_machines):\n",
    "    for job in range(num_jobs):\n",
    "        for t in range(H):\n",
    "            var_x[machine][job][t] = solver.BoolVar(name=f'x_{machine, job, t}')\n",
    "\n",
    "infinity = solver.Infinity()\n",
    "var_makespan = solver.NumVar(0, \n",
    "                            infinity, \n",
    "                            name='C_max')\n",
    "\n",
    "# create objective\n",
    "solver.Minimize(var_makespan)\n",
    "\n",
    "# create constraints\n",
    "for machine in range(num_machines):\n",
    "    for job in range(num_jobs):\n",
    "        solver.Add(solver.Sum([var_x[machine][job][t] for t in range(H)]) == 1)\n",
    "        \n",
    "for machine in range(num_machines):\n",
    "    for job in range(num_jobs):\n",
    "        arr = [var_x[machine][job][t] * (t + processing_times[job][machine]) for t in range(H)]\n",
    "        solver.Add(solver.Sum(arr) <= var_makespan)\n",
    "        \n",
    "for machine in range(num_machines):\n",
    "    for t in range(H):\n",
    "        arr = [var_x[machine][job][tt]\n",
    "                    for job in range(num_jobs)\n",
    "                    for tt in range(t - processing_times[job][machine] + 1, t + 1)]\n",
    "        solver.Add(solver.Sum(arr) <= 1)\n",
    "\n",
    "for job in range(num_jobs):\n",
    "    for oper in range(1, num_machines):\n",
    "        prev_machine = operations[job][oper - 1]\n",
    "        curr_machine = operations[job][oper]\n",
    "        expr_prev = [(t + processing_times[job][prev_machine]) * var_x[prev_machine][job][t] \n",
    "                    for t in range(H)]\n",
    "        expr_curr = [t * var_x[curr_machine][job][t]\n",
    "                    for t in range(H)]\n",
    "        solver.Add(solver.Sum(expr_prev) <= solver.Sum(expr_curr))\n",
    "\n",
    "status = solver.Solve()\n",
    "\n",
    "if status == solver.OPTIMAL:\n",
    "    print(f\"min. makespan = {solver.Objective().Value():.2f}\")"
   ]
  },
  {
   "attachments": {},
   "cell_type": "markdown",
   "metadata": {},
   "source": [
    "3. Rank-based model"
   ]
  }
 ],
 "metadata": {
  "kernelspec": {
   "display_name": "ortools",
   "language": "python",
   "name": "python3"
  },
  "language_info": {
   "codemirror_mode": {
    "name": "ipython",
    "version": 3
   },
   "file_extension": ".py",
   "mimetype": "text/x-python",
   "name": "python",
   "nbconvert_exporter": "python",
   "pygments_lexer": "ipython3",
   "version": "3.10.9"
  },
  "orig_nbformat": 4,
  "vscode": {
   "interpreter": {
    "hash": "bf48c6200b504fe5a034fe37dc129ab5028b5377bed7e5a0a28d850d57df49a8"
   }
  }
 },
 "nbformat": 4,
 "nbformat_minor": 2
}
