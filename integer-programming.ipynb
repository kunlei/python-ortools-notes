{
 "cells": [
  {
   "attachments": {},
   "cell_type": "markdown",
   "metadata": {},
   "source": [
    "---\n",
    "highlight-style:\n",
    "  light: arrow.theme\n",
    "  dark: arrow-dark.theme\n",
    "format:\n",
    "  html:\n",
    "    code-line-numbers: false\n",
    "    code-overflow: wrap\n",
    "---"
   ]
  },
  {
   "attachments": {},
   "cell_type": "markdown",
   "metadata": {},
   "source": [
    "# Integer Programming {#sec-integer}"
   ]
  },
  {
   "attachments": {},
   "cell_type": "markdown",
   "metadata": {},
   "source": [
    "Integer programming has a wide range of applications across various industries and domains. Some of the classical applications of integer programming include:\n",
    "\n",
    "- Production Planning and Scheduling: Integer programming is widely used in production planning and scheduling to optimize the allocation of resources, such as machines, workers, and raw materials. It helps to minimize costs and maximize efficiency by determining the optimal production schedule.\n",
    "\n",
    "- Network Optimization: Integer programming is used in network optimization problems such as routing, scheduling, and allocation of resources in transportation networks, telecommunication networks, and supply chain management.\n",
    "\n",
    "- Facility Location: Integer programming is used in facility location problems, which involve determining the optimal location for a facility based on various factors such as demand, supply, and transportation costs. It is commonly used in logistics, transportation, and distribution industries.\n",
    "\n",
    "- Portfolio Optimization: Integer programming is used in finance to optimize investment portfolios, where the goal is to maximize the returns on the investment while minimizing risk.\n",
    "\n",
    "- Cutting Stock and Bin Packing: Integer programming is used in cutting stock and bin packing problems where items of varying sizes must be packed into containers or cut from a stock. This is commonly used in the packaging and manufacturing industries.\n",
    "\n",
    "- Crew Scheduling: Integer programming is used in crew scheduling problems, where the goal is to optimize the allocation of crew members to different shifts, duties, or activities. It is commonly used in industries such as airlines, railways, and public transportation.\n",
    "\n",
    "- Timetabling: Integer programming is used in timetabling problems such as scheduling classes, exams, and events in academic institutions. It helps to minimize scheduling conflicts and maximize resource utilization."
   ]
  },
  {
   "attachments": {},
   "cell_type": "markdown",
   "metadata": {},
   "source": [
    "This chapter explores the various methods that Google OR-Tools provides for modeling and solving (mixed) integer linear programming problems. The first step is to review the additional conditions that arise when modeling integer variables and solving integer programs. Following that, we use specific instances to demonstrate how these techniques are applied."
   ]
  },
  {
   "attachments": {},
   "cell_type": "markdown",
   "metadata": {},
   "source": [
    "## Modeling Capabilities\n",
    "\n"
   ]
  },
  {
   "attachments": {},
   "cell_type": "markdown",
   "metadata": {},
   "source": [
    "When modeling integer programs, there are two main tasks that require attention. The first is declaring integer variables, and the second is selecting a solver that is capable of solving integer programs."
   ]
  },
  {
   "attachments": {},
   "cell_type": "markdown",
   "metadata": {},
   "source": [
    "### Declaring Integer Variables\n",
    "\n",
    "As reviewed in @sec-linear, Google OR-Tools provides two options to create integer variables:\n",
    "\n",
    "+ The `Var(lb, ub, integer: bool, name)` function\n",
    "+ The `IntVar(lb, ub, name)` function\n",
    "+ The `Variable.SetInteger(integer: bool)` function"
   ]
  },
  {
   "attachments": {},
   "cell_type": "markdown",
   "metadata": {},
   "source": [
    "In the code snippet below, we create three integer variables using all the aforementioned approaches:"
   ]
  },
  {
   "cell_type": "code",
   "execution_count": 23,
   "metadata": {},
   "outputs": [],
   "source": [
    "from ortools.linear_solver import pywraplp\n",
    "\n",
    "solver = pywraplp.Solver.CreateSolver('SCIP')\n",
    "\n",
    "# option 1\n",
    "x = solver.Var(lb=0, ub=10, integer=True, name='x')\n",
    "\n",
    "# option 2\n",
    "y = solver.IntVar(lb=10, ub=20, name='y')\n",
    "\n",
    "# option 3\n",
    "z = solver.NumVar(lb=0, ub=5.5, name='z')\n",
    "z.SetInteger(integer=True)"
   ]
  },
  {
   "attachments": {},
   "cell_type": "markdown",
   "metadata": {},
   "source": [
    "We can verify the types of variables $x, y, z$:"
   ]
  },
  {
   "cell_type": "code",
   "execution_count": 24,
   "metadata": {},
   "outputs": [
    {
     "name": "stdout",
     "output_type": "stream",
     "text": [
      "x is integer? True\n",
      "y is integer? True\n",
      "z is integer? True\n"
     ]
    }
   ],
   "source": [
    "print(f\"x is integer? {x.integer()}\")\n",
    "print(f\"y is integer? {y.integer()}\")\n",
    "print(f\"z is integer? {z.integer()}\")"
   ]
  },
  {
   "attachments": {},
   "cell_type": "markdown",
   "metadata": {},
   "source": [
    "### Selecting an Integer Solver"
   ]
  },
  {
   "attachments": {},
   "cell_type": "markdown",
   "metadata": {},
   "source": [
    "There are several solvers available for solving integer programs, and some options include:\n",
    "\n",
    "- CBC_MIXED_INTEGER_PROGRAMMING or CBC\n",
    "- BOP_INTEGER_PROGRAMMING or BOP\n",
    "- SAT_INTEGER_PROGRAMMING or SAT or CP_SAT\n",
    "- SCIP_MIXED_INTEGER_PROGRAMMING or SCIP\n",
    "- GUROBI_MIXED_INTEGER_PROGRAMMING or GUROBI or GUROBI_MIP\n",
    "- CPLEX_MIXED_INTEGER_PROGRAMMING or CPLEX or CPLEX_MIP\n",
    "- XPRESS_MIXED_INTEGER_PROGRAMMING or XPRESS or XPRESS_MIP\n",
    "- GLPK_MIXED_INTEGER_PROGRAMMING or GLPK or GLPK_MIP\n",
    "\n",
    "It's important to note that some of these solvers are open-source, while others require a commercial license.\n",
    "The code block above demonstrates how to create an instance of an integer solver. To do so, we simply need to specify the name of the solver in the Solver.CreateSolver() function."
   ]
  },
  {
   "cell_type": "code",
   "execution_count": 25,
   "metadata": {},
   "outputs": [],
   "source": [
    "solver = pywraplp.Solver.CreateSolver('CBC')"
   ]
  }
 ],
 "metadata": {
  "kernelspec": {
   "display_name": "ortools",
   "language": "python",
   "name": "python3"
  },
  "language_info": {
   "codemirror_mode": {
    "name": "ipython",
    "version": 3
   },
   "file_extension": ".py",
   "mimetype": "text/x-python",
   "name": "python",
   "nbconvert_exporter": "python",
   "pygments_lexer": "ipython3",
   "version": "3.10.9"
  },
  "orig_nbformat": 4,
  "vscode": {
   "interpreter": {
    "hash": "bf48c6200b504fe5a034fe37dc129ab5028b5377bed7e5a0a28d850d57df49a8"
   }
  }
 },
 "nbformat": 4,
 "nbformat_minor": 2
}
