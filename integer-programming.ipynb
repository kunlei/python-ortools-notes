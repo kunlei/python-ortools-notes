{
 "cells": [
  {
   "attachments": {},
   "cell_type": "markdown",
   "metadata": {},
   "source": [
    "---\n",
    "highlight-style:\n",
    "  light: arrow.theme\n",
    "  dark: arrow-dark.theme\n",
    "format:\n",
    "  html:\n",
    "    code-line-numbers: false\n",
    "    code-overflow: wrap\n",
    "---"
   ]
  },
  {
   "attachments": {},
   "cell_type": "markdown",
   "metadata": {},
   "source": [
    "# Integer Programming {#sec-integer}"
   ]
  },
  {
   "attachments": {},
   "cell_type": "markdown",
   "metadata": {},
   "source": [
    "Integer programming has a wide range of applications across various industries and domains. Some of the classical applications of integer programming include:\n",
    "\n",
    "- Production Planning and Scheduling: Integer programming is widely used in production planning and scheduling to optimize the allocation of resources, such as machines, workers, and raw materials. It helps to minimize costs and maximize efficiency by determining the optimal production schedule.\n",
    "\n",
    "- Network Optimization: Integer programming is used in network optimization problems such as routing, scheduling, and allocation of resources in transportation networks, telecommunication networks, and supply chain management.\n",
    "\n",
    "- Facility Location: Integer programming is used in facility location problems, which involve determining the optimal location for a facility based on various factors such as demand, supply, and transportation costs. It is commonly used in logistics, transportation, and distribution industries.\n",
    "\n",
    "- Portfolio Optimization: Integer programming is used in finance to optimize investment portfolios, where the goal is to maximize the returns on the investment while minimizing risk.\n",
    "\n",
    "- Cutting Stock and Bin Packing: Integer programming is used in cutting stock and bin packing problems where items of varying sizes must be packed into containers or cut from a stock. This is commonly used in the packaging and manufacturing industries.\n",
    "\n",
    "- Crew Scheduling: Integer programming is used in crew scheduling problems, where the goal is to optimize the allocation of crew members to different shifts, duties, or activities. It is commonly used in industries such as airlines, railways, and public transportation.\n",
    "\n",
    "- Timetabling: Integer programming is used in timetabling problems such as scheduling classes, exams, and events in academic institutions. It helps to minimize scheduling conflicts and maximize resource utilization."
   ]
  },
  {
   "attachments": {},
   "cell_type": "markdown",
   "metadata": {},
   "source": [
    "This chapter explores the various methods that Google OR-Tools provides for modeling and solving (mixed) integer linear programming problems. The first step is to review the additional conditions that arise when modeling integer variables and solving integer programs. Following that, we use specific instances to demonstrate how these techniques are applied."
   ]
  },
  {
   "attachments": {},
   "cell_type": "markdown",
   "metadata": {},
   "source": [
    "## Modeling Capabilities\n",
    "\n"
   ]
  },
  {
   "attachments": {},
   "cell_type": "markdown",
   "metadata": {},
   "source": [
    "When modeling integer programs, there are two main tasks that require attention. The first is declaring integer variables, and the second is selecting a solver that is capable of solving integer programs."
   ]
  },
  {
   "attachments": {},
   "cell_type": "markdown",
   "metadata": {},
   "source": [
    "### Declaring Integer Variables\n",
    "\n",
    "As reviewed in @sec-linear, Google OR-Tools provides two options to create integer variables:\n",
    "\n",
    "+ The `Var(lb, ub, integer: bool, name)` function\n",
    "+ The `IntVar(lb, ub, name)` function\n",
    "+ The `Variable.SetInteger(integer: bool)` function"
   ]
  },
  {
   "attachments": {},
   "cell_type": "markdown",
   "metadata": {},
   "source": [
    "In the code snippet below, we create three integer variables using all the aforementioned approaches:"
   ]
  },
  {
   "cell_type": "code",
   "execution_count": 13,
   "metadata": {},
   "outputs": [],
   "source": [
    "from ortools.linear_solver import pywraplp\n",
    "\n",
    "solver = pywraplp.Solver.CreateSolver('SCIP')\n",
    "\n",
    "# option 1\n",
    "x = solver.Var(lb=0, ub=10, integer=True, name='x')\n",
    "\n",
    "# option 2\n",
    "y = solver.IntVar(lb=10, ub=20, name='y')\n",
    "\n",
    "# option 3\n",
    "z = solver.NumVar(lb=0, ub=5.5, name='z')\n",
    "z.SetInteger(integer=True)"
   ]
  },
  {
   "attachments": {},
   "cell_type": "markdown",
   "metadata": {},
   "source": [
    "We can verify the types of variables $x, y, z$:"
   ]
  },
  {
   "cell_type": "code",
   "execution_count": 14,
   "metadata": {},
   "outputs": [
    {
     "name": "stdout",
     "output_type": "stream",
     "text": [
      "x is integer? True\n",
      "y is integer? True\n",
      "z is integer? True\n"
     ]
    }
   ],
   "source": [
    "print(f\"x is integer? {x.integer()}\")\n",
    "print(f\"y is integer? {y.integer()}\")\n",
    "print(f\"z is integer? {z.integer()}\")"
   ]
  },
  {
   "attachments": {},
   "cell_type": "markdown",
   "metadata": {},
   "source": [
    "### Selecting an Integer Solver"
   ]
  },
  {
   "attachments": {},
   "cell_type": "markdown",
   "metadata": {},
   "source": [
    "There are several solvers available for solving integer programs, and some options include:\n",
    "\n",
    "- CBC_MIXED_INTEGER_PROGRAMMING or CBC\n",
    "- BOP_INTEGER_PROGRAMMING or BOP\n",
    "- SAT_INTEGER_PROGRAMMING or SAT or CP_SAT\n",
    "- SCIP_MIXED_INTEGER_PROGRAMMING or SCIP\n",
    "- GUROBI_MIXED_INTEGER_PROGRAMMING or GUROBI or GUROBI_MIP\n",
    "- CPLEX_MIXED_INTEGER_PROGRAMMING or CPLEX or CPLEX_MIP\n",
    "- XPRESS_MIXED_INTEGER_PROGRAMMING or XPRESS or XPRESS_MIP\n",
    "- GLPK_MIXED_INTEGER_PROGRAMMING or GLPK or GLPK_MIP\n",
    "\n",
    "It's important to note that some of these solvers are open-source, while others require a commercial license.\n",
    "The code block above demonstrates how to create an instance of an integer solver. To do so, we simply need to specify the name of the solver in the Solver.CreateSolver() function."
   ]
  },
  {
   "cell_type": "code",
   "execution_count": 15,
   "metadata": {},
   "outputs": [],
   "source": [
    "solver = pywraplp.Solver.CreateSolver('CBC')"
   ]
  },
  {
   "attachments": {},
   "cell_type": "markdown",
   "metadata": {},
   "source": [
    "## Applications"
   ]
  },
  {
   "attachments": {},
   "cell_type": "markdown",
   "metadata": {},
   "source": [
    "In this section, we use Google OR-Tools to solve some of the classical integer programming problems."
   ]
  },
  {
   "attachments": {},
   "cell_type": "markdown",
   "metadata": {},
   "source": [
    "### Job Shop Scheduling Problem\n",
    "\n",
    "In the job shop scheduling problem (JSSP), there are a set of $n$ jobs $\\mathcal{J}$ and a set of $m$ machines $\\mathcal{M}$, and each job $j \\in \\mathcal{J}$ has a list of operations, given by $(o_1^j, \\cdots, o_h^j, \\cdots, o_m^j)$, that must be carried on the machines.\n",
    "The order of operations in the list also indicates the processing order of the job, and $o_h^j$ represents the $h$-th operation of the job $j$.\n",
    "In addition, the processing time of job $j$ on machine $i$, denoted by $p_{ij}$, is known in advance and is a non-negative integer.\n",
    "At any moment of time, each machine can only process at most one job and no preemption is allowed which means that a job must completes its processing on a machine once it starts on that machine.\n",
    "The objective is to find a processing schedule of the jobs on the machines such that the makespan, the completion time of the last operation of any job, is minimized.\n"
   ]
  },
  {
   "attachments": {},
   "cell_type": "markdown",
   "metadata": {},
   "source": [
    "To test the modeling of JSSP, we use a benchmarking instance from the OR-Library (@or-library), shown in the box below.\n",
    "The two numbers in the first line represent the number of jobs and the number of machines, respectively.\n",
    "Each remaining line contains the operations, processing machine and processing time, for each job.\n",
    "Note that the machines are numbered starting from 0."
   ]
  },
  {
   "attachments": {},
   "cell_type": "markdown",
   "metadata": {},
   "source": [
    "::: {.callout-note icon=false appearance=\"default}\n",
    "\n",
    "## Instance abz5 (@or-library)\n",
    "\n",
    "10\t10\t<br />\n",
    "4\t88\t8\t68\t6\t94\t5\t99\t1\t67\t2\t89\t9\t77\t7\t99\t0\t86\t3\t92<br />\n",
    "5\t72\t3\t50\t6\t69\t4\t75\t2\t94\t8\t66\t0\t92\t1\t82\t7\t94\t9\t63<br />\n",
    "9\t83\t8\t61\t0\t83\t1\t65\t6\t64\t5\t85\t7\t78\t4\t85\t2\t55\t3\t77<br />\n",
    "7\t94\t2\t68\t1\t61\t4\t99\t3\t54\t6\t75\t5\t66\t0\t76\t9\t63\t8\t67<br />\n",
    "3\t69\t4\t88\t9\t82\t8\t95\t0\t99\t2\t67\t6\t95\t5\t68\t7\t67\t1\t86<br />\n",
    "1\t99\t4\t81\t5\t64\t6\t66\t8\t80\t2\t80\t7\t69\t9\t62\t3\t79\t0\t88<br />\n",
    "7\t50\t1\t86\t4\t97\t3\t96\t0\t95\t8\t97\t2\t66\t5\t99\t6\t52\t9\t71<br />\n",
    "4\t98\t6\t73\t3\t82\t2\t51\t1\t71\t5\t94\t7\t85\t0\t62\t8\t95\t9\t79<br />\n",
    "0\t94\t6\t71\t3\t81\t7\t85\t1\t66\t2\t90\t4\t76\t5\t58\t8\t93\t9\t97<br />\n",
    "3\t50\t0\t59\t1\t82\t8\t67\t7\t56\t9\t96\t6\t58\t4\t81\t5\t59\t2\t96<br />\n",
    ":::"
   ]
  },
  {
   "attachments": {},
   "cell_type": "markdown",
   "metadata": {},
   "source": [
    "Suppose this instance data is saved in a file named *abz5.txt* and the code below defines an utility function to read and parse the instance for later use."
   ]
  },
  {
   "cell_type": "code",
   "execution_count": 13,
   "metadata": {},
   "outputs": [],
   "source": [
    "def read_jssp_instance(filename: str):\n",
    "    with open(filename) as f:\n",
    "        num_jobs, num_machines = [int(x) for x in next(f).split()]\n",
    "        operations = []\n",
    "        for line in f:\n",
    "            info = [int(x) for x in line.split()]\n",
    "            arr = [(info[2 * m], info[2 * m + 1]) \n",
    "                    for m in range(num_machines)]\n",
    "            operations.append(arr)\n",
    "    return num_jobs, num_machines, operations\n",
    "\n",
    "# read and parse the data\n",
    "filename = './data/jssp/abz5.txt'\n",
    "num_jobs, num_machines, operations = read_jssp_instance(filename)"
   ]
  },
  {
   "attachments": {},
   "cell_type": "markdown",
   "metadata": {},
   "source": [
    "We present here three classical formulations of the JSSP from the literature and implement them using Google OR-Tools.\n",
    "\n",
    "1. Disjunctive model\n",
    "\n",
    "This model is taken from @ku_mixed_2016 and @manne_job-shop_1960. \n",
    "The decision variables are defined as follows:\n",
    "\n",
    "- $x_{ij}$: the processing starting time of job $j$ on machine $i$\n",
    "- $z_{ijk}$: a binary variable that equals 1 if job $j$ precedes job $k$ on machine $i$\n",
    "\n",
    "The disjunctive model can then be stated as below."
   ]
  },
  {
   "attachments": {},
   "cell_type": "markdown",
   "metadata": {},
   "source": [
    "\\begin{align}\n",
    "    \\text{min.} &\\quad C_{max} \\label{jsp-dis-obj}\\\\\n",
    "    \\text{s.t.} &\\quad x_{ij} \\geq 0, \\ \\forall j \\in \\mathcal{J}, i \\in \\mathcal{M} \\label{jsp-dis-cons1}\\\\\n",
    "    &\\quad x_{o_h^j, j} \\geq x_{o_{h-1}^j, j} + p_{o_{h-1}^j, j}, \\ \\forall j \\in \\mathcal{J}, h = 2, \\cdots, m \\label{jsp-dis-cons2}\\\\\n",
    "    &\\quad x_{ij} \\geq x_{ik} + p_{ik} - V \\cdot z_{ijk}, \\ \\forall i \\in \\mathcal{M}, j, k \\in \\mathcal{J}, j < k  \\label{jsp-dis-cons3}\\\\\n",
    "    &\\quad x_{ik} \\geq x_{ij} + p_{ij} - V \\cdot (1 - z_{ijk}), \\ \\forall i \\in \\mathcal{M}, j, k \\in \\mathcal{J}, j < k  \\label{jsp-dis-cons4}\\\\\n",
    "    &\\quad C_{max} \\geq x_{o_m^j, j} + p_{o_m^j, j}, \\ \\forall j \\in \\mathcal{J}  \\label{jsp-dis-cons5}\\\\\n",
    "    &\\quad z_{ijk} \\in \\{0, 1\\}, \\ \\forall i \\in \\mathcal{M}, j, k \\in \\mathcal{J} \\label{jsp-dis-cons6}\n",
    "\\end{align}\n",
    "\n",
    "The objective \\eqref{jsp-dis-obj} aims to minimize the maximal completion time of any job $j \\in \\mathcal{J}$.\n",
    "Constraints \\eqref{jsp-dis-cons1} require that all the job processing starting time must not be negative values.\n",
    "Constraints \\eqref{jsp-dis-cons2} enforce the sequencing order among operations for every job, which state that the $h$-th operation of job $j$, $o_h^j$, cannot start unless its preceeding operation $o_{h - 1}^j$ finishes.\n",
    "Constraints \\eqref{jsp-dis-cons3} and \\eqref{jsp-dis-cons4} together make sure that at most one job can be processed on a machine at any time.\n",
    "To be specific, in case of job $j$ preceding job $k$ on machine $i$, $z_{ijk}$ takes the value of 1 and constraints \\eqref{jsp-dis-cons4} ensure that job $k$ won't start processing on machine $i$ unless job $i$ completes processing; Otherwise, $z_{ijk}$ takes the value of 0 and constraints \\eqref{jsp-dis-cons3} require that job $j$ starts processing after job $k$.\n",
    "Note that both constraints are needed when we require $j <> k$; Otherwise, only one of them is needed if we create a constraint for every pair of $j$ and $k$ on a machine.\n",
    "Constraints \\eqref{jsp-dis-cons5} derive $C_{max}$ across all jobs.\n",
    "The last constraints \\eqref{jsp-dis-cons6} state the variable type of $z_{ijk}$."
   ]
  },
  {
   "attachments": {},
   "cell_type": "markdown",
   "metadata": {},
   "source": [
    "Now we are ready to solve this problem using Google OR-Tools based on the disjunctive formulation.\n",
    "The code snippet below shows the complete code."
   ]
  },
  {
   "cell_type": "code",
   "execution_count": null,
   "metadata": {},
   "outputs": [],
   "source": [
    "from ortools.linear_solver import pywraplp\n",
    "\n",
    "solver = pywraplp.Solver.CreateSolver('SCIP')"
   ]
  },
  {
   "attachments": {},
   "cell_type": "markdown",
   "metadata": {},
   "source": [
    "2. Time-indexed model"
   ]
  },
  {
   "attachments": {},
   "cell_type": "markdown",
   "metadata": {},
   "source": [
    "3. Rank-based model"
   ]
  }
 ],
 "metadata": {
  "kernelspec": {
   "display_name": "ortools",
   "language": "python",
   "name": "python3"
  },
  "language_info": {
   "codemirror_mode": {
    "name": "ipython",
    "version": 3
   },
   "file_extension": ".py",
   "mimetype": "text/x-python",
   "name": "python",
   "nbconvert_exporter": "python",
   "pygments_lexer": "ipython3",
   "version": "3.10.9"
  },
  "orig_nbformat": 4,
  "vscode": {
   "interpreter": {
    "hash": "bf48c6200b504fe5a034fe37dc129ab5028b5377bed7e5a0a28d850d57df49a8"
   }
  }
 },
 "nbformat": 4,
 "nbformat_minor": 2
}
