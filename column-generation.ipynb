{
 "cells": [
  {
   "attachments": {},
   "cell_type": "markdown",
   "metadata": {},
   "source": [
    "# Column Generation {#sec-column-gen}"
   ]
  },
  {
   "attachments": {},
   "cell_type": "markdown",
   "metadata": {},
   "source": [
    "Column generation is a technique used in linear programming to solve problems with a large number of variables. Some classical/typical applications of column generation include:\n",
    "\n",
    "Transportation and distribution problems: Column generation can be used to optimize transportation and distribution networks by determining the most efficient routes for goods and services.\n",
    "\n",
    "Crew scheduling: Column generation is useful in determining optimal crew scheduling for airlines, railways, and other transportation companies.\n",
    "\n",
    "Cutting stock problems: In the manufacturing industry, column generation can be used to optimize cutting stock problems by finding the best way to cut raw materials into smaller pieces to minimize waste.\n",
    "\n",
    "Network design: Column generation can be applied to network design problems, such as determining the optimal location of facilities in a supply chain network.\n",
    "\n",
    "Vehicle routing: Column generation can be used to optimize vehicle routing problems, such as determining the best routes for delivery trucks or garbage trucks.\n",
    "\n",
    "Resource allocation: Column generation can also be applied to resource allocation problems, such as scheduling employees or assigning tasks to machines in a production facility.\n",
    "\n",
    "Overall, column generation is a powerful technique that can be applied to a wide range of optimization problems."
   ]
  }
 ],
 "metadata": {
  "kernelspec": {
   "display_name": "ortools",
   "language": "python",
   "name": "python3"
  },
  "language_info": {
   "name": "python",
   "version": "3.10.9 | packaged by conda-forge | (main, Feb  2 2023, 20:26:08) [Clang 14.0.6 ]"
  },
  "orig_nbformat": 4,
  "vscode": {
   "interpreter": {
    "hash": "bf48c6200b504fe5a034fe37dc129ab5028b5377bed7e5a0a28d850d57df49a8"
   }
  }
 },
 "nbformat": 4,
 "nbformat_minor": 2
}
