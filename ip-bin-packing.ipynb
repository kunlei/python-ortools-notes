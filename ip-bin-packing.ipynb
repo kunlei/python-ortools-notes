{
 "cells": [
  {
   "attachments": {},
   "cell_type": "markdown",
   "metadata": {},
   "source": [
    "---\n",
    "format:\n",
    "  html:\n",
    "    code-line-numbers: true\n",
    "    code-overflow: wrap\n",
    "    code-block-bg: true\n",
    "    code-block-border-left: true\n",
    "    highlight-style: Arrow\n",
    "---"
   ]
  },
  {
   "attachments": {},
   "cell_type": "markdown",
   "metadata": {},
   "source": [
    "# The Bin Packing Problem {#sec-bin-packing}"
   ]
  },
  {
   "attachments": {},
   "cell_type": "markdown",
   "metadata": {},
   "source": [
    "The bin packing problem (BPP) is a classic optimization problem in computer science that involves packing a set of items into a minimum number of bins or containers, subject to certain constraints. The problem is also known as the container loading problem, or the bin packing optimization problem.\n",
    "\n",
    "In the bin packing problem, we are given a set of items, each with a weight or size, and a set of bins, each with a fixed capacity. The goal is to pack the items into the bins such that the number of bins used is minimized.\n",
    "\n",
    "The problem is NP-hard, which means that there is no known algorithm that can solve it in polynomial time. However, several heuristic algorithms have been developed that can provide good solutions in practice.\n",
    "\n",
    "The bin packing problem has many real-world applications, such as optimizing the use of storage space in warehouses, minimizing the number of trucks needed for transportation, and optimizing the use of computer memory. It is also a fundamental problem in the study of computational complexity theory and has been extensively studied in the fields of operations research, computer science, and mathematics."
   ]
  },
  {
   "attachments": {},
   "cell_type": "markdown",
   "metadata": {},
   "source": [
    "To formally express the bin packing problem (BPP), we use the notation of a set of items that need to be packed into a set of bins. The set of items is denoted as $\\mathcal{I}$, while the set of bins is denoted as $\\mathcal{J}$. Each item $i$ in $\\mathcal{I}$ has a size denoted as $s_i$, and each bin $j$ in $\\mathcal{J}$ has a fixed capacity denoted as $Q$. \n",
    "To solve the problem, we introduce two decision variables: $y_j$ and $x_{ij}$. \n",
    "\n",
    "- The variable $y_j$ is a binary variable that takes the value 1 if the bin $j$ is used and 0 otherwise. \n",
    "- The variable $x_{ij}$ is a binary variable that takes the value 1 if item $i$ is placed into bin $j$ and 0 otherwise. \n",
    "\n",
    "Using these decision variables, the BPP can be formulated as follows."
   ]
  },
  {
   "attachments": {},
   "cell_type": "markdown",
   "metadata": {},
   "source": [
    "\\begin{align}\n",
    "    \\text{min.} &\\quad \\sum_{j \\in \\mathcal{J}} y_j \\label{bin-obj} \\\\\n",
    "    \\text{s.t.} &\\quad \\sum_{i \\in \\mathcal{I}} s_i x_{ij} \\leq Q y_j, \\ \\forall j \\in \\mathcal{J} \\label{bin-cons1} \\\\\n",
    "    &\\quad \\sum_{j \\in \\mathcal{J}} x_{ij} = 1, \\ \\forall i \\in \\mathcal{I} \\label{bin-cons2} \\\\\n",
    "    &\\quad y_j \\in \\{0, 1\\}, \\ \\forall j \\in \\mathcal{J} \\label{bin-cons3} \\\\\n",
    "    &\\quad x_{ij} \\in \\{0, 1\\}, \\ \\forall i \\in \\mathcal{I}, j \\in \\mathcal{J} \\label{bin-cons4}\n",
    "\\end{align}"
   ]
  },
  {
   "attachments": {},
   "cell_type": "markdown",
   "metadata": {},
   "source": [
    "The objective function of the problem is to minimize the number of bins used, which is represented by the summation of the binary decision variable $y_j$, where $j$ denotes the bins used in the solution.\n",
    "\n",
    "The problem has four constraints that need to be satisfied. The first constraint (\\ref{bin-cons1}) ensures that the total size of items placed in each bin $j$ does not exceed its capacity $Q$, multiplied by the binary decision variable $y_j$. This constraint ensures that items are only placed in bins that are actually used, i.e., those for which $y_j=1$. The second constraint (\\ref{bin-cons2}) ensures that each item is placed in exactly one bin. The third constraint (\\ref{bin-cons3}) restricts the binary variable $y_j$ to only take the values 0 or 1. This constraint ensures that only the used bins are counted in the objective function. The fourth constraint (\\ref{bin-cons4}) restricts the binary variable $x_{ij}$ to only take the values 0 or 1. This constraint ensures that each item is either placed in a bin or not.\n",
    "\n"
   ]
  },
  {
   "attachments": {},
   "cell_type": "markdown",
   "metadata": {},
   "source": [
    "The following Python class `BppDataCenter` is designed to hold data for an instance of the bin packing problem. The constructor of the class takes in four arguments: `num_bins`, `num_items`, `bin_capacity`, and `item_sizes`.\n",
    "\n",
    "- `num_bins` is an integer that specifies the number of bins available in the problem instance.\n",
    "- `num_items` is an integer that specifies the number of items that need to be packed into the bins.\n",
    "- `bin_capacity` is an integer that specifies the maximum capacity of each bin.\n",
    "- `item_sizes` is a list of integers that specifies the size of each item.\n",
    "\n",
    "The class has four properties that allow access to the instance variables:\n",
    "\n",
    "- `num_bins` returns the number of bins.\n",
    "- `num_items` returns the number of items.\n",
    "- `bin_capacity` returns the maximum capacity of each bin.\n",
    "- `item_sizes` returns the list of item sizes.\n",
    "\n",
    "Overall, this class is a convenient way to encapsulate the data of a bin packing problem instance in a single object, making it easier to pass the data to functions or algorithms that solve the problem."
   ]
  },
  {
   "cell_type": "code",
   "execution_count": 3,
   "metadata": {},
   "outputs": [],
   "source": [
    "class BppDataCenter:\n",
    "    \n",
    "    def __init__(self, num_bins,\n",
    "                num_items,\n",
    "                bin_capacity,\n",
    "                item_sizes):\n",
    "        self._num_bins = num_bins\n",
    "        self._num_items = num_items\n",
    "        self._bin_capacity = bin_capacity\n",
    "        self._item_sizes = item_sizes\n",
    "        \n",
    "    @property\n",
    "    def num_bins(self): return self._num_bins\n",
    "    \n",
    "    @property\n",
    "    def num_items(self): return self._num_items\n",
    "    \n",
    "    @property\n",
    "    def bin_capacity(self): return self._bin_capacity\n",
    "    \n",
    "    @property\n",
    "    def item_sizes(self): return self._item_sizes"
   ]
  },
  {
   "attachments": {},
   "cell_type": "markdown",
   "metadata": {},
   "source": [
    "This Python class `BppSolver` uses the Google OR-Tools library to solve the Bin Packing Problem. It takes an instance of `BppDataCenter` class as input, which holds the problem data. The class has several methods to build the optimization model, solve it, and return the optimal objective value, variables and constraints.\n",
    "\n",
    "The `build_model()` method creates the optimization model by first initializing a solver object, then creating decision variables using Boolean variables `BoolVar()`, defining the objective function using the `Minimize()` method, and defining constraints using the `Add()` method.\n",
    "\n",
    "The `optimize()` method solves the optimization model using the `Solve()` method of the solver object, and returns the optimal objective value, variables, and constraints. It uses the `solution_value()` method of the variables to extract the optimal values of the variables.\n",
    "\n",
    "The `create_variables()` method creates decision variables for the model using `BoolVar()` method from the solver object. It creates binary variables $y$ and $x$ for the problem. Variable $y$ indicates whether a bin is used or not, while variable $x$ indicates whether an item is placed in a particular bin.\n",
    "\n",
    "The `create_objective()` method creates an objective function for the model using the Minimize method. It aims to minimize the number of used bins.\n",
    "\n",
    "The `create_constraints()` method creates constraints for the model using the Add method. It creates two constraints for each bin. The first constraint ensures that the sum of the sizes of the items placed in a bin does not exceed the bin capacity. The second constraint ensures that each item is placed in exactly one bin."
   ]
  },
  {
   "cell_type": "code",
   "execution_count": 4,
   "metadata": {},
   "outputs": [],
   "source": [
    "import numpy as np\n",
    "from itertools import product\n",
    "from ortools.linear_solver import pywraplp\n",
    "\n",
    "class BppSolver:\n",
    "    \n",
    "    def __init__(self, data_center):\n",
    "        self._data_center = data_center\n",
    "        \n",
    "        self._solver = None\n",
    "        self._var_y = None\n",
    "        self._var_x = None\n",
    "        \n",
    "        self._opt_obj = None\n",
    "        self._opt_y = None\n",
    "        self._opt_x = None\n",
    "        \n",
    "    def build_model(self):\n",
    "        self._solver = pywraplp.Solver.CreateSolver('SCIP')\n",
    "        self._create_variables()\n",
    "        self._create_objective()\n",
    "        self._create_constraints()\n",
    "        \n",
    "    def optimize(self):\n",
    "        num_bins = self._data_center.num_bins\n",
    "        num_items = self._data_center.num_items\n",
    "        \n",
    "        status = self._solver.Solve()\n",
    "        if status == pywraplp.Solver.OPTIMAL:\n",
    "            self._opt_obj = self._solver.Objective().Value()\n",
    "            self._opt_y = [\n",
    "                self._var_y[b].solution_value()\n",
    "                for b in range(num_bins)\n",
    "            ]\n",
    "            self._opt_x = np.zeros((num_items, num_bins))\n",
    "            for i, b in product(range(num_items),\n",
    "                                range(num_bins)):\n",
    "                self._opt_x[i][b] = \\\n",
    "                    self._var_x[i][b].solution_value()\n",
    "        \n",
    "    def _create_variables(self):\n",
    "        num_bins = self._data_center.num_bins\n",
    "        self._var_y = [\n",
    "            self._solver.BoolVar(name=f'y_{b}')\n",
    "            for b in range(num_bins)\n",
    "        ]\n",
    "        num_items = self._data_center.num_items\n",
    "        self._var_x = np.empty((num_items, num_bins),\n",
    "                            dtype=object)\n",
    "        for i, b in product(range(num_items),\n",
    "                            range(num_bins)):\n",
    "            self._var_x[i][b] = \\\n",
    "                self._solver.BoolVar(name=f'x_{i, b}')\n",
    "        \n",
    "    def _create_objective(self):\n",
    "        self._solver.Minimize(\n",
    "            self._solver.Sum(\n",
    "                self._var_y\n",
    "            )\n",
    "        )\n",
    "        \n",
    "    def _create_constraints(self):\n",
    "        num_bins = self._data_center.num_bins\n",
    "        num_items = self._data_center.num_items\n",
    "        bin_capacity = self._data_center.bin_capacity\n",
    "        item_sizes = self._data_center.item_sizes\n",
    "        for b in range(num_bins):\n",
    "            expr = [\n",
    "                item_sizes[i] *\n",
    "                self._var_x[i][b]\n",
    "                for i in range(num_items)\n",
    "            ]\n",
    "            self._solver.Add(\n",
    "                self._solver.Sum(expr) <= \\\n",
    "                    bin_capacity * self._var_y[b]\n",
    "            )\n",
    "            \n",
    "        for i in range(num_items):\n",
    "            expr = [\n",
    "                self._var_x[i][b]\n",
    "                for b in range(num_bins)\n",
    "            ]\n",
    "            self._solver.Add(\n",
    "                self._solver.Sum(expr) == 1\n",
    "            )\n",
    "        "
   ]
  },
  {
   "attachments": {},
   "cell_type": "markdown",
   "metadata": {},
   "source": [
    "In the code below, we try to solve a BPP instance using the above class.\n",
    "The file *binpack1.txt* contains several instances and they are all too large to solve within reasonable time.\n",
    "We will solve a truncated version of the first instance in the file by considering only the first 15 items.\n",
    "The optimal objective value is 6."
   ]
  },
  {
   "cell_type": "code",
   "execution_count": 10,
   "metadata": {},
   "outputs": [
    {
     "name": "stdout",
     "output_type": "stream",
     "text": [
      "Solving instance:  u120_00 \n",
      "Optimal objective value = 6.0\n"
     ]
    }
   ],
   "source": [
    "import re\n",
    "\n",
    "data_file = \"./data/bpp/binpack1.txt\"\n",
    "\n",
    "with open(data_file) as f:\n",
    "    num_instanes = int(f.readline())\n",
    "    \n",
    "    for inst in range(num_instanes):\n",
    "        inst_name = f.readline()[:-1]\n",
    "        print(f\"Solving instance: {inst_name}\")\n",
    "        bin_capacity, \\\n",
    "        num_items, \\\n",
    "        min_num_bins = f.readline().split()\n",
    "        sizes = []\n",
    "        for i in range(int(num_items)):\n",
    "            line = f.readline()\n",
    "            number = int(re.findall(r'\\d+', line)[0])\n",
    "            sizes.append(number)\n",
    "        \n",
    "        data_center = BppDataCenter(\n",
    "                    num_bins=int(min_num_bins),\n",
    "                    num_items=15,\n",
    "                    bin_capacity=int(bin_capacity),\n",
    "                    item_sizes=sizes\n",
    "                )\n",
    "\n",
    "        solver = BppSolver(data_center)                       \n",
    "        solver.build_model()\n",
    "        solver.optimize()\n",
    "        print(f'Optimal objective value = {solver._opt_obj}')\n",
    "        break"
   ]
  }
 ],
 "metadata": {
  "kernelspec": {
   "display_name": "ortools",
   "language": "python",
   "name": "python3"
  },
  "language_info": {
   "codemirror_mode": {
    "name": "ipython",
    "version": 3
   },
   "file_extension": ".py",
   "mimetype": "text/x-python",
   "name": "python",
   "nbconvert_exporter": "python",
   "pygments_lexer": "ipython3",
   "version": "3.10.9"
  },
  "orig_nbformat": 4,
  "vscode": {
   "interpreter": {
    "hash": "bf48c6200b504fe5a034fe37dc129ab5028b5377bed7e5a0a28d850d57df49a8"
   }
  }
 },
 "nbformat": 4,
 "nbformat_minor": 2
}
