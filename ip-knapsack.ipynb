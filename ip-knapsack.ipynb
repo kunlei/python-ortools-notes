{
 "cells": [
  {
   "attachments": {},
   "cell_type": "markdown",
   "metadata": {},
   "source": [
    "---\n",
    "format:\n",
    "  html:\n",
    "    code-line-numbers: true\n",
    "    code-overflow: wrap\n",
    "    code-block-bg: true\n",
    "    code-block-border-left: true\n",
    "    highlight-style: Arrow\n",
    "---"
   ]
  },
  {
   "attachments": {},
   "cell_type": "markdown",
   "metadata": {},
   "source": [
    "# The Knapsack Problem {#sec-knapsack}"
   ]
  },
  {
   "attachments": {},
   "cell_type": "markdown",
   "metadata": {},
   "source": [
    "The knapsack problem is a classic optimization problem in the field of operations research. \n",
    "It involves selecting a subset of items from a given set of items to maximize the total value/profit while satisfying certain constraints.\n",
    "This problem is NP-hard, meaning that it is computationally difficult to find an optimal solution for large instances of the problem. Various algorithms have been developed to solve this problem, including dynamic programming, branch and bound, and heuristic methods. The knapsack problem has applications in a variety of fields, including computer science, finance, and logistics, among others.\n",
    "In this chapter, we'll examine two variants of the knapsack problem, namely, the single-dimensional knapsack problem and the multi-dimensional knapsack problem."
   ]
  },
  {
   "attachments": {},
   "cell_type": "markdown",
   "metadata": {},
   "source": [
    "## Single-dimensional Knapsack Problem"
   ]
  },
  {
   "attachments": {},
   "cell_type": "markdown",
   "metadata": {},
   "source": [
    "In the single-dimensional knapsack problem (SDKP), we are given a set of $n$ items, each with a weight $w_i$ and a value $v_i$, and a knapsack with a maximum weight capacity $W$, the goal is to select a subset of items such that the sum of their weights is less than or equal to $W$, and the sum of their values is maximized.\n",
    "The SDKP can be formally formulated as follows (@dudzinski_exact_1987)."
   ]
  },
  {
   "attachments": {},
   "cell_type": "markdown",
   "metadata": {},
   "source": [
    "\\begin{align}\n",
    "    \\text{max.} &\\quad \\sum_{i = 1}^nv_i x_i \\label{knapsack1-obj} \\\\\n",
    "    \\text{s.t.} &\\quad \\sum_{i=1}^n w_i x_i \\leq W \\label{knapsack1-cons1} \\\\\n",
    "    &\\quad x_i \\in \\{0, 1\\}, \\ i = 1, \\cdots, n \\label{knapsack1-cons2}\n",
    "\\end{align}"
   ]
  },
  {
   "attachments": {},
   "cell_type": "markdown",
   "metadata": {},
   "source": [
    "In the model, the $n$ represents the total amount of items that are being considered. \n",
    "The binary decision variable $x_i$ has a value of 1 when item $i$ is chosen, and 0 when it's not. The value or profit of selecting item $i$ is indicated by $v_i$, and the weight of item $i$ is represented by $w_i$. Finally, $W$ specifies the maximum weight capacity of the knapsack."
   ]
  },
  {
   "attachments": {},
   "cell_type": "markdown",
   "metadata": {},
   "source": [
    "To represent the list of items in the problem, we first define a class `Item` that has three attributes:\n",
    "\n",
    "- `_index`: this is the index of an item and starts from 0\n",
    "- `_profit`: this is the profit or value of selecting the item\n",
    "- `_properties`: this dictionary saves an item's properties, including weight"
   ]
  },
  {
   "cell_type": "code",
   "execution_count": 82,
   "metadata": {},
   "outputs": [],
   "source": [
    "class Item:\n",
    "    \"\"\"An item represents an object that can be placed within a knapsack\n",
    "    \"\"\"\n",
    "    \n",
    "    def __init__(self, index, profit):\n",
    "        \"\"\"constructor\n",
    "\n",
    "        Args:\n",
    "            index (int): index of the item, starting from 0\n",
    "            profit (float): profit of choosing the item\n",
    "        \"\"\"\n",
    "        self._index = index\n",
    "        self._profit = profit\n",
    "        self._properties = {}\n",
    "    \n",
    "    @property\n",
    "    def index(self): return self._index\n",
    "    \n",
    "    @property\n",
    "    def profit(self): return self._profit\n",
    "    \n",
    "    def get_property(self, name):\n",
    "        return self._properties[name]\n",
    "\n",
    "    def set_property(self, name, value):\n",
    "        self._properties[name] = value\n",
    "        \n",
    "    def __str__(self):\n",
    "        p_str = \"\"\n",
    "        for attr in self._properties:\n",
    "            p_str += f'{attr}: {self._properties[attr]}'\n",
    "        return f\"index: {self._index}, profit: {self._profit}, \" + \\\n",
    "                p_str"
   ]
  },
  {
   "attachments": {},
   "cell_type": "markdown",
   "metadata": {},
   "source": [
    "Next, we define a class `KnapsackDataCenter` to hold all the information we need to solve a knapsack problem.\n",
    "The class has two attributes:\n",
    "\n",
    "- `_items`: this is the full list of items being considered for putting into the knapsack\n",
    "- `_capacities`: this saves the maximal capacity of the knapsack corresponding to different properties, including weight.\n",
    "\n",
    "The class also defines a method `read_data_set_f()` that reads and parses some benchmarking instancese available online."
   ]
  },
  {
   "cell_type": "code",
   "execution_count": 79,
   "metadata": {},
   "outputs": [],
   "source": [
    "class KnapsackDataCenter:\n",
    "    \n",
    "    def __init__(self):\n",
    "        self._items = []\n",
    "        self._capacities = {}\n",
    "        \n",
    "    def read_data_set_f(self, data_file: str):\n",
    "        \"\"\"this function reads and parses data presented in \n",
    "        http://artemisa.unicauca.edu.co/~johnyortega/instances_01_KP/\n",
    "\n",
    "        Args:\n",
    "            data_file (str): path to the data file\n",
    "            num_items (int): number of items in the file\n",
    "            capacity (int): knapsack capacity\n",
    "        \"\"\"\n",
    "        with open(data_file) as f:\n",
    "            first_line = f.readline()\n",
    "            num_items, capacity = first_line.split()\n",
    "            self._capacities['weight'] = float(capacity)\n",
    "            \n",
    "            item_idx = 0\n",
    "            rest_lines = f.readlines()\n",
    "            for line in rest_lines:\n",
    "                profit, weight = line.split()\n",
    "                item = Item(item_idx, float(profit))\n",
    "                item.set_property('weight', float(weight))\n",
    "                self._items.append(item)\n",
    "                item_idx += 1\n",
    "                if item_idx == int(num_items): break\n",
    "                \n",
    "    @property\n",
    "    def items(self): return self._items\n",
    "    \n",
    "    @property\n",
    "    def capacities(self): return self._capacities"
   ]
  },
  {
   "attachments": {},
   "cell_type": "markdown",
   "metadata": {},
   "source": [
    "The code snippet below reads the instance `f1_l-d_kp_10_269` and shows its key information."
   ]
  },
  {
   "cell_type": "code",
   "execution_count": 84,
   "metadata": {},
   "outputs": [
    {
     "name": "stdout",
     "output_type": "stream",
     "text": [
      "Knapsack info: {'weight': 269.0}\n",
      "Item info: \n",
      "index: 0, profit: 55.0, weight: 95.0\n",
      "index: 1, profit: 10.0, weight: 4.0\n",
      "index: 2, profit: 47.0, weight: 60.0\n",
      "index: 3, profit: 5.0, weight: 32.0\n",
      "index: 4, profit: 4.0, weight: 23.0\n",
      "index: 5, profit: 50.0, weight: 72.0\n",
      "index: 6, profit: 8.0, weight: 80.0\n",
      "index: 7, profit: 61.0, weight: 62.0\n",
      "index: 8, profit: 85.0, weight: 65.0\n",
      "index: 9, profit: 87.0, weight: 46.0\n"
     ]
    }
   ],
   "source": [
    "data_file = \"./data/knapsack/instances_01_KP/low-dimensional/f1_l-d_kp_10_269\"\n",
    "\n",
    "data_center = KnapsackDataCenter()\n",
    "data_center.read_data_set_f(data_file)\n",
    "\n",
    "capacities = data_center.capacities\n",
    "print(f\"Knapsack info: {capacities}\")\n",
    "\n",
    "items = data_center.items\n",
    "print(\"Item info: \")\n",
    "for item in items:\n",
    "    print(item)"
   ]
  },
  {
   "attachments": {},
   "cell_type": "markdown",
   "metadata": {},
   "source": [
    "Now we are ready to solve the SDKP using OR-Tools.\n",
    "The code below shows the completion definition of the class `SDKnapsackSolver` which has a number of attributes:\n",
    "\n",
    "- `_data_center`: this should be an instantiated `KnapsackDataCenter` object\n",
    "- `_solver`: this is the solver object used for modeling and problem solving\n",
    "- `_var_x`: this is the object that holds all the decision variables used in the model\n",
    "- `_opt_obj`: this is the optimal solution value found by the solver\n",
    "- `_opt_x`: this is the optimal solution identified when the solving process completes"
   ]
  },
  {
   "attachments": {},
   "cell_type": "markdown",
   "metadata": {},
   "source": [
    "The class has two major methods:\n",
    "\n",
    "- `build_model()`: this is responsible for instantiating the solver object, creating variables, generating constraints and defining the objective function\n",
    "- `optimize()`: this is the place where the OR-Tools searches for the optimal solution"
   ]
  },
  {
   "cell_type": "code",
   "execution_count": 87,
   "metadata": {},
   "outputs": [],
   "source": [
    "from ortools.linear_solver import pywraplp\n",
    "\n",
    "class SDKnapsackSolver:\n",
    "    \n",
    "    def __init__(self, data_center):\n",
    "        self._data_center = data_center\n",
    "\n",
    "        self._solver = None\n",
    "        self._var_x = None\n",
    "\n",
    "        self._opt_obj = None\n",
    "        self._opt_x = None\n",
    "        \n",
    "    def build_model(self):\n",
    "        self._solver = pywraplp.Solver.CreateSolver('SCIP')\n",
    "\n",
    "        self._create_variables()\n",
    "        self._create_objective()\n",
    "        self._create_constraints()\n",
    "        \n",
    "    def optimize(self):\n",
    "        status = self._solver.Solve()\n",
    "        if status == pywraplp.Solver.OPTIMAL:\n",
    "            self._opt_obj = self._solver.Objective().Value()\n",
    "            items = self._data_center.items\n",
    "            self._opt_x = [\n",
    "                    self._var_x[item.index].solution_value()\n",
    "                    for item in items\n",
    "                ]\n",
    "    \n",
    "    def _create_variables(self):\n",
    "        items = self._data_center.items\n",
    "        self._var_x = [self._solver.BoolVar(name=f'x_{i}')\n",
    "                    for i, item in enumerate(items)]\n",
    "    \n",
    "    def _create_objective(self):\n",
    "        items = self._data_center.items\n",
    "        obj_expr = [\n",
    "                self._var_x[item.index] * item.profit\n",
    "                for item in items\n",
    "                ]\n",
    "        self._solver.Maximize(self._solver.Sum(obj_expr))\n",
    "        \n",
    "    def _create_constraints(self):\n",
    "        items = self._data_center.items\n",
    "        capacities = self._data_center.capacities\n",
    "        expr = [\n",
    "            self._var_x[item.index] * \n",
    "                item.get_property('weight')\n",
    "            for item in items\n",
    "            ]\n",
    "        self._solver.Add(\n",
    "                self._solver.Sum(expr) <= capacities['weight']\n",
    "            )\n",
    "        \n",
    "    @property\n",
    "    def opt_obj(self): return self._opt_obj\n",
    "    \n",
    "    def get_num_chosen_items(self):\n",
    "        return sum(self._opt_x)"
   ]
  },
  {
   "attachments": {},
   "cell_type": "markdown",
   "metadata": {},
   "source": [
    "We employ the model to tackle 10 benchmark instances that were downloaded from an online source (http://artemisa.unicauca.edu.co/~johnyortega/instances_01_KP/). \n",
    "@tbl-knapsack-data displays the computational results.\n",
    "\n",
    "More specifically, the first column of the table lists the names of the instances, while the second and third columns indicate the number of items and the capacity of the knapsack for each instance, respectively. The last two columns report the optimal solution's objective value and the number of selected items, respectively."
   ]
  },
  {
   "cell_type": "code",
   "execution_count": 98,
   "metadata": {},
   "outputs": [
    {
     "data": {
      "text/markdown": [
       "Instance              No. of Items    Capacity    Optimal Value    No. of Chosen Items\n",
       "------------------  --------------  ----------  ---------------  ---------------------\n",
       "f1_l-d_kp_10_269                10         269          295                          6\n",
       "f2_l-d_kp_20_878                20         878         1024                         17\n",
       "f3_l-d_kp_4_20                   4          20           35                          3\n",
       "f4_l-d_kp_4_11                   4          11           23                          2\n",
       "f5_l-d_kp_15_375                15         375          481.069                      9\n",
       "f6_l-d_kp_10_60                 10          60           52                          7\n",
       "f7_l-d_kp_7_50                   7          50          107                          2\n",
       "f8_l-d_kp_23_10000              23       10000         9767                         11\n",
       "f9_l-d_kp_5_80                   5          80          130                          4\n",
       "f10_l-d_kp_20_879               20         879         1025                         17"
      ],
      "text/plain": [
       "<IPython.core.display.Markdown object>"
      ]
     },
     "execution_count": 98,
     "metadata": {},
     "output_type": "execute_result"
    }
   ],
   "source": [
    "# | echo: false\n",
    "# | label: tbl-knapsack-data\n",
    "# | tbl-cap: Computational results of Knapsack problems\n",
    "\n",
    "from IPython.display import Markdown\n",
    "from tabulate import tabulate\n",
    "import os\n",
    "import re\n",
    "\n",
    "# helper function to perform sort\n",
    "def num_sort(test_string):\n",
    "    return list(map(int, re.findall(r'\\d+', test_string)))[0]\n",
    "\n",
    "data_dir = \"./data/knapsack/instances_01_KP/low-dimensional/\"\n",
    "dir_list = os.listdir(data_dir)\n",
    "dir_list.sort(key=num_sort)\n",
    "\n",
    "table_data = []\n",
    "for file in dir_list:\n",
    "    data_file = os.path.join(data_dir, file)\n",
    "\n",
    "    data_center = KnapsackDataCenter()\n",
    "    data_center.read_data_set_f(data_file)\n",
    "\n",
    "    knapsack_solver = SDKnapsackSolver(data_center)\n",
    "    knapsack_solver.build_model()\n",
    "    knapsack_solver.optimize()\n",
    "    \n",
    "    row_data = []\n",
    "    row_data.append(file)\n",
    "    row_data.append(len(data_center.items))\n",
    "    row_data.append(data_center.capacities['weight'])\n",
    "    row_data.append(knapsack_solver.opt_obj)\n",
    "    row_data.append(knapsack_solver.get_num_chosen_items())\n",
    "    table_data.append(row_data)\n",
    "\n",
    "col_names = [\"Instance\", \"No. of Items\", \"Capacity\", \"Optimal Value\", \"No. of Chosen Items\"]\n",
    "Markdown(tabulate(table_data, headers=col_names))"
   ]
  },
  {
   "attachments": {},
   "cell_type": "markdown",
   "metadata": {},
   "source": [
    "## Multi-dimensional Knapsack Problem"
   ]
  }
 ],
 "metadata": {
  "kernelspec": {
   "display_name": "ortools",
   "language": "python",
   "name": "python3"
  },
  "language_info": {
   "codemirror_mode": {
    "name": "ipython",
    "version": 3
   },
   "file_extension": ".py",
   "mimetype": "text/x-python",
   "name": "python",
   "nbconvert_exporter": "python",
   "pygments_lexer": "ipython3",
   "version": "3.10.9"
  },
  "orig_nbformat": 4,
  "vscode": {
   "interpreter": {
    "hash": "bf48c6200b504fe5a034fe37dc129ab5028b5377bed7e5a0a28d850d57df49a8"
   }
  }
 },
 "nbformat": 4,
 "nbformat_minor": 2
}
