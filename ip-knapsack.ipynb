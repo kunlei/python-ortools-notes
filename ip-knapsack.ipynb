{
 "cells": [
  {
   "attachments": {},
   "cell_type": "markdown",
   "metadata": {},
   "source": [
    "---\n",
    "format:\n",
    "  html:\n",
    "    code-line-numbers: true\n",
    "    code-overflow: wrap\n",
    "    code-block-bg: true\n",
    "    code-block-border-left: true\n",
    "    highlight-style: Arrow\n",
    "---"
   ]
  },
  {
   "attachments": {},
   "cell_type": "markdown",
   "metadata": {},
   "source": [
    "# The Knapsack Problem {#sec-knapsack}"
   ]
  },
  {
   "attachments": {},
   "cell_type": "markdown",
   "metadata": {},
   "source": [
    "The knapsack problem is a classic optimization problem in the field of operations research. It involves selecting a subset of items from a set of items, each with a certain weight and value, to maximize the total value while staying within a weight constraint.\n",
    "\n",
    "More formally, given a set of $n$ items, each with a weight $w_i$ and a value $v_i$, and a knapsack with a maximum weight capacity $W$, the goal is to select a subset of items such that the sum of their weights is less than or equal to $W$, and the sum of their values is maximized.\n",
    "\n",
    "This problem is NP-hard, meaning that it is computationally difficult to find an optimal solution for large instances of the problem. Various algorithms have been developed to solve this problem, including dynamic programming, branch and bound, and heuristic methods. The knapsack problem has applications in a variety of fields, including computer science, finance, and logistics, among others."
   ]
  },
  {
   "attachments": {},
   "cell_type": "markdown",
   "metadata": {},
   "source": [
    "\\begin{align}\n",
    "    \\text{max.} &\\quad \\sum_{i = 1}^nv_i x_i \\label{knapsack-obj} \\\\\n",
    "    \\text{s.t.} &\\quad \\sum_{i=1}^n w_i x_i \\leq W \\label{knapsack-cons1} \\\\\n",
    "    &\\quad x_i \\in \\{0, 1\\}, \\ i = 1, \\cdots, n\n",
    "\\end{align}"
   ]
  },
  {
   "cell_type": "code",
   "execution_count": 55,
   "metadata": {},
   "outputs": [],
   "source": [
    "class Item:\n",
    "    \"\"\"An item represents an object that can be placed within a knapsack\n",
    "    \"\"\"\n",
    "    \n",
    "    def __init__(self, index, profit):\n",
    "        \"\"\"constructor\n",
    "\n",
    "        Args:\n",
    "            index (int): index of the item, starting from 0\n",
    "            profit (float): profit of choosing the item\n",
    "        \"\"\"\n",
    "        self._index = index\n",
    "        self._profit = profit\n",
    "        self._attributes = {}\n",
    "    \n",
    "    @property\n",
    "    def index(self): return self._index\n",
    "    \n",
    "    @property\n",
    "    def profit(self): return self._profit\n",
    "    \n",
    "    def get_attribute(self, name):\n",
    "        return self._attributes[name]\n",
    "\n",
    "    def set_attribute(self, name, value):\n",
    "        self._attributes[name] = value\n",
    "        \n",
    "    def __str__(self):\n",
    "        attribute_str = \"\"\n",
    "        for attr in self._attributes:\n",
    "            attribute_str += f'{attr}: {self._attributes[attr]}'\n",
    "        return f\"index: {self._index}, profit: {self._profit}, \" + attribute_str"
   ]
  },
  {
   "cell_type": "code",
   "execution_count": 65,
   "metadata": {},
   "outputs": [],
   "source": [
    "class KnapsackDataCenter:\n",
    "    \n",
    "    def __init__(self):\n",
    "        self._items = []\n",
    "        self._capacities = {}\n",
    "        \n",
    "    def read_data_set_f(self, data_file: str):\n",
    "        \"\"\"this function aims to read and parse data presented in \n",
    "        http://artemisa.unicauca.edu.co/~johnyortega/instances_01_KP/\n",
    "\n",
    "        Args:\n",
    "            data_file (str): path to the data file\n",
    "            num_items (int): number of items in the file\n",
    "            capacity (int): knapsack capacity\n",
    "        \"\"\"\n",
    "        with open(data_file) as f:\n",
    "            first_line = f.readline()\n",
    "            num_items, capacity = first_line.split()\n",
    "            self._capacities['weight'] = float(capacity)\n",
    "            \n",
    "            item_idx = 0\n",
    "            rest_lines = f.readlines()\n",
    "            for line in rest_lines:\n",
    "                profit, weight = line.split()\n",
    "                item = Item(item_idx, float(profit))\n",
    "                item.set_attribute('weight', float(weight))\n",
    "                self._items.append(item)\n",
    "                item_idx += 1\n",
    "                if item_idx == int(num_items): break\n",
    "                \n",
    "    @property\n",
    "    def items(self): return self._items\n",
    "    \n",
    "    @property\n",
    "    def capacities(self): return self._capacities"
   ]
  },
  {
   "cell_type": "code",
   "execution_count": 59,
   "metadata": {},
   "outputs": [
    {
     "name": "stdout",
     "output_type": "stream",
     "text": [
      "index: 0, profit: 55.0, weight: 95.0\n",
      "index: 1, profit: 10.0, weight: 4.0\n",
      "index: 2, profit: 47.0, weight: 60.0\n",
      "index: 3, profit: 5.0, weight: 32.0\n",
      "index: 4, profit: 4.0, weight: 23.0\n",
      "index: 5, profit: 50.0, weight: 72.0\n",
      "index: 6, profit: 8.0, weight: 80.0\n",
      "index: 7, profit: 61.0, weight: 62.0\n",
      "index: 8, profit: 85.0, weight: 65.0\n",
      "index: 9, profit: 87.0, weight: 46.0\n",
      "{'weight': 269.0}\n"
     ]
    }
   ],
   "source": [
    "data_dir = \"./data/knapsack/instances_01_KP/low-dimensional/\"\n",
    "data_file = \"./data/knapsack/instances_01_KP/low-dimensional/f1_l-d_kp_10_269\"\n",
    "\n",
    "data_center = KnapsackDataCenter()\n",
    "data_center.read_data_set_f(data_file)\n",
    "\n",
    "items = data_center.items\n",
    "capacities = data_center.capacities\n",
    "for item in items:\n",
    "    print(item)\n",
    "print(capacities)"
   ]
  },
  {
   "cell_type": "code",
   "execution_count": 76,
   "metadata": {},
   "outputs": [],
   "source": [
    "from ortools.linear_solver import pywraplp\n",
    "\n",
    "class KnapsackSolver:\n",
    "    \n",
    "    def __init__(self, data_center):\n",
    "        self._data_center = data_center\n",
    "\n",
    "        self._solver = None\n",
    "        self._var_x = None\n",
    "\n",
    "        self._opt_obj = None\n",
    "        self._opt_x = None\n",
    "        \n",
    "    def build_model(self):\n",
    "        self._solver = pywraplp.Solver.CreateSolver('SCIP')\n",
    "\n",
    "        self._create_variables()\n",
    "        self._create_objective()\n",
    "        self._create_constraints()\n",
    "        \n",
    "    def optimize(self):\n",
    "        status = self._solver.Solve()\n",
    "        if status == pywraplp.Solver.OPTIMAL:\n",
    "            self._opt_obj = self._solver.Objective().Value()\n",
    "            items = self._data_center.items\n",
    "            self._opt_x = [self._var_x[item.index].solution_value()\n",
    "                        for item in items]\n",
    "    \n",
    "    def _create_variables(self):\n",
    "        items = self._data_center.items\n",
    "        self._var_x = [self._solver.BoolVar(name=f'x_{i}')\n",
    "                    for i, item in enumerate(items)]\n",
    "    \n",
    "    def _create_objective(self):\n",
    "        items = self._data_center.items\n",
    "        obj_expr = [self._var_x[item.index] * item.profit for item in items]\n",
    "        self._solver.Maximize(self._solver.Sum(obj_expr))\n",
    "        \n",
    "    def _create_constraints(self):\n",
    "        items = self._data_center.items\n",
    "        capacities = self._data_center.capacities\n",
    "        expr = [self._var_x[item.index] * item.get_attribute('weight') for item in items]\n",
    "        self._solver.Add(self._solver.Sum(expr) <= capacities['weight'])\n",
    "        \n",
    "    @property\n",
    "    def opt_obj(self): return self._opt_obj\n",
    "    \n",
    "    def get_num_chosen_items(self):\n",
    "        return sum(self._opt_x)"
   ]
  },
  {
   "cell_type": "code",
   "execution_count": 77,
   "metadata": {},
   "outputs": [
    {
     "data": {
      "text/markdown": [
       "Instance              No. of Items    Capacity    No. of Chosen Items    Optimal Value\n",
       "------------------  --------------  ----------  ---------------------  ---------------\n",
       "f10_l-d_kp_20_879               20         879                     17         1025\n",
       "f1_l-d_kp_10_269                10         269                      6          295\n",
       "f2_l-d_kp_20_878                20         878                     17         1024\n",
       "f3_l-d_kp_4_20                   4          20                      3           35\n",
       "f4_l-d_kp_4_11                   4          11                      2           23\n",
       "f5_l-d_kp_15_375                15         375                      9          481.069\n",
       "f6_l-d_kp_10_60                 10          60                      7           52\n",
       "f7_l-d_kp_7_50                   7          50                      2          107\n",
       "f8_l-d_kp_23_10000              23       10000                     11         9767\n",
       "f9_l-d_kp_5_80                   5          80                      4          130"
      ],
      "text/plain": [
       "<IPython.core.display.Markdown object>"
      ]
     },
     "execution_count": 77,
     "metadata": {},
     "output_type": "execute_result"
    }
   ],
   "source": [
    "# | echo: false\n",
    "# | label: tbl-knapsack-data\n",
    "# | tbl-cap: Computational results of Knapsack problems\n",
    "\n",
    "from IPython.display import Markdown\n",
    "from tabulate import tabulate\n",
    "import os\n",
    "\n",
    "data_dir = \"./data/knapsack/instances_01_KP/low-dimensional/\"\n",
    "dir_list = os.listdir(data_dir)\n",
    "\n",
    "table_data = []\n",
    "for file in sorted(dir_list):\n",
    "    data_file = os.path.join(data_dir, file)\n",
    "\n",
    "    data_center = KnapsackDataCenter()\n",
    "    data_center.read_data_set_f(data_file)\n",
    "\n",
    "    knapsack_solver = KnapsackSolver(data_center)\n",
    "    knapsack_solver.build_model()\n",
    "    knapsack_solver.optimize()\n",
    "    \n",
    "    row_data = []\n",
    "    row_data.append(file)\n",
    "    row_data.append(len(data_center.items))\n",
    "    row_data.append(data_center.capacities['weight'])\n",
    "    row_data.append(knapsack_solver.get_num_chosen_items())\n",
    "    row_data.append(knapsack_solver.opt_obj)\n",
    "    table_data.append(row_data)\n",
    "\n",
    "col_names = [\"Instance\", \"No. of Items\", \"Capacity\", \"No. of Chosen Items\", \"Optimal Value\"]\n",
    "Markdown(tabulate(table_data, headers=col_names))"
   ]
  }
 ],
 "metadata": {
  "kernelspec": {
   "display_name": "ortools",
   "language": "python",
   "name": "python3"
  },
  "language_info": {
   "codemirror_mode": {
    "name": "ipython",
    "version": 3
   },
   "file_extension": ".py",
   "mimetype": "text/x-python",
   "name": "python",
   "nbconvert_exporter": "python",
   "pygments_lexer": "ipython3",
   "version": "3.10.9"
  },
  "orig_nbformat": 4,
  "vscode": {
   "interpreter": {
    "hash": "bf48c6200b504fe5a034fe37dc129ab5028b5377bed7e5a0a28d850d57df49a8"
   }
  }
 },
 "nbformat": 4,
 "nbformat_minor": 2
}
