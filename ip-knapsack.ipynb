{
 "cells": [
  {
   "attachments": {},
   "cell_type": "markdown",
   "metadata": {},
   "source": [
    "---\n",
    "format:\n",
    "  html:\n",
    "    code-line-numbers: true\n",
    "    code-overflow: wrap\n",
    "    code-block-bg: true\n",
    "    code-block-border-left: true\n",
    "    highlight-style: Arrow\n",
    "---"
   ]
  },
  {
   "attachments": {},
   "cell_type": "markdown",
   "metadata": {},
   "source": [
    "# The Knapsack Problem {#sec-knapsack}"
   ]
  },
  {
   "attachments": {},
   "cell_type": "markdown",
   "metadata": {},
   "source": [
    "The knapsack problem is a classic optimization problem in the field of operations research. \n",
    "It involves selecting a subset of items from a given set of items to maximize the total value/profit while satisfying certain constraints.\n",
    "This problem is NP-hard, meaning that it is computationally difficult to find an optimal solution for large instances of the problem. Various algorithms have been developed to solve this problem, including dynamic programming, branch and bound, and heuristic methods. The knapsack problem has applications in a variety of fields, including computer science, finance, and logistics, among others.\n",
    "In this chapter, we'll examine two variants of the knapsack problem, namely, the single-dimensional knapsack problem and the multi-dimensional knapsack problem."
   ]
  },
  {
   "attachments": {},
   "cell_type": "markdown",
   "metadata": {},
   "source": [
    "## Single-dimensional Knapsack Problem"
   ]
  },
  {
   "attachments": {},
   "cell_type": "markdown",
   "metadata": {},
   "source": [
    "In the single-dimensional knapsack problem (SDKP), we are given a set of $n$ items, each with a weight $w_j$ and a value $v_j$, and a knapsack with a maximum weight capacity $W$, the goal is to select a subset of items such that the sum of their weights is less than or equal to $W$, and the sum of their values is maximized.\n",
    "The SDKP can be formally formulated as follows (@dudzinski_exact_1987)."
   ]
  },
  {
   "attachments": {},
   "cell_type": "markdown",
   "metadata": {},
   "source": [
    "\\begin{align}\n",
    "    \\text{max.} &\\quad \\sum_{j = 1}^nv_i x_j \\label{knapsack1-obj} \\\\\n",
    "    \\text{s.t.} &\\quad \\sum_{j=1}^n w_j x_j \\leq W \\label{knapsack1-cons1} \\\\\n",
    "    &\\quad x_j \\in \\{0, 1\\}, \\ j = 1, \\cdots, n \\label{knapsack1-cons2}\n",
    "\\end{align}"
   ]
  },
  {
   "attachments": {},
   "cell_type": "markdown",
   "metadata": {},
   "source": [
    "In the model, the $n$ represents the total amount of items that are being considered. \n",
    "The binary decision variable $x_i$ has a value of 1 when item $i$ is chosen, and 0 when it's not. The value or profit of selecting item $i$ is indicated by $v_i$, and the weight of item $i$ is represented by $w_i$. Finally, $W$ specifies the maximum weight capacity of the knapsack."
   ]
  },
  {
   "attachments": {},
   "cell_type": "markdown",
   "metadata": {},
   "source": [
    "To represent the list of items in the problem, we first define a class `Item` that has three attributes:\n",
    "\n",
    "- `_index`: this is the index of an item and starts from 0\n",
    "- `_profit`: this is the profit or value of selecting the item\n",
    "- `_properties`: this dictionary saves an item's properties, including weight"
   ]
  },
  {
   "cell_type": "code",
   "execution_count": 209,
   "metadata": {},
   "outputs": [],
   "source": [
    "class Item:\n",
    "    \"\"\"An item represents an object that can be placed within a knapsack\n",
    "    \"\"\"\n",
    "    \n",
    "    def __init__(self, index, profit):\n",
    "        \"\"\"constructor\n",
    "\n",
    "        Args:\n",
    "            index (int): index of the item, starting from 0\n",
    "            profit (float): profit of choosing the item\n",
    "        \"\"\"\n",
    "        self._index = index\n",
    "        self._profit = profit\n",
    "        self._class = 0\n",
    "        self._properties = {}\n",
    "    \n",
    "    @property\n",
    "    def index(self): return self._index\n",
    "    \n",
    "    @property\n",
    "    def profit(self): return self._profit\n",
    "    \n",
    "    def get_class(self): return self._class\n",
    "    \n",
    "    def set_class(self, cls): self._class = cls\n",
    "    \n",
    "    def get_property(self, name):\n",
    "        return self._properties[name]\n",
    "\n",
    "    def set_property(self, name, value):\n",
    "        self._properties[name] = value\n",
    "        \n",
    "    def __str__(self):\n",
    "        p_str = \"\"\n",
    "        for attr in self._properties:\n",
    "            p_str += f'{attr}: {self._properties[attr]}'\n",
    "        return f\"index: {self._index}, profit: {self._profit}, \" + \\\n",
    "                p_str"
   ]
  },
  {
   "attachments": {},
   "cell_type": "markdown",
   "metadata": {},
   "source": [
    "Next, we define a class `KnapsackDataCenter` to hold all the information we need to solve a knapsack problem.\n",
    "The class has two attributes:\n",
    "\n",
    "- `_items`: this is the full list of items being considered for putting into the knapsack\n",
    "- `_capacities`: this saves the maximal capacity of the knapsack corresponding to different properties, including weight.\n",
    "\n",
    "The class also defines a method `read_data_set_f()` that reads and parses some benchmarking instancese available online."
   ]
  },
  {
   "cell_type": "code",
   "execution_count": 210,
   "metadata": {},
   "outputs": [],
   "source": [
    "class KnapsackDataCenter:\n",
    "    \n",
    "    def __init__(self):\n",
    "        self._items = []\n",
    "        self._capacities = {}\n",
    "                \n",
    "    @property\n",
    "    def items(self): return self._items\n",
    "    \n",
    "    @property\n",
    "    def capacities(self): return self._capacities"
   ]
  },
  {
   "cell_type": "code",
   "execution_count": 211,
   "metadata": {},
   "outputs": [],
   "source": [
    "class SDKPDataCenter(KnapsackDataCenter):\n",
    "    \n",
    "    def __init__(self):\n",
    "        super().__init__()\n",
    "        \n",
    "    def read_sdkp_dataset_f(self, data_file: str):\n",
    "        \"\"\"this function reads and parses data presented in \n",
    "        http://artemisa.unicauca.edu.co/~johnyortega/instances_01_KP/\n",
    "\n",
    "        Args:\n",
    "            data_file (str): path to the data file\n",
    "            num_items (int): number of items in the file\n",
    "            capacity (int): knapsack capacity\n",
    "        \"\"\"\n",
    "        with open(data_file) as f:\n",
    "            first_line = f.readline()\n",
    "            num_items, capacity = first_line.split()\n",
    "            self._capacities['weight'] = float(capacity)\n",
    "            \n",
    "            item_idx = 0\n",
    "            rest_lines = f.readlines()\n",
    "            for line in rest_lines:\n",
    "                profit, weight = line.split()\n",
    "                item = Item(item_idx, float(profit))\n",
    "                item.set_property('weight', float(weight))\n",
    "                self._items.append(item)\n",
    "                item_idx += 1\n",
    "                if item_idx == int(num_items): break"
   ]
  },
  {
   "attachments": {},
   "cell_type": "markdown",
   "metadata": {},
   "source": [
    "The code snippet below reads the instance `f1_l-d_kp_10_269` and shows its key information."
   ]
  },
  {
   "cell_type": "code",
   "execution_count": 212,
   "metadata": {},
   "outputs": [
    {
     "name": "stdout",
     "output_type": "stream",
     "text": [
      "Knapsack info: {'weight': 269.0}\n",
      "Item info: \n",
      "index: 0, profit: 55.0, weight: 95.0\n",
      "index: 1, profit: 10.0, weight: 4.0\n",
      "index: 2, profit: 47.0, weight: 60.0\n",
      "index: 3, profit: 5.0, weight: 32.0\n",
      "index: 4, profit: 4.0, weight: 23.0\n",
      "index: 5, profit: 50.0, weight: 72.0\n",
      "index: 6, profit: 8.0, weight: 80.0\n",
      "index: 7, profit: 61.0, weight: 62.0\n",
      "index: 8, profit: 85.0, weight: 65.0\n",
      "index: 9, profit: 87.0, weight: 46.0\n"
     ]
    }
   ],
   "source": [
    "data_file = \"./data/knapsack/SDKP/instances_01_KP/low-dimensional/f1_l-d_kp_10_269\"\n",
    "\n",
    "data_center = SDKPDataCenter()\n",
    "data_center.read_sdkp_dataset_f(data_file)\n",
    "\n",
    "capacities = data_center.capacities\n",
    "print(f\"Knapsack info: {capacities}\")\n",
    "\n",
    "items = data_center.items\n",
    "print(\"Item info: \")\n",
    "for item in items:\n",
    "    print(item)"
   ]
  },
  {
   "attachments": {},
   "cell_type": "markdown",
   "metadata": {},
   "source": [
    "Now we are ready to solve the SDKP using OR-Tools.\n",
    "The code below shows the completion definition of the class `SDKnapsackSolver` which has a number of attributes:\n",
    "\n",
    "- `_data_center`: this should be an instantiated `KnapsackDataCenter` object\n",
    "- `_solver`: this is the solver object used for modeling and problem solving\n",
    "- `_var_x`: this is the object that holds all the decision variables used in the model\n",
    "- `_opt_obj`: this is the optimal solution value found by the solver\n",
    "- `_opt_x`: this is the optimal solution identified when the solving process completes"
   ]
  },
  {
   "attachments": {},
   "cell_type": "markdown",
   "metadata": {},
   "source": [
    "The class has two major methods:\n",
    "\n",
    "- `build_model()`: this is responsible for instantiating the solver object, creating variables, generating constraints and defining the objective function\n",
    "- `optimize()`: this is the place where the OR-Tools searches for the optimal solution"
   ]
  },
  {
   "cell_type": "code",
   "execution_count": 213,
   "metadata": {},
   "outputs": [],
   "source": [
    "from ortools.linear_solver import pywraplp\n",
    "\n",
    "class SDKnapsackSolver:\n",
    "    \n",
    "    def __init__(self, data_center):\n",
    "        self._data_center = data_center\n",
    "\n",
    "        self._solver = None\n",
    "        self._var_x = None\n",
    "\n",
    "        self._opt_obj = None\n",
    "        self._opt_x = None\n",
    "        \n",
    "    def build_model(self):\n",
    "        self._solver = pywraplp.Solver.CreateSolver('SCIP')\n",
    "\n",
    "        self._create_variables()\n",
    "        self._create_objective()\n",
    "        self._create_constraints()\n",
    "        \n",
    "    def optimize(self):\n",
    "        status = self._solver.Solve()\n",
    "        if status == pywraplp.Solver.OPTIMAL:\n",
    "            self._opt_obj = self._solver.Objective().Value()\n",
    "            items = self._data_center.items\n",
    "            self._opt_x = [\n",
    "                    self._var_x[item.index].solution_value()\n",
    "                    for item in items\n",
    "                ]\n",
    "    \n",
    "    def _create_variables(self):\n",
    "        items = self._data_center.items\n",
    "        self._var_x = [self._solver.BoolVar(name=f'x_{i}')\n",
    "                    for i, item in enumerate(items)]\n",
    "    \n",
    "    def _create_objective(self):\n",
    "        items = self._data_center.items\n",
    "        obj_expr = [\n",
    "                self._var_x[item.index] * item.profit\n",
    "                for item in items\n",
    "                ]\n",
    "        self._solver.Maximize(self._solver.Sum(obj_expr))\n",
    "        \n",
    "    def _create_constraints(self):\n",
    "        items = self._data_center.items\n",
    "        capacities = self._data_center.capacities\n",
    "        expr = [\n",
    "            self._var_x[item.index] * \n",
    "                item.get_property('weight')\n",
    "            for item in items\n",
    "            ]\n",
    "        self._solver.Add(\n",
    "                self._solver.Sum(expr) <= capacities['weight']\n",
    "            )\n",
    "        \n",
    "    @property\n",
    "    def opt_obj(self): return self._opt_obj\n",
    "    \n",
    "    def get_num_chosen_items(self):\n",
    "        return sum(self._opt_x)"
   ]
  },
  {
   "attachments": {},
   "cell_type": "markdown",
   "metadata": {},
   "source": [
    "We employ the model to tackle 10 benchmark instances that were downloaded from an online source (http://artemisa.unicauca.edu.co/~johnyortega/instances_01_KP/). \n",
    "@tbl-knapsack-data displays the computational results.\n",
    "\n",
    "More specifically, the first column of the table lists the names of the instances, while the second and third columns indicate the number of items and the capacity of the knapsack for each instance, respectively. The last two columns report the optimal solution's objective value and the number of selected items, respectively."
   ]
  },
  {
   "cell_type": "code",
   "execution_count": 214,
   "metadata": {},
   "outputs": [
    {
     "data": {
      "text/markdown": [
       "Instance              No. of Items    Capacity    Optimal Value    No. of Chosen Items\n",
       "------------------  --------------  ----------  ---------------  ---------------------\n",
       "f1_l-d_kp_10_269                10         269          295                          6\n",
       "f2_l-d_kp_20_878                20         878         1024                         17\n",
       "f3_l-d_kp_4_20                   4          20           35                          3\n",
       "f4_l-d_kp_4_11                   4          11           23                          2\n",
       "f5_l-d_kp_15_375                15         375          481.069                      9\n",
       "f6_l-d_kp_10_60                 10          60           52                          7\n",
       "f7_l-d_kp_7_50                   7          50          107                          2\n",
       "f8_l-d_kp_23_10000              23       10000         9767                         11\n",
       "f9_l-d_kp_5_80                   5          80          130                          4\n",
       "f10_l-d_kp_20_879               20         879         1025                         17"
      ],
      "text/plain": [
       "<IPython.core.display.Markdown object>"
      ]
     },
     "execution_count": 214,
     "metadata": {},
     "output_type": "execute_result"
    }
   ],
   "source": [
    "# | echo: false\n",
    "# | label: tbl-knapsack-data\n",
    "# | tbl-cap: Computational results of Knapsack problems\n",
    "\n",
    "from IPython.display import Markdown\n",
    "from tabulate import tabulate\n",
    "import os\n",
    "import re\n",
    "\n",
    "# helper function to perform sort\n",
    "def num_sort(test_string):\n",
    "    return list(map(int, re.findall(r'\\d+', test_string)))[0]\n",
    "\n",
    "data_dir = \"./data/knapsack/SDKP/instances_01_KP/low-dimensional/\"\n",
    "dir_list = os.listdir(data_dir)\n",
    "dir_list.sort(key=num_sort)\n",
    "\n",
    "table_data = []\n",
    "for file in dir_list:\n",
    "    data_file = os.path.join(data_dir, file)\n",
    "\n",
    "    data_center = SDKPDataCenter()\n",
    "    data_center.read_sdkp_dataset_f(data_file)\n",
    "\n",
    "    knapsack_solver = SDKnapsackSolver(data_center)\n",
    "    knapsack_solver.build_model()\n",
    "    knapsack_solver.optimize()\n",
    "    \n",
    "    row_data = []\n",
    "    row_data.append(file)\n",
    "    row_data.append(len(data_center.items))\n",
    "    row_data.append(data_center.capacities['weight'])\n",
    "    row_data.append(knapsack_solver.opt_obj)\n",
    "    row_data.append(knapsack_solver.get_num_chosen_items())\n",
    "    table_data.append(row_data)\n",
    "\n",
    "col_names = [\"Instance\", \"No. of Items\", \"Capacity\", \"Optimal Value\", \"No. of Chosen Items\"]\n",
    "Markdown(tabulate(table_data, headers=col_names))"
   ]
  },
  {
   "attachments": {},
   "cell_type": "markdown",
   "metadata": {},
   "source": [
    "## Multi-Dimensional Knapsack Problem"
   ]
  },
  {
   "attachments": {},
   "cell_type": "markdown",
   "metadata": {},
   "source": [
    "The multi-dimensional knapsack problem is a variant of the classical knapsack problem where there are multiple candidate items and each item has multiple attributes or dimensions (@petersen_computational_1967). \n",
    "The goal is to select a subset of items that maximizes the total value or profit subject to the constraint that the sum of the attribute values of the selected items does not exceed certain limits.\n",
    "\n",
    "Formally, let there be $n$ items, and for each item $j \\ (1 ≤ j ≤ n)$, let:\n",
    "\n",
    "- $v_j$ be the profit of selecting it\n",
    "- $w_{ij}$ be the $i$th attribute value of item $j$\n",
    "- $m$ is the number of dimensions or attributes\n",
    "- $W_i$ is the capacity of the knapsack for dimension $i$\n",
    "\n",
    "The multi-dimensional knapsack problem can then be formulated as the following optimization problem:"
   ]
  },
  {
   "attachments": {},
   "cell_type": "markdown",
   "metadata": {},
   "source": [
    "\\begin{align}\n",
    "    \\text{max.} &\\quad \\sum_{j = 1}^n v_j x_j \\label{knapsack2-obj} \\\\\n",
    "    \\text{s.t.} &\\quad \\sum_{j=1}^n w_{ij} x_j \\leq W_i, \\ \\forall i = 1, \\cdots, m \\label{knapsack2-cons1} \\\\\n",
    "    &\\quad x_j \\in \\{0, 1\\}, \\ j = 1, \\cdots, n \\label{knapsack2-cons2}\n",
    "\\end{align}"
   ]
  },
  {
   "attachments": {},
   "cell_type": "markdown",
   "metadata": {},
   "source": [
    "To test the model, we take data from online source (http://people.brunel.ac.uk/~mastjjb/jeb/orlib/mknapinfo.html) and define a reading function `read_mdkp_dataset_1()` in class `MDKPDataCenter`.\n",
    "Note that the class inherits the `KnapsackDataCenter` class defined in the previous section, and all the parsed contents of an instance will be saved in the `_items` and `_capacities` attributes."
   ]
  },
  {
   "cell_type": "code",
   "execution_count": 215,
   "metadata": {},
   "outputs": [],
   "source": [
    "class MDKPDataCenter(KnapsackDataCenter):\n",
    "    \n",
    "    def read_mdkp_dataset_1(self, data_file: str):\n",
    "        \"\"\"read data from testing instance\n",
    "\n",
    "        Args:\n",
    "            data_file (str): data file\n",
    "        \"\"\"\n",
    "        with open(data_file) as f:\n",
    "            first_line = f.readline()\n",
    "            num_items, \\\n",
    "            num_constraints, \\\n",
    "            opt_val = first_line.split()\n",
    "            \n",
    "            second_line = f.readline()\n",
    "            profits = second_line.split()\n",
    "            item_idx = 0\n",
    "            for p in profits:\n",
    "                item = Item(item_idx, float(p))\n",
    "                self._items.append(item)\n",
    "                item_idx += 1\n",
    "\n",
    "            for i in range(int(num_constraints)):\n",
    "                line = f.readline()\n",
    "                weights = line.split()\n",
    "                prop = f'prop_{i}'\n",
    "                for idx, val in enumerate(weights):\n",
    "                    self._items[idx].set_property(\n",
    "                        prop,\n",
    "                        float(val)\n",
    "                    )\n",
    "\n",
    "            last_line = f.readline()\n",
    "            for idx, val in enumerate(last_line.split()):\n",
    "                prop = f'prop_{idx}'\n",
    "                self._capacities[prop] = float(val)"
   ]
  },
  {
   "attachments": {},
   "cell_type": "markdown",
   "metadata": {},
   "source": [
    "Now we define in the code below the class `MDKnapsackSolver` that performs a couple of things:\n",
    "\n",
    "- create variables in lines 31 - 34\n",
    "- define objective in lines 36 - 42\n",
    "- create constraints in line 44 - 58"
   ]
  },
  {
   "cell_type": "code",
   "execution_count": 216,
   "metadata": {},
   "outputs": [],
   "source": [
    "from ortools.linear_solver import pywraplp\n",
    "\n",
    "class MDKnapsackSolver:\n",
    "    \n",
    "    def __init__(self, data_center):\n",
    "        self._data_center = data_center\n",
    "\n",
    "        self._solver = None\n",
    "        self._var_x = None\n",
    "\n",
    "        self._opt_obj = None\n",
    "        self._opt_x = None\n",
    "        \n",
    "    def build_model(self):\n",
    "        self._solver = pywraplp.Solver.CreateSolver('SCIP')\n",
    "\n",
    "        self._create_variables()\n",
    "        self._create_objective()\n",
    "        self._create_constraints()\n",
    "        \n",
    "    def optimize(self):\n",
    "        status = self._solver.Solve()\n",
    "        if status == pywraplp.Solver.OPTIMAL:\n",
    "            self._opt_obj = self._solver.Objective().Value()\n",
    "            items = self._data_center.items\n",
    "            self._opt_x = [\n",
    "                    self._var_x[item.index].solution_value()\n",
    "                    for item in items\n",
    "                ]\n",
    "    \n",
    "    def _create_variables(self):\n",
    "        items = self._data_center.items\n",
    "        self._var_x = [self._solver.BoolVar(name=f'x_{i}')\n",
    "                    for i, item in enumerate(items)]\n",
    "    \n",
    "    def _create_objective(self):\n",
    "        items = self._data_center.items\n",
    "        obj_expr = [\n",
    "                self._var_x[item.index] * item.profit\n",
    "                for item in items\n",
    "                ]\n",
    "        self._solver.Maximize(self._solver.Sum(obj_expr))\n",
    "        \n",
    "    def _create_constraints(self):\n",
    "        items = self._data_center.items\n",
    "        capacities = self._data_center.capacities\n",
    "        num_properties = len(capacities)\n",
    "        for p_idx in range(num_properties):\n",
    "            prop = f'prop_{p_idx}'\n",
    "            expr = [\n",
    "                self._var_x[item.index] * \n",
    "                    item.get_property(prop)\n",
    "                for item in items\n",
    "                ]\n",
    "            self._solver.Add(\n",
    "                    self._solver.Sum(expr) <= \n",
    "                    capacities[prop], name=f'cons_{p_idx}'\n",
    "                )\n",
    "        \n",
    "    @property\n",
    "    def opt_obj(self): return self._opt_obj\n",
    "    \n",
    "    def get_num_chosen_items(self):\n",
    "        return sum(self._opt_x)"
   ]
  },
  {
   "attachments": {},
   "cell_type": "markdown",
   "metadata": {},
   "source": [
    "@tbl-mdknapsack-data shows the computational results of some testing instances."
   ]
  },
  {
   "cell_type": "code",
   "execution_count": 217,
   "metadata": {},
   "outputs": [
    {
     "data": {
      "text/markdown": [
       "Instance      No. of Items    Optimal Value    No. of Chosen Items\n",
       "----------  --------------  ---------------  ---------------------\n",
       "inst1.txt                6           3800                        3\n",
       "inst2.txt               10           8706.1                      5\n",
       "inst3.txt               15           4015                        9\n",
       "inst4.txt               20           6120                        9\n",
       "inst5.txt               28          12400                       18\n",
       "inst6.txt               39          10618                       27\n",
       "inst7.txt               50          16537                       35"
      ],
      "text/plain": [
       "<IPython.core.display.Markdown object>"
      ]
     },
     "execution_count": 217,
     "metadata": {},
     "output_type": "execute_result"
    }
   ],
   "source": [
    "# | echo: false\n",
    "# | label: tbl-mdknapsack-data\n",
    "# | tbl-cap: Computational results of multi-dimensional knapsack problems\n",
    "\n",
    "from IPython.display import Markdown\n",
    "from tabulate import tabulate\n",
    "import os\n",
    "import re\n",
    "\n",
    "# helper function to perform sort\n",
    "def num_sort(test_string):\n",
    "    return list(map(int, re.findall(r'\\d+', test_string)))[0]\n",
    "\n",
    "data_dir = \"./data/knapsack/MDKP/mknap1/\"\n",
    "dir_list = os.listdir(data_dir)\n",
    "dir_list = [file for file in dir_list if 'inst' in file]\n",
    "dir_list.sort(key=num_sort)\n",
    "\n",
    "table_data = []\n",
    "for file in dir_list:\n",
    "    data_file = os.path.join(data_dir, file)\n",
    "\n",
    "    data_center = MDKPDataCenter()\n",
    "    data_center.read_mdkp_dataset_1(data_file)\n",
    "\n",
    "    knapsack_solver = MDKnapsackSolver(data_center)\n",
    "    knapsack_solver.build_model()\n",
    "    knapsack_solver.optimize()\n",
    "    \n",
    "    row_data = []\n",
    "    row_data.append(file)\n",
    "    row_data.append(len(data_center.items))\n",
    "    row_data.append(knapsack_solver.opt_obj)\n",
    "    row_data.append(knapsack_solver.get_num_chosen_items())\n",
    "    table_data.append(row_data)\n",
    "\n",
    "col_names = [\"Instance\", \"No. of Items\", \"Optimal Value\", \"No. of Chosen Items\"]\n",
    "Markdown(tabulate(table_data, headers=col_names))"
   ]
  },
  {
   "attachments": {},
   "cell_type": "markdown",
   "metadata": {},
   "source": [
    "## Multi-Choice Knapsack Problem\n"
   ]
  },
  {
   "attachments": {},
   "cell_type": "markdown",
   "metadata": {},
   "source": [
    "In the multi-choice knapsack problem, there are $n$ candidate items to be placed in a knapsack and each item belongs to a specific class $k = 1, \\cdots m$.\n",
    "It is required that only one item can be selected from each class.\n",
    "The problem can be formulated as below (@sinha_multiple-choice_1979)."
   ]
  },
  {
   "attachments": {},
   "cell_type": "markdown",
   "metadata": {},
   "source": [
    "\\begin{align}\n",
    "    \\text{max.} &\\quad \\sum_{j=1}^n v_j x_j \\label{knapsack3-obj} \\\\\n",
    "    \\text{s.t.} &\\quad \\sum_{j=1}^n w_j x_j \\leq W \\label{knapsack3-cons1}\\\\\n",
    "    &\\quad \\sum_{j=1}^n c_{jk} x_j = 1, \\ \\forall k = 1, \\cdots m \\label{knapsack3-cons2}\\\\\n",
    "    &\\quad x_j = \\{0, 1\\}, \\ \\forall j = 1, \\cdots n \\label{knapsack3-cons3}\n",
    "\\end{align}"
   ]
  },
  {
   "attachments": {},
   "cell_type": "markdown",
   "metadata": {},
   "source": [
    "The class `MCKPDataCenter` defines a reader function to parse the instances available online (https://or-dii.unibs.it/index.php?page=tiks)."
   ]
  },
  {
   "cell_type": "code",
   "execution_count": 218,
   "metadata": {},
   "outputs": [],
   "source": [
    "class MCKPDataCenter(KnapsackDataCenter):\n",
    "    \n",
    "    def __init__(self):\n",
    "        super().__init__()\n",
    "        \n",
    "        self._num_classes = 0\n",
    "        self._num_choices = 0\n",
    "    \n",
    "    def read_mcmdkp_dataset_1(self, data_file: str):\n",
    "        with open(data_file) as f:\n",
    "            f.readline()\n",
    "            num_classes,\\\n",
    "            num_choices,\\\n",
    "            num_constraints = f.readline().split()\n",
    "            self._num_classes = int(num_classes)\n",
    "            self._num_choices = int(num_choices)\n",
    "            \n",
    "            capacities = f.readline().split()\n",
    "            for p_idx in range(int(num_constraints)):\n",
    "                prop = f'prop_{p_idx}'\n",
    "                self._capacities[prop] = float(capacities[p_idx])\n",
    "            \n",
    "            item_idx = 0\n",
    "            for i in range(int(num_classes)):\n",
    "                f.readline()\n",
    "                for c in range(int(num_choices)):\n",
    "                    line = f.readline().split()\n",
    "                    item = Item(item_idx, profit=float(line[0]))\n",
    "                    for p_idx in range(int(num_constraints)):\n",
    "                        prop = f'prop_{p_idx}'\n",
    "                        item.set_property(prop, float(line[p_idx + 1]))\n",
    "                        item.set_class(i)\n",
    "                    item_idx += 1\n",
    "                    self._items.append(item)\n",
    "                    \n",
    "    @property\n",
    "    def num_classes(self): return self._num_classes\n",
    "    \n",
    "    @property\n",
    "    def num_choices(self): return self._num_choices"
   ]
  },
  {
   "attachments": {},
   "cell_type": "markdown",
   "metadata": {},
   "source": [
    "The complete code to solve the problem is given below."
   ]
  },
  {
   "cell_type": "code",
   "execution_count": 219,
   "metadata": {},
   "outputs": [],
   "source": [
    "from ortools.linear_solver import pywraplp\n",
    "\n",
    "class MCKnapsackSolver:\n",
    "    \n",
    "    def __init__(self, data_center):\n",
    "        self._data_center = data_center\n",
    "\n",
    "        self._solver = None\n",
    "        self._var_x = None\n",
    "\n",
    "        self._opt_obj = None\n",
    "        self._opt_x = None\n",
    "        \n",
    "    def build_model(self):\n",
    "        self._solver = pywraplp.Solver.CreateSolver('SCIP')\n",
    "\n",
    "        self._create_variables()\n",
    "        self._create_objective()\n",
    "        self._create_constraints()\n",
    "        \n",
    "    def optimize(self):\n",
    "        status = self._solver.Solve()\n",
    "        if status == pywraplp.Solver.OPTIMAL:\n",
    "            self._opt_obj = self._solver.Objective().Value()\n",
    "            items = self._data_center.items\n",
    "            self._opt_x = [\n",
    "                    self._var_x[item.index].solution_value()\n",
    "                    for item in items\n",
    "                ]\n",
    "    \n",
    "    def _create_variables(self):\n",
    "        items = self._data_center.items\n",
    "        self._var_x = [self._solver.BoolVar(name=f'x_{i}')\n",
    "                    for i, item in enumerate(items)]\n",
    "    \n",
    "    def _create_objective(self):\n",
    "        items = self._data_center.items\n",
    "        obj_expr = [\n",
    "                self._var_x[item.index] * item.profit\n",
    "                for item in items\n",
    "                ]\n",
    "        self._solver.Maximize(self._solver.Sum(obj_expr))\n",
    "        \n",
    "    def _create_constraints(self):\n",
    "        items = self._data_center.items\n",
    "        capacities = self._data_center.capacities\n",
    "        p_idx = 0\n",
    "        prop = f'prop_{p_idx}'\n",
    "        expr = [\n",
    "            self._var_x[item.index] * \n",
    "                item.get_property(prop)\n",
    "            for item in items\n",
    "            ]\n",
    "        self._solver.Add(\n",
    "                self._solver.Sum(expr) <= \n",
    "                capacities[prop], name=f'cons_{p_idx}'\n",
    "            )\n",
    "        \n",
    "        num_classes = self._data_center.num_classes\n",
    "        for k in range(num_classes):\n",
    "            expr = [self._var_x[item.index]\n",
    "                for item in items\n",
    "                if item.get_class() == k]\n",
    "            self._solver.Add(\n",
    "                self._solver.Sum(expr) == 1\n",
    "            )\n",
    "        \n",
    "    @property\n",
    "    def opt_obj(self): return self._opt_obj\n",
    "    \n",
    "    def get_num_chosen_items(self):\n",
    "        return sum(self._opt_x)"
   ]
  },
  {
   "attachments": {},
   "cell_type": "markdown",
   "metadata": {},
   "source": [
    "@tbl-mcknapsack-data shows some computational experiments."
   ]
  },
  {
   "cell_type": "code",
   "execution_count": 220,
   "metadata": {},
   "outputs": [
    {
     "data": {
      "text/markdown": [
       "Instance      No. of Items    Optimal Value    No. of Chosen Items\n",
       "----------  --------------  ---------------  ---------------------\n",
       "INST01.txt             500            13411                     50\n",
       "INST02.txt             500            13953                     50\n",
       "INST03.txt             600            15727                     60\n",
       "INST04.txt             700            18928                     70\n",
       "INST05.txt             750            20314                     75\n",
       "INST06.txt             750            20277                     75\n",
       "INST07.txt             800            21372                     80\n",
       "INST08.txt             800            21556                     80\n",
       "INST09.txt             800            21581                     80\n",
       "INST10.txt             900            24232                     90\n",
       "INST11.txt             900            24267                     90\n",
       "INST12.txt            1000            26206                    100\n",
       "INST13.txt            3000            24382                    100\n",
       "INST14.txt            4500            36971                    150\n",
       "INST15.txt            5400            44001                    180\n",
       "INST16.txt            6000            48833                    200\n",
       "INST17.txt            7500            61056                    250\n",
       "INST18.txt            5600            68021                    280\n",
       "INST19.txt            6000            73054                    300\n",
       "INST20.txt            7000            84958                    350"
      ],
      "text/plain": [
       "<IPython.core.display.Markdown object>"
      ]
     },
     "execution_count": 220,
     "metadata": {},
     "output_type": "execute_result"
    }
   ],
   "source": [
    "# | echo: false\n",
    "# | label: tbl-mcknapsack-data\n",
    "# | tbl-cap: Computational results of multi-choice knapsack problems\n",
    "\n",
    "from IPython.display import Markdown\n",
    "from tabulate import tabulate\n",
    "import os\n",
    "import re\n",
    "\n",
    "# helper function to perform sort\n",
    "def num_sort(test_string):\n",
    "    return list(map(int, re.findall(r'\\d+', test_string)))[0]\n",
    "\n",
    "data_dir = \"./data/knapsack/MCMDKP/Instances_MMKP/Class B/\"\n",
    "dir_list = os.listdir(data_dir)\n",
    "dir_list = [file for file in dir_list if 'INST' in file]\n",
    "dir_list.sort(key=num_sort)\n",
    "\n",
    "table_data = []\n",
    "for file in dir_list:\n",
    "    data_file = os.path.join(data_dir, file)\n",
    "\n",
    "    data_center = MCKPDataCenter()\n",
    "    data_center.read_mcmdkp_dataset_1(data_file)\n",
    "\n",
    "    knapsack_solver = MCKnapsackSolver(data_center)\n",
    "    knapsack_solver.build_model()\n",
    "    knapsack_solver.optimize()\n",
    "    \n",
    "    row_data = []\n",
    "    row_data.append(file)\n",
    "    row_data.append(len(data_center.items))\n",
    "    row_data.append(knapsack_solver.opt_obj)\n",
    "    row_data.append(knapsack_solver.get_num_chosen_items())\n",
    "    table_data.append(row_data)\n",
    "\n",
    "col_names = [\"Instance\", \"No. of Items\", \"Optimal Value\", \"No. of Chosen Items\"]\n",
    "Markdown(tabulate(table_data, headers=col_names))"
   ]
  },
  {
   "attachments": {},
   "cell_type": "markdown",
   "metadata": {},
   "source": [
    "## Multi-Choice Multi-Dimensional Knapsack Problem"
   ]
  },
  {
   "attachments": {},
   "cell_type": "markdown",
   "metadata": {},
   "source": [
    "In the multi-choice multi-dimensional knapsack problem (MCMDKP), there are $n$ candidate items and each item belongs to a specific class $k = 1, \\cdots, m$.\n",
    "Each item also has $d$ attributes.\n",
    "The requirement is to select exactly one item from each class such that the total profit is maximized.\n",
    "Note that the knapsack capacity cannot be violated for any item attribute.\n",
    "The MCMDKP can be formulated as follows (@chen_reduce_2014)."
   ]
  },
  {
   "attachments": {},
   "cell_type": "markdown",
   "metadata": {},
   "source": [
    "\\begin{align}\n",
    "    \\text{max.} &\\quad \\sum_{j=1}^n v_j x_j \\label{knapsack4-obj} \\\\\n",
    "    \\text{s.t.} &\\quad \\sum_{j=1}^n w_{ij} x_j \\leq W_i, \\ \\forall i = 1, \\cdots d \\\\\n",
    "    &\\quad \\sum_{j=1}^n c_{jk} x_j = 1, \\ \\forall k = 1, \\cdots m\\\\\n",
    "    &\\quad x_j = \\{0, 1\\}, \\ \\forall j = 1, \\cdots n\n",
    "\\end{align}"
   ]
  },
  {
   "attachments": {},
   "cell_type": "markdown",
   "metadata": {},
   "source": [
    "The code snippet below gives the complete program to solve this problem."
   ]
  },
  {
   "cell_type": "code",
   "execution_count": 223,
   "metadata": {},
   "outputs": [],
   "source": [
    "from ortools.linear_solver import pywraplp\n",
    "\n",
    "class MCMDKnapsackSolver:\n",
    "    \n",
    "    def __init__(self, data_center):\n",
    "        self._data_center = data_center\n",
    "\n",
    "        self._solver = None\n",
    "        self._var_x = None\n",
    "\n",
    "        self._opt_obj = None\n",
    "        self._opt_x = None\n",
    "        \n",
    "    def build_model(self):\n",
    "        self._solver = pywraplp.Solver.CreateSolver('SCIP')\n",
    "\n",
    "        self._create_variables()\n",
    "        self._create_objective()\n",
    "        self._create_constraints()\n",
    "        \n",
    "    def optimize(self):\n",
    "        status = self._solver.Solve()\n",
    "        if status == pywraplp.Solver.OPTIMAL:\n",
    "            self._opt_obj = self._solver.Objective().Value()\n",
    "            items = self._data_center.items\n",
    "            self._opt_x = [\n",
    "                    self._var_x[item.index].solution_value()\n",
    "                    for item in items\n",
    "                ]\n",
    "    \n",
    "    def _create_variables(self):\n",
    "        items = self._data_center.items\n",
    "        self._var_x = [self._solver.BoolVar(name=f'x_{i}')\n",
    "                    for i, item in enumerate(items)]\n",
    "    \n",
    "    def _create_objective(self):\n",
    "        items = self._data_center.items\n",
    "        obj_expr = [\n",
    "                self._var_x[item.index] * item.profit\n",
    "                for item in items\n",
    "                ]\n",
    "        self._solver.Maximize(self._solver.Sum(obj_expr))\n",
    "        \n",
    "    def _create_constraints(self):\n",
    "        items = self._data_center.items\n",
    "        capacities = self._data_center.capacities\n",
    "        num_properties = len(capacities)\n",
    "        for p_idx in range(num_properties):\n",
    "            prop = f'prop_{p_idx}'\n",
    "            expr = [\n",
    "                self._var_x[item.index] * \n",
    "                    item.get_property(prop)\n",
    "                for item in items\n",
    "                ]\n",
    "            self._solver.Add(\n",
    "                    self._solver.Sum(expr) <= \n",
    "                    capacities[prop], name=f'cons_{p_idx}'\n",
    "                )\n",
    "        \n",
    "        num_classes = self._data_center.num_classes\n",
    "        for k in range(num_classes):\n",
    "            expr = [self._var_x[item.index]\n",
    "                for item in items\n",
    "                if item.get_class() == k]\n",
    "            self._solver.Add(\n",
    "                self._solver.Sum(expr) == 1\n",
    "            )\n",
    "        \n",
    "    @property\n",
    "    def opt_obj(self): return self._opt_obj\n",
    "    \n",
    "    def get_num_chosen_items(self):\n",
    "        return sum(self._opt_x)"
   ]
  },
  {
   "attachments": {},
   "cell_type": "markdown",
   "metadata": {},
   "source": [
    "@tbl-mcmdknapsack-data shows some empirical computational results."
   ]
  },
  {
   "cell_type": "code",
   "execution_count": 225,
   "metadata": {},
   "outputs": [
    {
     "data": {
      "text/markdown": [
       "Instance      No. of Items    Optimal Value    No. of Chosen Items\n",
       "----------  --------------  ---------------  ---------------------\n",
       "INST01.txt             250             7059                     25\n",
       "INST02.txt             250             6998                     25\n",
       "INST03.txt             300             8418                     30\n",
       "INST04.txt             300             8518                     30\n",
       "INST05.txt             300             8418                     30\n",
       "INST06.txt             300             8418                     30\n",
       "INST07.txt             300             8418                     30\n",
       "INST08.txt             300             8418                     30\n",
       "INST09.txt             300             8418                     30\n",
       "INST10.txt             300             8418                     30\n",
       "INST11.txt             300             8418                     30\n",
       "INST12.txt             300             8418                     30\n",
       "INST13.txt             900             8833                     30\n",
       "INST14.txt             900             8841                     30\n",
       "INST15.txt             900             8833                     30\n",
       "INST16.txt             900             8788                     30\n",
       "INST17.txt             900             8820                     30\n",
       "INST18.txt             600             8664                     30\n",
       "INST19.txt             600             8667                     30\n",
       "INST20.txt             600             8714                     30"
      ],
      "text/plain": [
       "<IPython.core.display.Markdown object>"
      ]
     },
     "execution_count": 225,
     "metadata": {},
     "output_type": "execute_result"
    }
   ],
   "source": [
    "# | echo: false\n",
    "# | label: tbl-mcmdknapsack-data\n",
    "# | tbl-cap: Computational results of multi-choice multi-dimensional knapsack problems\n",
    "\n",
    "from IPython.display import Markdown\n",
    "from tabulate import tabulate\n",
    "import os\n",
    "import re\n",
    "\n",
    "# helper function to perform sort\n",
    "def num_sort(test_string):\n",
    "    return list(map(int, re.findall(r'\\d+', test_string)))[0]\n",
    "\n",
    "data_dir = \"./data/knapsack/MCMDKP/Instances_MMKP/Class B - mini/\"\n",
    "dir_list = os.listdir(data_dir)\n",
    "dir_list = [file for file in dir_list if 'INST' in file]\n",
    "dir_list.sort(key=num_sort)\n",
    "\n",
    "table_data = []\n",
    "for file in dir_list:\n",
    "    data_file = os.path.join(data_dir, file)\n",
    "\n",
    "    data_center = MCKPDataCenter()\n",
    "    data_center.read_mcmdkp_dataset_1(data_file)\n",
    "\n",
    "    knapsack_solver = MCMDKnapsackSolver(data_center)\n",
    "    knapsack_solver.build_model()\n",
    "    knapsack_solver.optimize()\n",
    "    \n",
    "    row_data = []\n",
    "    row_data.append(file)\n",
    "    row_data.append(len(data_center.items))\n",
    "    row_data.append(knapsack_solver.opt_obj)\n",
    "    row_data.append(knapsack_solver.get_num_chosen_items())\n",
    "    table_data.append(row_data)\n",
    "\n",
    "col_names = [\"Instance\", \"No. of Items\", \"Optimal Value\", \"No. of Chosen Items\"]\n",
    "Markdown(tabulate(table_data, headers=col_names))"
   ]
  }
 ],
 "metadata": {
  "kernelspec": {
   "display_name": "ortools",
   "language": "python",
   "name": "python3"
  },
  "language_info": {
   "codemirror_mode": {
    "name": "ipython",
    "version": 3
   },
   "file_extension": ".py",
   "mimetype": "text/x-python",
   "name": "python",
   "nbconvert_exporter": "python",
   "pygments_lexer": "ipython3",
   "version": "3.10.9"
  },
  "orig_nbformat": 4,
  "vscode": {
   "interpreter": {
    "hash": "bf48c6200b504fe5a034fe37dc129ab5028b5377bed7e5a0a28d850d57df49a8"
   }
  }
 },
 "nbformat": 4,
 "nbformat_minor": 2
}
