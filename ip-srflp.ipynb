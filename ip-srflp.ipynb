{
 "cells": [
  {
   "attachments": {},
   "cell_type": "markdown",
   "metadata": {},
   "source": [
    "---\n",
    "format:\n",
    "  html:\n",
    "    code-line-numbers: true\n",
    "    code-overflow: wrap\n",
    "    code-block-bg: true\n",
    "    code-block-border-left: true\n",
    "    highlight-style: Arrow\n",
    "---"
   ]
  },
  {
   "attachments": {},
   "cell_type": "markdown",
   "metadata": {},
   "source": [
    "# Single Row Facility Layout Problem {#sec-single-row-facilty-layout}"
   ]
  },
  {
   "attachments": {},
   "cell_type": "markdown",
   "metadata": {},
   "source": [
    "Single Row Facility Layout Problem (SRFLP) is a type of optimization problem in which the objective is to arrange a set of facilities in a single row in such a way as to minimize the total cost of movement between facilities. In other words, the goal is to find the best possible arrangement of facilities in a linear fashion that minimizes the total distance traveled by workers or materials between facilities.\n",
    "The SRFLP has a wide range of applications in various industries:\n",
    "\n",
    "- Manufacturing Industry: In manufacturing plants, the SRFLP is used to determine the optimal placement of machines, workstations, and other facilities in a single line to minimize material handling and transportation costs. By arranging the facilities in an optimal sequence, the movement of raw materials, work-in-progress, and finished products can be minimized, reducing production time and costs.\n",
    "\n",
    "- Warehousing and Distribution: In the warehousing and distribution industry, the SRFLP is used to optimize the layout of storage areas, packing and shipping stations, and other facilities. By minimizing the distance traveled between facilities, the time and cost of moving products within the warehouse or distribution center can be reduced.\n",
    "\n",
    "- Retail Industry: The SRFLP can be used to optimize the layout of retail stores, such as supermarkets and department stores. By arranging product displays and checkout stations in an optimal sequence, customer flow can be improved, and waiting times can be reduced, resulting in better customer satisfaction and increased sales.\n",
    "\n",
    "- Healthcare Industry: In hospitals and clinics, the SRFLP can be used to optimize the layout of patient rooms, laboratories, and other medical facilities. By arranging these facilities in an optimal sequence, healthcare professionals can move more efficiently, reducing patient wait times and improving the quality of care.\n",
    "\n",
    "- Office Layout: The SRFLP can also be used to optimize the layout of office spaces, including the arrangement of desks, meeting rooms, and common areas. By minimizing the distance between facilities, the productivity and efficiency of workers can be improved.\n",
    "\n",
    "In summary, the SRFLP has many applications in different industries, where the optimization of facility layout can result in significant cost savings, improved productivity, and increased customer satisfaction."
   ]
  },
  {
   "attachments": {},
   "cell_type": "markdown",
   "metadata": {},
   "source": [
    "The SRFLP can be defined as follows: Assume there are $n$ rooms of different lengths $h_i$ that need to be arranged in a single row. The flow of materials between each pair of rooms, denoted by $w_{ij}$, is already known. Let $\\mathcal{N}$ represent the set of rooms to be arranged, which consists of integers from 0 to $n-1$. Let $H$ be the sum of the lengths of all the rooms, and let $V$ be a large number."
   ]
  },
  {
   "attachments": {},
   "cell_type": "markdown",
   "metadata": {},
   "source": [
    "To formulate the problem mathematically, we introduce the following variables:\n",
    "\n",
    "- $x_{ij}$: a binary variable that takes the value of 1 if room $i$ is placed to the left of room $j$, and 0 otherwise.\n",
    "- $y_i$: a continuous variable that represents the location of the starting point of room $i$ on the line.\n",
    "- $l_{ij}$: a continuous variable that represents the distance between the centroid of room $i$ and the centroid of room $j$ if room $i$ is placed to the left of room $j$, and 0 otherwise.\n",
    "- $r_{ij}$: a continuous variable that represents the distance between the centroid of room $i$ and the centroid of room $j$ if room $i$ is placed to the right of room $j$, and 0 otherwise."
   ]
  },
  {
   "attachments": {},
   "cell_type": "markdown",
   "metadata": {},
   "source": [
    "The SRFLP can then be formulated as follows:"
   ]
  },
  {
   "attachments": {},
   "cell_type": "markdown",
   "metadata": {},
   "source": [
    "\\begin{align}\n",
    "    \\text{min.} &\\quad \\sum_{i=0}^{n-2} \\sum_{j=i+1}^{n-1} w_{ij} \\cdot (l_{ij} + r_{ij}) \\label{srfl-obj}\\\\\n",
    "    \\text{s.t.} &\\quad 0 \\leq y_i \\leq H, \\ \\forall i = 0, \\cdots, n-1 \\label{srfl-cons1} \\\\\n",
    "    &\\quad y_i \\geq y_j + h_j - V \\cdot x_{ij}, \\ \\forall i, j \\in \\mathcal{N}, \\ i < j \\label{srfl-cons2}  \\\\\n",
    "    &\\quad y_j \\geq y_i + h_i - V \\cdot (1 - x_{ij}), \\ \\forall i, j \\in \\mathcal{N}, \\ i < j \\label{srfl-cons3}  \\\\\n",
    "    &\\quad r_{ij} - l_{ij} = y_i - y_j + \\frac{1}{2} (h_i - h_j), \\ \\forall i, j \\in \\mathcal{N}, i \\neq j \\label{srfl-cons4}  \\\\\n",
    "    &\\quad x_{ij} \\in \\{0, 1\\}, \\ \\forall i, j \\in \\mathcal{N}, i \\neq j \\label{srfl-cons5} \\\\\n",
    "    &\\quad y_i \\geq 0, \\ \\forall i \\in \\mathcal{N} \\label{srfl-cons6} \\\\\n",
    "    &\\quad l_{ij} \\geq 0, \\ \\forall i, j \\in \\mathcal{N}, i \\neq j \\label{srfl-cons7}  \\\\\n",
    "    &\\quad r_{ij} \\geq 0, \\ \\forall i, j \\in \\mathcal{N}, i \\neq j  \\label{srfl-cons8} \\\\\n",
    "\\end{align}"
   ]
  },
  {
   "attachments": {},
   "cell_type": "markdown",
   "metadata": {},
   "source": [
    "The goal of the objective function \\eqref{srfl-obj} is to minimize the total cost of moving all the rooms. The constraints \\eqref{srfl-cons1} ensure that the starting point of each room is within the range of $[0, H]$.\n",
    "Constraints \\eqref{srfl-cons2} and \\eqref{srfl-cons3} are complementary disjunctive constraints that ensure that no two rooms overlap with each other. Constraints \\eqref{srfl-cons4} calculate the distance between the centroids of any two rooms placed in a specific order on the line. The remaining constraints specify the type of variables used."
   ]
  },
  {
   "attachments": {},
   "cell_type": "markdown",
   "metadata": {},
   "source": [
    "To evaluate the effectiveness of the formulated model, we utilize benchmarking instances obtained from an online source (https://grafo.etsii.urjc.es/optsicom/srflp.html).\n",
    "In the following code, we define a class called SRFLPDataCenter. This class is responsible for parsing the instance file and storing the relevant information in its attributes."
   ]
  },
  {
   "cell_type": "code",
   "execution_count": 21,
   "metadata": {},
   "outputs": [],
   "source": [
    "import numpy as np\n",
    "\n",
    "class SRFLPDataCenter:\n",
    "    \n",
    "    def __init__(self):\n",
    "        self._num_rooms = None\n",
    "        self._room_lengths = None\n",
    "        self._distance_matrix = None\n",
    "        \n",
    "    def read_data(self, data_file):\n",
    "        with open(data_file) as f:\n",
    "            first_line = f.readline()\n",
    "            self._num_rooms = int(first_line)\n",
    "\n",
    "            second_line = f.readline().split()\n",
    "            self._room_lengths = [\n",
    "                float(v) for v in second_line\n",
    "            ]\n",
    "            \n",
    "            self._distance_matrix = \\\n",
    "                np.zeros((self._num_rooms, self._num_rooms))\n",
    "            for row in range(self._num_rooms):\n",
    "                line = f.readline().split()\n",
    "                for col in range(self._num_rooms):\n",
    "                    self._distance_matrix[row][col] = \\\n",
    "                        float(line[col])\n",
    "                    \n",
    "    @property\n",
    "    def num_rooms(self): return self._num_rooms\n",
    "    \n",
    "    def get_room_length(self, room_idx):\n",
    "        return self._room_lengths[room_idx]\n",
    "\n",
    "    def get_distance(self, i, j):\n",
    "        return self._distance_matrix[i][j]\n",
    "    "
   ]
  },
  {
   "attachments": {},
   "cell_type": "markdown",
   "metadata": {},
   "source": [
    "The following code provides a comprehensive program that uses OR-Tools to solve the SRFLP."
   ]
  },
  {
   "cell_type": "code",
   "execution_count": 22,
   "metadata": {},
   "outputs": [],
   "source": [
    "from ortools.linear_solver import pywraplp\n",
    "from itertools import product\n",
    "import numpy as np\n",
    "\n",
    "class SRFLPSolver:\n",
    "    \n",
    "    def __init__(self, data_center):\n",
    "        self._data_center = data_center\n",
    "\n",
    "        self._solver = None\n",
    "        self._var_x = None\n",
    "        self._var_y = None\n",
    "        self._var_l = None\n",
    "        self._var_r = None\n",
    "        \n",
    "        self._opt_obj = None\n",
    "        self._opt_y = None\n",
    "        \n",
    "    def build_model(self):\n",
    "        self._solver = pywraplp.Solver.CreateSolver('SCIP')\n",
    "        \n",
    "        self._create_variables()\n",
    "        self._create_objective()\n",
    "        self._create_constraints()\n",
    "        \n",
    "    def _create_variables(self):\n",
    "        num_rooms = self._data_center.num_rooms\n",
    "        self._var_x = np.empty(\n",
    "                        (num_rooms, num_rooms), \n",
    "                        dtype=object\n",
    "                    )\n",
    "        for i, j in product(range(num_rooms), \n",
    "                            range(num_rooms)):\n",
    "            if i == j: continue\n",
    "            self._var_x[i][j] = \\\n",
    "                self._solver.BoolVar(name=f'x_{i, j}')\n",
    "\n",
    "        H = sum([self._data_center.get_room_length(r)\n",
    "                for r in range(num_rooms)])\n",
    "        self._var_y = [\n",
    "                    self._solver.NumVar(0, H, name=f\"y_{i}\")\n",
    "                    for i in range(num_rooms)\n",
    "                ]\n",
    "\n",
    "        infinity = self._solver.Infinity()\n",
    "        self._var_l = np.empty((num_rooms, num_rooms), \n",
    "                            dtype=object)\n",
    "        self._var_r = np.empty((num_rooms, num_rooms),\n",
    "                            dtype=object)\n",
    "        for i, j in product(range(num_rooms), \n",
    "                            range(num_rooms)):\n",
    "            if i == j: continue\n",
    "            self._var_l[i][j] = \\\n",
    "                self._solver.NumVar(0, \n",
    "                                    infinity, \n",
    "                                    name=f\"l_{i,j}\")\n",
    "            self._var_r[i][j] = \\\n",
    "                self._solver.NumVar(0, \n",
    "                                    infinity, \n",
    "                                    name=f\"r_{i,j}\")\n",
    "\n",
    "    def _create_objective(self):\n",
    "        num_rooms = self._data_center.num_rooms\n",
    "        expr = [\n",
    "            self._data_center.get_distance(i, j) *\n",
    "            (self._var_l[i][j] + self._var_r[i][j])\n",
    "            for i in range(0, num_rooms - 1)\n",
    "            for j in range(i + 1, num_rooms)\n",
    "        ]\n",
    "        self._solver.Minimize(self._solver.Sum(expr))\n",
    "\n",
    "    def _create_constraints(self):\n",
    "        num_rooms = self._data_center.num_rooms\n",
    "        H = sum([self._data_center.get_room_length(r)\n",
    "                for r in range(num_rooms)])\n",
    "        for i in range(0, num_rooms):\n",
    "            hi = self._data_center.get_room_length(i)\n",
    "            for j in range(i + 1, num_rooms):\n",
    "                hj = self._data_center.get_room_length(j)\n",
    "                self._solver.Add(\n",
    "                    self._var_y[i] >=\n",
    "                    self._var_y[j] +\n",
    "                    hj -\n",
    "                    H * self._var_x[i][j]\n",
    "                )\n",
    "                \n",
    "                self._solver.Add(\n",
    "                    self._var_y[j] >=\n",
    "                    self._var_y[i] +\n",
    "                    hi -\n",
    "                    H * (1 - self._var_x[i][j])\n",
    "                )\n",
    "\n",
    "        for i, j in product(range(num_rooms), \n",
    "                            range(num_rooms)):\n",
    "            if i == j: continue\n",
    "            hi = self._data_center.get_room_length(i)\n",
    "            hj = self._data_center.get_room_length(j)\n",
    "            self._solver.Add(\n",
    "                self._var_r[i][j] - self._var_l[i][j] ==\n",
    "                self._var_y[i] - self._var_y[j] +\n",
    "                0.5 * (hi - hj)\n",
    "            )\n",
    "\n",
    "    def optimize(self):\n",
    "        status = self._solver.Solve()\n",
    "        if status == pywraplp.Solver.OPTIMAL:\n",
    "            self._opt_obj = self._solver.Objective().Value()\n",
    "            print(f\"obj = {self._opt_obj:.2f}\")\n",
    "            \n",
    "            num_rooms = self._data_center.num_rooms\n",
    "            self._opt_y = [\n",
    "                self._var_y[r].solution_value()\n",
    "                for r in range(num_rooms)\n",
    "            ]\n",
    "            for r in range(num_rooms):\n",
    "                print(f\"room {r} starting position: \\\n",
    "                    {self._opt_y[r]:.2f},\\t\\\n",
    "                    length: \\\n",
    "                        {self._data_center.get_room_length(r)}\")"
   ]
  },
  {
   "attachments": {},
   "cell_type": "markdown",
   "metadata": {},
   "source": [
    "To test the program since the original instance is too large, we use the first 8 rooms from the instance *AnKeVa_2005_60dept_set1* and solve it using OR-Tools. The program will output the optimal objective value and the positions of all the rooms."
   ]
  },
  {
   "cell_type": "code",
   "execution_count": 23,
   "metadata": {},
   "outputs": [
    {
     "name": "stdout",
     "output_type": "stream",
     "text": [
      "obj = 3715.00\n",
      "room 0 starting position: 217.00,\t                    length: 53.0\n",
      "room 1 starting position: 138.00,\t                    length: 7.0\n",
      "room 2 starting position: 53.00,\t                    length: 47.0\n",
      "room 3 starting position: 147.00,\t                    length: 15.0\n",
      "room 4 starting position: 100.00,\t                    length: 38.0\n",
      "room 5 starting position: 189.00,\t                    length: 28.0\n",
      "room 6 starting position: 162.00,\t                    length: 27.0\n",
      "room 7 starting position: 145.00,\t                    length: 2.0\n"
     ]
    }
   ],
   "source": [
    "import os\n",
    "\n",
    "data_dir = \"./data/srflp/Anjos\"\n",
    "data_file = \"AnKeVa_2005_60dept_set1-mini.txt\"\n",
    "\n",
    "data_center = SRFLPDataCenter()\n",
    "data_center.read_data(os.path.join(data_dir, data_file))\n",
    "\n",
    "solver = SRFLPSolver(data_center)\n",
    "solver.build_model()\n",
    "solver.optimize()"
   ]
  }
 ],
 "metadata": {
  "kernelspec": {
   "display_name": "ortools",
   "language": "python",
   "name": "python3"
  },
  "language_info": {
   "codemirror_mode": {
    "name": "ipython",
    "version": 3
   },
   "file_extension": ".py",
   "mimetype": "text/x-python",
   "name": "python",
   "nbconvert_exporter": "python",
   "pygments_lexer": "ipython3",
   "version": "3.10.9"
  },
  "orig_nbformat": 4,
  "vscode": {
   "interpreter": {
    "hash": "bf48c6200b504fe5a034fe37dc129ab5028b5377bed7e5a0a28d850d57df49a8"
   }
  }
 },
 "nbformat": 4,
 "nbformat_minor": 2
}
