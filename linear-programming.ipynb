{
 "cells": [
  {
   "attachments": {},
   "cell_type": "markdown",
   "metadata": {},
   "source": [
    "---\n",
    "highlight-style:\n",
    "  light: arrow.theme\n",
    "  dark: arrow-dark.theme\n",
    "format:\n",
    "  html:\n",
    "    code-line-numbers: false\n",
    "    code-overflow: wrap\n",
    "---"
   ]
  },
  {
   "attachments": {},
   "cell_type": "markdown",
   "metadata": {},
   "source": [
    "\n",
    "\n",
    "# Linear Programming {#sec-linear}"
   ]
  },
  {
   "attachments": {},
   "cell_type": "markdown",
   "metadata": {},
   "source": [
    "In this chapter, we first go through the modeling capabilities provided by Google OR-Tools to solve linear programming problems.\n",
    "Then we get our hands dirty by solving some linear programming problems.\n",
    "\n",
    "## Modeling Capabilities\n",
    "\n",
    "There are three components in a mathematical model, namely, decision varaibles, constraints and objective, for which we will go over in the following sections."
   ]
  },
  {
   "attachments": {},
   "cell_type": "markdown",
   "metadata": {},
   "source": [
    "### Solver\n",
    "\n",
    "In Google OR-Tools, a `Solver` instance must be created first so that variables, constraints and objective can be added to it.\n",
    "The `Solver` class is defined in the `ortools.linear_solver.pywraplp` module and it requires a solver id to instantiate an object.\n",
    "In the code snippet below, the required module is imported first and a `solver` object is created with `GLOP`, Google's own optimization engine for solving linear programming problems.\n",
    "It is good practice to verify whether the desired solver is indeed created successfully or not."
   ]
  },
  {
   "cell_type": "code",
   "execution_count": 63,
   "metadata": {},
   "outputs": [
    {
     "name": "stdout",
     "output_type": "stream",
     "text": [
      "solver creation success!\n"
     ]
    }
   ],
   "source": [
    "from ortools.linear_solver import pywraplp\n",
    "\n",
    "solver = pywraplp.Solver.CreateSolver(\"GLOP\")\n",
    "\n",
    "if solver:\n",
    "    print(\"solver creation success!\")\n",
    "else:\n",
    "    print(\"solver creation failure!\")"
   ]
  },
  {
   "attachments": {},
   "cell_type": "markdown",
   "metadata": {},
   "source": [
    "### Decision Variables\n",
    "\n",
    "The `Solver` class defines a number of ways to create decision variables:\n",
    "\n",
    "1. `Var(lb, ub, integer, name)`\n",
    "2. `NumVar(lb, ub, name)`\n",
    "3. `IntVar(lb, ub, name)`\n",
    "4. `BoolVar(name)`"
   ]
  },
  {
   "attachments": {},
   "cell_type": "markdown",
   "metadata": {},
   "source": [
    "- Function `Var()`\n",
    "\n",
    "The `Var()` method is the most flexible way to define variables, as it can be used to create numerical, integral and boolean variables.\n",
    "In the following code, a numerical variable named 'var1' is created with bound (0.0, 1.0).\n",
    "Note that the parameter `integer` is set to `False` in the call to function `Var()`."
   ]
  },
  {
   "cell_type": "code",
   "execution_count": 64,
   "metadata": {},
   "outputs": [],
   "source": [
    "var1 = solver.Var(lb=0, ub=1.0, integer=False, name=\"var1\")"
   ]
  },
  {
   "attachments": {},
   "cell_type": "markdown",
   "metadata": {},
   "source": [
    "We could create an integer variable using the same function:"
   ]
  },
  {
   "cell_type": "code",
   "execution_count": 65,
   "metadata": {},
   "outputs": [],
   "source": [
    "var2 = solver.Var(lb=0, ub=1.0, integer=True, name=\"var2\")"
   ]
  },
  {
   "attachments": {},
   "cell_type": "markdown",
   "metadata": {},
   "source": [
    "- Function `NumVar()`\n",
    "\n",
    "`var1` could be creatd alternatively using the specialized function `NumVar()`:"
   ]
  },
  {
   "cell_type": "code",
   "execution_count": 66,
   "metadata": {},
   "outputs": [],
   "source": [
    "var1 = solver.NumVar(lb=0, ub=1.0, name=\"var1\")"
   ]
  },
  {
   "attachments": {},
   "cell_type": "markdown",
   "metadata": {},
   "source": [
    "- Function `IntVar()`\n",
    "\n",
    "Similarly, `var2` could be created alternatively using the specialized function `IntVar()`:"
   ]
  },
  {
   "cell_type": "code",
   "execution_count": 67,
   "metadata": {},
   "outputs": [],
   "source": [
    "var2 = solver.IntVar(lb=0, ub=1.0, name=\"var2\")"
   ]
  },
  {
   "attachments": {},
   "cell_type": "markdown",
   "metadata": {},
   "source": [
    "- Function `BoolVar()`\n",
    "\n",
    "A boolean variable could be created using the `BoolVar()` function:"
   ]
  },
  {
   "cell_type": "code",
   "execution_count": 68,
   "metadata": {},
   "outputs": [],
   "source": [
    "var3 = solver.BoolVar(name=\"var3\")"
   ]
  },
  {
   "attachments": {},
   "cell_type": "markdown",
   "metadata": {},
   "source": [
    "### Constraints\n",
    "\n",
    "Constraints limit the solution space of an optimization problem, and there are two ways to define constraints in Google OR-Tools.\n",
    "In the first approach, we could use the `Add()` function to create a constraint and automatically add it to the model at the same time, as the below code snippet illustrates."
   ]
  },
  {
   "cell_type": "code",
   "execution_count": 69,
   "metadata": {},
   "outputs": [
    {
     "data": {
      "text/plain": [
       "ortools.linear_solver.pywraplp.Constraint"
      ]
     },
     "execution_count": 69,
     "metadata": {},
     "output_type": "execute_result"
    }
   ],
   "source": [
    "cons1 = solver.Add(constraint=var1 + var2 <= 1, name=\"cons1\")\n",
    "\n",
    "type(cons1)"
   ]
  },
  {
   "attachments": {},
   "cell_type": "markdown",
   "metadata": {},
   "source": [
    "Note that the `Add()` function returns an object of the `Constraint` class defined in the `pywraplp` module, as shown in the code output.\n",
    "It is a good practice to retain the reference of the newly created constraint, as we might want to query its information later on."
   ]
  },
  {
   "attachments": {},
   "cell_type": "markdown",
   "metadata": {},
   "source": [
    "The second approach works in a slightly different way. It starts with an empty constraint, with potential lower bound and upper bounds provided, and add components of the constraint gradually.\n",
    "The code snippet below shows an example of adding a second constraint to the model.\n",
    "In this approach, we must retain the reference to the constraint, as it is needed to add decision variables to the constraint in following steps."
   ]
  },
  {
   "cell_type": "code",
   "execution_count": 70,
   "metadata": {},
   "outputs": [
    {
     "data": {
      "text/plain": [
       "ortools.linear_solver.pywraplp.Constraint"
      ]
     },
     "execution_count": 70,
     "metadata": {},
     "output_type": "execute_result"
    }
   ],
   "source": [
    "cons2 = solver.Constraint(-solver.infinity(), 10.0, \"cons2\")\n",
    "cons2.SetCoefficient(var1, 2)\n",
    "cons2.SetCoefficient(var2, 3)\n",
    "cons2.SetCoefficient(var3, 4)\n",
    "type(cons2)"
   ]
  },
  {
   "attachments": {},
   "cell_type": "markdown",
   "metadata": {},
   "source": [
    "### Objective\n",
    "\n",
    "Similar to constraints, there are two ways to define the objective in Google OR-Tools.\n",
    "In the first approach, we directly add an objective to the model by using the `Maximize()` or `Minimize()` function.\n",
    "Below is an example:\n",
    "\n"
   ]
  },
  {
   "cell_type": "code",
   "execution_count": 71,
   "metadata": {},
   "outputs": [],
   "source": [
    "solver.Minimize(var1 + var2 + var3)"
   ]
  },
  {
   "attachments": {},
   "cell_type": "markdown",
   "metadata": {},
   "source": [
    "Note that the function itself does not return a reference to the newly created objective function, but we could use a dedicated function to retrive it:"
   ]
  },
  {
   "cell_type": "code",
   "execution_count": 72,
   "metadata": {},
   "outputs": [
    {
     "name": "stdout",
     "output_type": "stream",
     "text": [
      "<ortools.linear_solver.pywraplp.Objective; proxy of <Swig Object of type 'operations_research::MPObjective *' at 0x10f1e92c0> >\n"
     ]
    }
   ],
   "source": [
    "obj = solver.Objective()\n",
    "print(obj)"
   ]
  },
  {
   "attachments": {},
   "cell_type": "markdown",
   "metadata": {},
   "source": [
    "In the second approach, we build the objective incrementally, just as in the second approach of creating constraints.\n",
    "Specifically, we start with an empty objective function, and gradually add components to it.\n",
    "In the end, we specify the optimization sense - whether we want to maximize or minimnize the objective."
   ]
  },
  {
   "cell_type": "code",
   "execution_count": 73,
   "metadata": {},
   "outputs": [
    {
     "name": "stdout",
     "output_type": "stream",
     "text": [
      "<ortools.linear_solver.pywraplp.Objective; proxy of <Swig Object of type 'operations_research::MPObjective *' at 0x10fc86670> >\n"
     ]
    }
   ],
   "source": [
    "obj = solver.Objective()\n",
    "obj.SetCoefficient(var1, 1.0)\n",
    "obj.SetCoefficient(var2, 1.0)\n",
    "obj.SetCoefficient(var3, 1.0)\n",
    "obj.SetMinimization()\n",
    "print(obj)"
   ]
  },
  {
   "attachments": {},
   "cell_type": "markdown",
   "metadata": {},
   "source": [
    "### Objective and Constraint Expressions\n",
    "\n",
    "When we build constraints or objective functions, sometimes they comprise of complex expressions that we would like to build incrementally, possibly within loops.\n",
    "For example, we might have a mathematical expression of the form $expr = 2x_1 + 3x_2 + 4x_3 + x_4$, which could be part of the objective function or any constraints.\n",
    "In this case, we can either use the aforementioned `SetCoefficient()` function to add each element of the expression to the constraint or objective, or we could build an expression first and add it once in the end.\n",
    "The code snippet below shows an example."
   ]
  },
  {
   "cell_type": "code",
   "execution_count": 74,
   "metadata": {},
   "outputs": [
    {
     "name": "stdout",
     "output_type": "stream",
     "text": [
      "<ortools.linear_solver.pywraplp.Constraint; proxy of <Swig Object of type 'operations_research::MPConstraint *' at 0x10fcb3060> >\n"
     ]
    }
   ],
   "source": [
    "infinity = solver.Infinity()\n",
    "x1 = solver.NumVar(0, infinity, name=\"x1\")\n",
    "x2 = solver.NumVar(0, infinity, name=\"x2\")\n",
    "x3 = solver.NumVar(0, infinity, name=\"x3\")\n",
    "x4 = solver.NumVar(0, infinity, name=\"x4\")\n",
    "\n",
    "expr = []\n",
    "expr.append(2 * x1)\n",
    "expr.append(3 * x2)\n",
    "expr.append(4 * x3)\n",
    "expr.append(x4)\n",
    "\n",
    "constr = solver.Add(solver.Sum(expr) <= 10)\n",
    "print(constr)\n",
    "\n",
    "solver.Minimize(solver.Sum(expr))"
   ]
  },
  {
   "attachments": {},
   "cell_type": "markdown",
   "metadata": {},
   "source": [
    "Of course, it is not obvious here that the retitive calls to the `append()` method are any more convenient than the `SetCoefficient()` method.\n",
    "Let's say that we have a slightly more complex expression of the form $\\sum_{0 \\le i < 4}w_i \\cdot x_i$, now we could build the expression using a loop:"
   ]
  },
  {
   "cell_type": "code",
   "execution_count": 75,
   "metadata": {},
   "outputs": [],
   "source": [
    "w = [2, 3, 4, 1]\n",
    "x = [x1, x2, x3, x4]\n",
    "expr = []\n",
    "for i in range(4):\n",
    "    expr.append(w[i] * x[i])\n",
    "\n",
    "constr = solver.Add(solver.Sum(expr) <= 10)"
   ]
  },
  {
   "attachments": {},
   "cell_type": "markdown",
   "metadata": {},
   "source": [
    "### Query the Model\n",
    "\n",
    "After we build the model, we can query it using some helper functions.\n",
    "For example, to get the total number of constraints, we use the `NumVariables()` function.\n",
    "In a similar fashion, we can retrieve the total number of constraints with the `NumConstraints()` function."
   ]
  },
  {
   "cell_type": "code",
   "execution_count": 76,
   "metadata": {},
   "outputs": [
    {
     "name": "stdout",
     "output_type": "stream",
     "text": [
      "there are a total of 9 variables in the model\n",
      "there are a total of 4 constraints in the model\n"
     ]
    }
   ],
   "source": [
    "num_vars = solver.NumVariables()\n",
    "print(f\"there are a total of {num_vars} variables in the model\")\n",
    "\n",
    "num_constr = solver.NumConstraints()\n",
    "print(f\"there are a total of {num_constr} constraints in the model\")"
   ]
  },
  {
   "attachments": {},
   "cell_type": "markdown",
   "metadata": {},
   "source": [
    "## Applications\n",
    "\n",
    "In this section, we use some examples to showcase the modeling capability of Google OR-Tools.\n",
    "\n",
    "### Trivial Problem"
   ]
  },
  {
   "attachments": {},
   "cell_type": "markdown",
   "metadata": {},
   "source": [
    "We now consider an simple linear programming problem with two decision variables $x$ and $y$.\n",
    "The formal mathematical model is defined as below:"
   ]
  },
  {
   "attachments": {},
   "cell_type": "markdown",
   "metadata": {},
   "source": [
    "\n",
    "\\begin{align}\n",
    "\\text{max.} \\quad & x + 2y \\\\\n",
    "\\text{s.t.} \\quad & x + y \\le 10 \\\\\n",
    "& x >= 1 \\\\\n",
    "& y >= 1\n",
    "\\end{align}\n"
   ]
  },
  {
   "attachments": {},
   "cell_type": "markdown",
   "metadata": {},
   "source": [
    "@fig-lp-example shows the three defining constraints represented in blue lines and the feasible space depicted by the orange shaded area.\n",
    "The objective function is indicated by the red dashed lines.\n",
    "It can be seen from the figure that the point in green circle gives the maximal objective value of 19."
   ]
  },
  {
   "cell_type": "code",
   "execution_count": 77,
   "metadata": {},
   "outputs": [
    {
     "data": {
      "image/png": "[encoded data removed]",
      "text/plain": [
       "<Figure size 640x480 with 1 Axes>"
      ]
     },
     "metadata": {},
     "output_type": "display_data"
    }
   ],
   "source": [
    "# | echo: false\n",
    "# | fig-cap: A simple LP example\n",
    "# | label: fig-lp-example\n",
    "import matplotlib.pyplot as plt\n",
    "import numpy as np\n",
    "\n",
    "# setup axis\n",
    "fig = plt.figure()\n",
    "ax = fig.add_subplot(1, 1, 1)\n",
    "ax.spines[\"left\"].set_position(\"zero\")\n",
    "ax.spines[\"bottom\"].set_position(\"zero\")\n",
    "ax.spines[\"right\"].set_color(\"none\")\n",
    "ax.spines[\"top\"].set_color(\"none\")\n",
    "ax.xaxis.set_ticks_position(\"bottom\")\n",
    "ax.yaxis.set_ticks_position(\"left\")\n",
    "\n",
    "# plot three constraints\n",
    "x = np.linspace(-1, 11)\n",
    "y = 10 - x\n",
    "plt.plot(x, y, \"b\")\n",
    "plt.axvline(x=1, color=\"b\")\n",
    "plt.axhline(y=1, color=\"b\")\n",
    "\n",
    "# add annotations\n",
    "ax.annotate(\"y = 1\", xy=(4, 0.4))\n",
    "ax.annotate(\"x = 1\", xy=(0.5, 4), rotation=90)\n",
    "ax.annotate(\"x + y = 10\", xy=(4.8, 4), rotation=-30)\n",
    "\n",
    "# show the feasible space\n",
    "corners_x = np.array([1, 9, 1])\n",
    "corners_y = np.array([1, 1, 9])\n",
    "plt.fill(corners_x, corners_y, facecolor=\"lightsalmon\")\n",
    "\n",
    "# add objective function\n",
    "obj_x = np.linspace(-1, 11)\n",
    "obj_y = 9.5 - 0.5 * obj_x\n",
    "plt.plot(obj_x, obj_y, \"r--\")\n",
    "ax.annotate(\"obj = x + 2y\", xy=(3.5, 7.2), rotation=-15)\n",
    "ax.annotate(\"(1, 9)\", xy=(1.2, 9))\n",
    "plt.scatter(1, 9, marker=\"o\", c=\"g\")\n",
    "\n",
    "\n",
    "obj_x = np.linspace(-1, 11)\n",
    "obj_y = 1.5 - 0.5 * obj_x\n",
    "plt.plot(obj_x, obj_y, \"r--\")\n",
    "# ax.annotate('x + 2y = 19', xy=(4.5, 6.5), rotation=-20)\n",
    "\n",
    "# show the figure\n",
    "plt.show()"
   ]
  },
  {
   "attachments": {},
   "cell_type": "markdown",
   "metadata": {},
   "source": [
    "Let's now use Google OR-Tools to model and solve this problem.\n",
    "The code snippet below shows the complete program."
   ]
  },
  {
   "cell_type": "code",
   "execution_count": 78,
   "metadata": {},
   "outputs": [
    {
     "name": "stdout",
     "output_type": "stream",
     "text": [
      "obj = 19.0\n",
      "x = 1.0, reduced cost = -1.0\n",
      "y = 9.0, reduced cost = 0.0\n",
      "constr dual value = 2.0\n"
     ]
    }
   ],
   "source": [
    "# import Google OR-Tools library\n",
    "from ortools.linear_solver import pywraplp\n",
    "\n",
    "# create a solver\n",
    "solver = pywraplp.Solver.CreateSolver(\"GLOP\")\n",
    "\n",
    "# create decision variables\n",
    "x = solver.NumVar(1.0, solver.Infinity(), \"x\")\n",
    "y = solver.NumVar(1.0, solver.Infinity(), \"y\")\n",
    "\n",
    "# create constraints\n",
    "constr = solver.Add(x + y <= 10)\n",
    "\n",
    "# create objective\n",
    "solver.Maximize(x + 2 * y)\n",
    "\n",
    "# solve the problem\n",
    "status = solver.Solve()\n",
    "\n",
    "if status == pywraplp.Solver.OPTIMAL or status == pywraplp.Solver.FEASIBLE:\n",
    "    print(f\"obj = {solver.Objective().Value()}\")\n",
    "    print(f\"x = {x.solution_value()}, reduced cost = {x.reduced_cost()}\")\n",
    "    print(f\"y = {y.solution_value()}, reduced cost = {y.reduced_cost()}\")\n",
    "    print(f\"constr dual value = {constr.dual_value()}\")"
   ]
  },
  {
   "attachments": {},
   "cell_type": "markdown",
   "metadata": {},
   "source": [
    "We can see from the output that the optimal solution is $x = 1.0$ and $y = 9.0$, and the optimal objective is 19.0.\n",
    "This can also be validated from @fig-lp-example that the optimal solution is exactly the green point that sits at the intersection of the three lines $x = 1$, $x + y = 10$ and $x + 2y = 19$."
   ]
  },
  {
   "attachments": {},
   "cell_type": "markdown",
   "metadata": {},
   "source": [
    "@fig-lp-example also shows that the point (1, 1) should give us the minimal value of the objective function.\n",
    "To validate this, we can actually change the optimization sense of the objective function from maximization to minimization using the function `SetOptimizationDirection()`, as shown in the code below:"
   ]
  },
  {
   "cell_type": "code",
   "execution_count": 79,
   "metadata": {},
   "outputs": [
    {
     "name": "stdout",
     "output_type": "stream",
     "text": [
      "obj = 3.0\n",
      "x = 1.0, reduced cost = 1.0\n",
      "y = 1.0, reduced cost = 2.0\n",
      "constr dual value = 0.0\n"
     ]
    }
   ],
   "source": [
    "solver.Objective().SetOptimizationDirection(maximize=False)\n",
    "\n",
    "solver.Solve()\n",
    "\n",
    "print(f\"obj = {solver.Objective().Value()}\")\n",
    "print(f\"x = {x.solution_value()}, reduced cost = {x.reduced_cost()}\")\n",
    "print(f\"y = {y.solution_value()}, reduced cost = {y.reduced_cost()}\")\n",
    "print(f\"constr dual value = {constr.dual_value()}\")"
   ]
  },
  {
   "attachments": {},
   "cell_type": "markdown",
   "metadata": {},
   "source": [
    "### Transportation Problem\n",
    "\n",
    "The transportation problem involves moving goods from its sources $\\mathcal{S}$ to destinations $\\mathcal{D}$.\n",
    "Each source $s \\in \\mathcal{S}$  has a total amount of goods $p_s$ it could supply, and each destination $s \\in \\mathcal{D}$ has a certain amount of demands $m_d$.\n",
    "There is a transportation cost, denoted by $c_{sd}$, to move one unit of goods from a source to a destination.\n",
    "The problem is to find the best set of goods to move from each source to each destination such that all the destination demands are met with the lowest transportation costs."
   ]
  },
  {
   "attachments": {},
   "cell_type": "markdown",
   "metadata": {},
   "source": [
    "To model this transportation problem, we define the decision variable $x_{sd}$ to be the amount of goods moving from source $s$ to destinaiton $d$.\n",
    "Then we could state the problem mathematically as below."
   ]
  },
  {
   "attachments": {},
   "cell_type": "markdown",
   "metadata": {},
   "source": [
    "\\begin{align}\n",
    "\\text{min.} &\\quad \\sum_{s \\in \\mathcal{S}} \\sum_{d \\in \\mathcal{D}} c_{sd} x_{sd} \\label{tp-obj} \\\\\n",
    "\\text{s.t.} & \\quad \\sum_{d \\in \\mathcal{D}} x_{sd} = p_s, \\ \\forall s \\in \\mathcal{S} \\label{tp-cons1} \\\\\n",
    "& \\sum_{s \\in \\mathcal{S}} x_{sd} = m_d, \\ \\forall d \\in \\mathcal{D} \\label{tp-cons2} \\\\\n",
    "& x_{sd} \\geq 0, \\ \\forall s \\in \\mathcal{S}, d \\in \\mathcal{D} \\label{tp-cons3}\n",
    "\\end{align}"
   ]
  },
  {
   "attachments": {},
   "cell_type": "markdown",
   "metadata": {},
   "source": [
    "The objective function \\eqref{tp-obj} aims to minimize the total transportation costs going from all sources to all destinations.\n",
    "Constraints \\eqref{tp-cons1} make sure that the sum of goods leaving a source node $s$ must equal to its available supply $p_s$.\n",
    "Constraints \\eqref{tp-cons2} require that the sum of goods gonig to a destination node $d$ must equal to its demand $m_d$.\n",
    "Constraints \\eqref{tp-cons3} state that the flow variables from sources to destination can only be nonnegative values."
   ]
  },
  {
   "attachments": {},
   "cell_type": "markdown",
   "metadata": {},
   "source": [
    "@tbl-tp shows an instance of the transportation problem in which there are four sources and five destinations.\n",
    "Entries in the last row give the corresponding demand from each destination, and the last column list the available supply at each source.\n",
    "The entries in the middle of the table show the transportation cost associated with moving from a specific source to a specific destination.\n",
    "For example, it costs $18 to move one unit of good from source S2 to D3."
   ]
  },
  {
   "cell_type": "code",
   "execution_count": 80,
   "metadata": {},
   "outputs": [
    {
     "data": {
      "text/markdown": [
       "          D1    D2    D3    D4    D5    Supply\n",
       "------  ----  ----  ----  ----  ----  --------\n",
       "S1         8     5    13    12    12        58\n",
       "S2         8     7    18     6     5        55\n",
       "S3        11    12     5    11    18        64\n",
       "S4        19    13     5    10    18        71\n",
       "Demand    44    28    36    52    88       248"
      ],
      "text/plain": [
       "<IPython.core.display.Markdown object>"
      ]
     },
     "execution_count": 80,
     "metadata": {},
     "output_type": "execute_result"
    }
   ],
   "source": [
    "# | echo: false\n",
    "# | label: tbl-tp\n",
    "# | tbl-cap: A transportation problem\n",
    "\n",
    "from IPython.display import Markdown\n",
    "from tabulate import tabulate\n",
    "import random\n",
    "\n",
    "random.seed(42)\n",
    "\n",
    "num_sources = 4\n",
    "num_destinations = 5\n",
    "row_names = [\"S1\", \"S2\", \"S3\", \"S4\", \"Demand\"]\n",
    "col_names = [\" \", \"D1\", \"D2\", \"D3\", \"D4\", \"D5\", \"Supply\"]\n",
    "\n",
    "min_cost = 5\n",
    "max_cost = 20\n",
    "min_supply = 50\n",
    "max_supply = 100\n",
    "table_data = []\n",
    "total_supply = 0\n",
    "for idx, name in enumerate(row_names):\n",
    "    if idx >= 4:\n",
    "        break\n",
    "    row_data = []\n",
    "    row_data.append(name)\n",
    "    row_data.extend([random.randint(min_cost, max_cost) for _ in range(5)])\n",
    "    supply = random.randint(min_supply, max_supply)\n",
    "    total_supply += supply\n",
    "    row_data.append(supply)\n",
    "    table_data.append(row_data)\n",
    "\n",
    "last_row = []\n",
    "total_demand = 0\n",
    "last_row.append(row_names[idx])\n",
    "last_row.extend(\n",
    "    [random.randint(total_supply // 5 - 40, total_supply // 5 + 40) for _ in range(4)]\n",
    ")\n",
    "total_demand += sum(last_row[1:])\n",
    "last_row.append(total_supply - total_demand)\n",
    "last_row.append(total_supply)\n",
    "table_data.append(last_row)\n",
    "\n",
    "\n",
    "Markdown(tabulate(table_data, headers=col_names))"
   ]
  },
  {
   "attachments": {},
   "cell_type": "markdown",
   "metadata": {},
   "source": [
    "We show here two modeling flavors of using OR-Tools to solve this problem.\n",
    "In the first approach, decision variables are created using the `NumVar()` function, cnostraints are defined using the `Add()` function and the objective function is added using the `Minimize()` function.\n",
    "Note that both constraints and the objective function are generated with the help of of `Sum()` function that creates an expression."
   ]
  },
  {
   "cell_type": "code",
   "execution_count": 81,
   "metadata": {},
   "outputs": [
    {
     "name": "stdout",
     "output_type": "stream",
     "text": [
      "optimal obj = 2013.0\n"
     ]
    }
   ],
   "source": [
    "# | echo: true\n",
    "\n",
    "from ortools.linear_solver import pywraplp\n",
    "\n",
    "# gather data\n",
    "num_sources = 4\n",
    "num_destinations = 5\n",
    "supplies = [58, 55, 64, 71]\n",
    "demands = [44, 28, 36, 52, 88]\n",
    "costs = [[8, 5, 13, 12, 12], \n",
    "        [8, 7, 18, 6, 5], \n",
    "        [11, 12, 5, 11, 18], \n",
    "        [19, 13, 5, 10, 18]]\n",
    "\n",
    "# create solver\n",
    "solver = pywraplp.Solver.CreateSolver(\"GLOP\")\n",
    "\n",
    "# create decision variables\n",
    "var_flow = []\n",
    "for src_idx in range(num_sources):\n",
    "    vars = [\n",
    "        solver.NumVar(0, solver.Infinity(), \n",
    "                    name=f\"var_{src_idx}, {dest_idx}\")\n",
    "        for dest_idx in range(num_destinations)\n",
    "    ]\n",
    "    var_flow.append(vars)\n",
    "\n",
    "# create constraints\n",
    "for src_idx in range(num_sources):\n",
    "    expr = [var_flow[src_idx][dest_idx] \n",
    "            for dest_idx in range(num_destinations)]\n",
    "    solver.Add(solver.Sum(expr) == supplies[src_idx])\n",
    "\n",
    "for dest_idx in range(num_destinations):\n",
    "    expr = [var_flow[src_idx][dest_idx] \n",
    "            for src_idx in range(num_sources)]\n",
    "    solver.Add(solver.Sum(expr) == demands[dest_idx])\n",
    "\n",
    "# create objective function\n",
    "obj_expr = []\n",
    "for src_idx in range(num_sources):\n",
    "    for dest_idx in range(num_destinations):\n",
    "        obj_expr.append(var_flow[src_idx][dest_idx] * costs[src_idx][dest_idx])\n",
    "solver.Minimize(solver.Sum(obj_expr))\n",
    "\n",
    "status = solver.Solve()\n",
    "\n",
    "opt_flow = []\n",
    "if status == pywraplp.Solver.OPTIMAL:\n",
    "    print(f\"optimal obj = {solver.Objective().Value()}\")\n",
    "    for src_idx in range(num_sources):\n",
    "        opt_vals = [var_flow[src_idx][dest_idx].solution_value()\n",
    "                    for dest_idx in range(num_destinations)]\n",
    "        opt_flow.append(opt_vals)"
   ]
  },
  {
   "attachments": {},
   "cell_type": "markdown",
   "metadata": {},
   "source": [
    "The optimal solution is shown in @tbl-tp-sol1."
   ]
  },
  {
   "cell_type": "code",
   "execution_count": 82,
   "metadata": {},
   "outputs": [
    {
     "data": {
      "text/markdown": [
       "          D1    D2    D3    D4    D5    Supply\n",
       "------  ----  ----  ----  ----  ----  --------\n",
       "S1         0    28     0     0    30        58\n",
       "S2         0     0     0     0    55        55\n",
       "S3        44     0    20     0     0        64\n",
       "S4         0     0    16    52     3        71\n",
       "Demand    44    28    36    52    88       248"
      ],
      "text/plain": [
       "<IPython.core.display.Markdown object>"
      ]
     },
     "execution_count": 82,
     "metadata": {},
     "output_type": "execute_result"
    }
   ],
   "source": [
    "# | echo: false\n",
    "# | label: tbl-tp-sol1\n",
    "# | tbl-cap: The optimal solution\n",
    "\n",
    "from IPython.display import Markdown\n",
    "from tabulate import tabulate\n",
    "import random\n",
    "\n",
    "random.seed(42)\n",
    "\n",
    "num_sources = 4\n",
    "num_destinations = 5\n",
    "row_names = [\"S1\", \"S2\", \"S3\", \"S4\", \"Demand\"]\n",
    "col_names = [\" \", \"D1\", \"D2\", \"D3\", \"D4\", \"D5\", \"Supply\"]\n",
    "\n",
    "sol1_table_data = []\n",
    "for idx, name in enumerate(row_names):\n",
    "    if idx >= 4:\n",
    "        break\n",
    "    row_data = []\n",
    "    row_data.append(name)\n",
    "    row_data.extend(opt_flow[idx])\n",
    "    supply = table_data[idx][6]\n",
    "    row_data.append(supply)\n",
    "    sol1_table_data.append(row_data)\n",
    "\n",
    "last_row = table_data[4]\n",
    "sol1_table_data.append(last_row)\n",
    "\n",
    "Markdown(tabulate(sol1_table_data, headers=col_names))"
   ]
  },
  {
   "attachments": {},
   "cell_type": "markdown",
   "metadata": {},
   "source": [
    "In the second approach shown in the code snippet below, decision variables are created with the `Var(integer=False)` method instead of the `NumVar()` method.\n",
    "In addition, both constraints and the objective function are created using the `SetCoefficient()` method.\n",
    "In the case of constraints, a lower bound and upper bound are used to generated an empty constraint, and variables are then added to the constraint one by one with their corresponding coefficient.\n",
    "In the case of the objective function, an empty objective is first initialized and variables are then added to it sequentially.\n",
    "Note that the optimization sense is set using the `SetMinimization()` function."
   ]
  },
  {
   "cell_type": "code",
   "execution_count": 83,
   "metadata": {},
   "outputs": [
    {
     "name": "stdout",
     "output_type": "stream",
     "text": [
      "optimal obj = 2013.0\n"
     ]
    }
   ],
   "source": [
    "from ortools.linear_solver import pywraplp\n",
    "\n",
    "# gather data\n",
    "num_sources = 4\n",
    "num_destinations = 5\n",
    "supplies = [58, 55, 64, 71]\n",
    "demands = [44, 28, 36, 52, 88]\n",
    "costs = [[8, 5, 13, 12, 12], \n",
    "        [8, 7, 18, 6, 5], \n",
    "        [11, 12, 5, 11, 18],\n",
    "        [19, 13, 5, 10, 18]]\n",
    "\n",
    "# create solver\n",
    "solver = pywraplp.Solver.CreateSolver(\"GLOP\")\n",
    "\n",
    "# create decision variables\n",
    "var_flow = []\n",
    "for src_idx in range(num_sources):\n",
    "    vars = [\n",
    "        solver.Var(\n",
    "            0, solver.Infinity(), integer=False, \n",
    "            name=f\"var_{src_idx}, {dest_idx}\"\n",
    "        )\n",
    "        for dest_idx in range(num_destinations)\n",
    "    ]\n",
    "    var_flow.append(vars)\n",
    "\n",
    "# create constraints\n",
    "for src_idx in range(num_sources):\n",
    "    constr = solver.Constraint(supplies[src_idx], supplies[src_idx])\n",
    "    for dest_idx in range(num_destinations):\n",
    "        constr.SetCoefficient(var_flow[src_idx][dest_idx], 1.0)\n",
    "\n",
    "for dest_idx in range(num_destinations):\n",
    "    constr = solver.Constraint(demands[dest_idx], demands[dest_idx])\n",
    "    for src_idx in range(num_sources):\n",
    "        constr.SetCoefficient(var_flow[src_idx][dest_idx], 1.0)\n",
    "\n",
    "# create objective function\n",
    "obj = solver.Objective()\n",
    "for src_idx in range(num_sources):\n",
    "    for dest_idx in range(num_destinations):\n",
    "        obj.SetCoefficient(var_flow[src_idx][dest_idx], costs[src_idx][dest_idx])\n",
    "obj.SetMinimization()\n",
    "\n",
    "status = solver.Solve()\n",
    "\n",
    "opt_flow = []\n",
    "if status == pywraplp.Solver.OPTIMAL:\n",
    "    print(f\"optimal obj = {solver.Objective().Value()}\")\n",
    "    for src_idx in range(num_sources):\n",
    "        opt_vals = [var_flow[src_idx][dest_idx].solution_value()\n",
    "                    for dest_idx in range(num_destinations)]\n",
    "        opt_flow.append(opt_vals)"
   ]
  },
  {
   "attachments": {},
   "cell_type": "markdown",
   "metadata": {},
   "source": [
    "To validate the results, @tbl-tp-sol2 shows the optimal solution produced by the second modeling approach, which is the same as in the previous approach."
   ]
  },
  {
   "cell_type": "code",
   "execution_count": 84,
   "metadata": {},
   "outputs": [
    {
     "data": {
      "text/markdown": [
       "          D1    D2    D3    D4    D5    Supply\n",
       "------  ----  ----  ----  ----  ----  --------\n",
       "S1         0    28     0     0    30        58\n",
       "S2         0     0     0     0    55        55\n",
       "S3        44     0    20     0     0        64\n",
       "S4         0     0    16    52     3        71\n",
       "Demand    44    28    36    52    88       248"
      ],
      "text/plain": [
       "<IPython.core.display.Markdown object>"
      ]
     },
     "execution_count": 84,
     "metadata": {},
     "output_type": "execute_result"
    }
   ],
   "source": [
    "# | echo: false\n",
    "# | label: tbl-tp-sol2\n",
    "# | tbl-cap: The optimal solution\n",
    "\n",
    "from IPython.display import Markdown\n",
    "from tabulate import tabulate\n",
    "import random\n",
    "\n",
    "random.seed(42)\n",
    "\n",
    "num_sources = 4\n",
    "num_destinations = 5\n",
    "row_names = [\"S1\", \"S2\", \"S3\", \"S4\", \"Demand\"]\n",
    "col_names = [\" \", \"D1\", \"D2\", \"D3\", \"D4\", \"D5\", \"Supply\"]\n",
    "\n",
    "sol2_table_data = []\n",
    "for idx, name in enumerate(row_names):\n",
    "    if idx >= 4:\n",
    "        break\n",
    "    row_data = []\n",
    "    row_data.append(name)\n",
    "    row_data.extend(opt_flow[idx])\n",
    "    supply = table_data[idx][6]\n",
    "    row_data.append(supply)\n",
    "    sol2_table_data.append(row_data)\n",
    "\n",
    "last_row = table_data[4]\n",
    "sol2_table_data.append(last_row)\n",
    "\n",
    "Markdown(tabulate(sol2_table_data, headers=col_names))"
   ]
  },
  {
   "attachments": {},
   "cell_type": "markdown",
   "metadata": {},
   "source": [
    "### Resource Allocation Problem\n",
    "\n",
    "The resource allocation problems involves distributing scarce resources among alternative activities.\n",
    "The resources could be machines in a manufacturing facility, money available to spend, or CPU runtime.\n",
    "The activities could be anything that brings profit at the cost of consuming resources.\n",
    "The objective of this problem is therefore to allocate the available resources to activities such that the total profit is maximized."
   ]
  },
  {
   "attachments": {},
   "cell_type": "markdown",
   "metadata": {},
   "source": [
    "Here, we give a general resource allocation model devoid of any practical meanings.\n",
    "To this end, we define a few input parameters to this problem:\n",
    "\n",
    "- $\\mathcal{A}$: the set of candidate activities\n",
    "- $\\mathcal{R}$: the set of avaiable resources\n",
    "- $p_a$: the profit of performing one unit of activity $a \\in \\mathcal{A}$\n",
    "- $c_{ar}$: the amount of resource $r \\in \\mathcal{R}$ required by one unit of activity $a \\in \\mathcal{A}$\n",
    "- $b_r$: the total amount of available quantities for resource $r \\in \\mathcal{R}$"
   ]
  },
  {
   "attachments": {},
   "cell_type": "markdown",
   "metadata": {},
   "source": [
    "The decision variable $x_a$ represents the amount of activity $a \\in \\mathcal{A}$ we select to perform, and the mathematical mode is defined below:"
   ]
  },
  {
   "attachments": {},
   "cell_type": "markdown",
   "metadata": {},
   "source": [
    "\\begin{align}\n",
    "\\text{max.} &\\quad \\sum_{a \\in \\mathcal{A}} p_a x_a \\label{ra-obj} \\\\\n",
    "\\text{s.t.} & \\quad \\sum_{a \\in \\mathcal{A}} c_{ar} \\leq b_r, \\ \\forall r \\in \\mathcal{R} \\label{ra-cons1} \\\\\n",
    "& x_a \\geq 0, \\ a \\in \\mathcal{A}\n",
    "\\end{align}"
   ]
  },
  {
   "attachments": {},
   "cell_type": "markdown",
   "metadata": {},
   "source": [
    "@tbl-resource-allocation-data shows an instance of the resource allocation problem, in which there are three type of resources and five candidate activities.\n",
    "The last row gives the profit of performing each unit of an activity, while the last column shows the available amount of resources.\n",
    "The remaining entries in the table refer to the resource consumption for each activity.\n",
    "For example, selecting one unit of activity 1 (A1) requires 90, 64 and 55 units of resources R1, R2 and R3, respectively."
   ]
  },
  {
   "cell_type": "code",
   "execution_count": 85,
   "metadata": {},
   "outputs": [
    {
     "data": {
      "text/markdown": [
       "          A1    A2    A3    A4    A5    Available\n",
       "------  ----  ----  ----  ----  ----  -----------\n",
       "R1        90    57    51    97    67         2001\n",
       "R2        64    58    97    56    93         2616\n",
       "R3        55    87    77    52    51         1691\n",
       "Profit  1223  1238  1517  1616  1027"
      ],
      "text/plain": [
       "<IPython.core.display.Markdown object>"
      ]
     },
     "execution_count": 85,
     "metadata": {},
     "output_type": "execute_result"
    }
   ],
   "source": [
    "# | echo: false\n",
    "# | label: tbl-resource-allocation-data\n",
    "# | tbl-cap: A resource allocation problem\n",
    "\n",
    "from IPython.display import Markdown\n",
    "from tabulate import tabulate\n",
    "import random\n",
    "\n",
    "random.seed(42)\n",
    "\n",
    "num_resources = 3\n",
    "num_activities = 5\n",
    "row_names = [\"R1\", \"R2\", \"R3\", \"Profit\"]\n",
    "col_names = [\" \", \"A1\", \"A2\", \"A3\", \"A4\", \"A5\", \"Available\"]\n",
    "\n",
    "min_consumption = 50\n",
    "max_consumption = 100\n",
    "min_supply = 1500\n",
    "max_supply = 2800\n",
    "ra_table_data = []\n",
    "\n",
    "random.seed(42)\n",
    "for idx, name in enumerate(row_names):\n",
    "    if idx >= 3:\n",
    "        break\n",
    "    row_data = []\n",
    "    # add row name\n",
    "    row_data.append(name)\n",
    "    \n",
    "    # add consumption per activitiy/resource\n",
    "    row_data.extend([random.randint(min_consumption, max_consumption) for _ in range(5)])\n",
    "    \n",
    "    # add supply\n",
    "    supply = random.randint(min_supply, max_supply)\n",
    "    row_data.append(supply)\n",
    "    ra_table_data.append(row_data)\n",
    "\n",
    "last_row = []\n",
    "last_row.append(row_names[idx])\n",
    "last_row.extend(\n",
    "    [random.randint(1000, 2000) for _ in range(5)]\n",
    ")\n",
    "\n",
    "# last_row.append(' ')\n",
    "ra_table_data.append(last_row)\n",
    "\n",
    "Markdown(tabulate(ra_table_data, headers=col_names))"
   ]
  },
  {
   "attachments": {},
   "cell_type": "markdown",
   "metadata": {},
   "source": [
    "In the code snippet below, we use Google OR-Tools to solve this problem instance.\n",
    "Again, we start with initializing a solver object, follwed by creation of five decision variables, one for each activity.\n",
    "Both the constraints and objective function are created using the first modeling approach demonstrated previously.\n",
    "The optimal solution is outputed in the end."
   ]
  },
  {
   "cell_type": "code",
   "execution_count": 86,
   "metadata": {},
   "outputs": [
    {
     "name": "stdout",
     "output_type": "stream",
     "text": [
      "solve complete!\n",
      "optimal obj = 41645.23\n",
      "opt_x[1] = 0.00\n",
      "opt_x[2] = 0.00\n",
      "opt_x[3] = 12.45\n",
      "opt_x[4] = 14.08\n",
      "opt_x[5] = 0.00\n"
     ]
    }
   ],
   "source": [
    "from ortools.linear_solver import pywraplp\n",
    "\n",
    "# gather instance data\n",
    "num_resources = 3\n",
    "num_activities = 5\n",
    "profits = [1223, 1238, 1517, 1616, 1027]\n",
    "available_resources = [2001, 2616, 1691]\n",
    "costs = [[90, 57, 51, 97, 67],\n",
    "        [64, 58, 97, 56, 93],\n",
    "        [55, 87, 77, 52, 51]]\n",
    "\n",
    "# initialize a solver object\n",
    "solver = pywraplp.Solver.CreateSolver(\"GLOP\")\n",
    "\n",
    "infinity = solver.Infinity()\n",
    "# create decision variables\n",
    "var_x = [solver.NumVar(0, infinity, name=f\"x_P{a}\") \n",
    "        for a in range(num_activities)]\n",
    "\n",
    "# create objective function\n",
    "solver.Maximize(solver.Sum([profits[a] * var_x[a] \n",
    "                            for a in range(num_activities)]))\n",
    "\n",
    "# create constraints\n",
    "for r_idx in range(num_resources):\n",
    "    cons = solver.Add(\n",
    "            solver.Sum([costs[r_idx][a_idx] * var_x[a_idx] \n",
    "                        for a_idx in range(num_activities)]) \n",
    "                      <= available_resources[r_idx])\n",
    "    \n",
    "status = solver.Solve()\n",
    "if status != pywraplp.Solver.OPTIMAL:\n",
    "    print(\"solver failure!\")\n",
    "\n",
    "print(\"solve complete!\")\n",
    "opt_obj = solver.Objective().Value()\n",
    "print(f\"optimal obj = {opt_obj:.2f}\")\n",
    "\n",
    "opt_sol = [var_x[a_idx].solution_value() \n",
    "           for a_idx in range(num_activities)]\n",
    "for a_idx in range(num_activities):\n",
    "    print(f\"opt_x[{a_idx + 1}] = {opt_sol[a_idx]:.2f}\")"
   ]
  },
  {
   "attachments": {},
   "cell_type": "markdown",
   "metadata": {},
   "source": [
    "### Workforce Planning Problem\n",
    "\n",
    "In the workforce planning problem, there are a number of time periods and each period has a workforce requirement that must be satisfied.\n",
    "In addition, there are a set of available work patterns to assign workers to and each pattern cover one or more time periods.\n",
    "Note that assignment of workers to a particular pattern incurs a certain cost.\n",
    "The problem is then to identify the number of workers assigned to each pattern such that the total cost is minimized.\n",
    "\n",
    "@tbl-workforce-inst-1 shows a contrived workforce planning problem instance.\n",
    "In this problem, there are a total of 10 time periods and there are four patterns available to assign workers to.\n",
    "The last row gives the work requirement in each time period and the last column shows the cost of assigning a worker to a pattern."
   ]
  },
  {
   "attachments": {},
   "cell_type": "markdown",
   "metadata": {},
   "source": [
    "Coverage | 1 | 2 | 3 | 4 | 5 | 6 | 7 | 8 | 9 | 10 | Cost \n",
    "--- | --- | --- | --- | --- | --- | --- | --- | --- | --- | --- | ---\n",
    "Pattern 1 | x| x| x|x | | | | | |  | 10\n",
    "Pattern 2 | | | x| x|x | | | | |  | 30\n",
    "Pattern 3 | | | |x |x |x |x | | |  | 20\n",
    "Pattern 4 | | | | | | |x |x | x|x  | 40\n",
    "Requirement | 3 |4 |3 | 1| 5| 7|2 |4 | 5| 1\n",
    "\n",
    ": A workforce planning problem instance {#tbl-workforce-inst-1}\n"
   ]
  },
  {
   "attachments": {},
   "cell_type": "markdown",
   "metadata": {},
   "source": [
    "To model this problem, we use $\\mathcal{T}$ and $\\mathcal{P}$ to denote the set of time periods and patterns, respectively.\n",
    "The parameter $m_{pt}$ indicates whether a pattern $p \\in \\mathcal{P}$ covers a certain time period $t \\in \\mathcal{T}$.\n",
    "The work requirement of each time period and the cost of assigning a pattern is represented as $r_t$ and $c_p$, respectively.\n",
    "\n"
   ]
  },
  {
   "attachments": {},
   "cell_type": "markdown",
   "metadata": {},
   "source": [
    "Now we are ready to define the variable $x_p$ as the number of workers that are assigned to pattern $p$, and the mathematical model can be stated as below."
   ]
  },
  {
   "attachments": {},
   "cell_type": "markdown",
   "metadata": {},
   "source": [
    "\\begin{align}\n",
    "\\text{min.} & \\quad \\sum_{p \\in \\mathcal{P}} c_p x_p \\\\\n",
    "\\text{s.t.} & \\quad \\sum_{p \\in \\mathcal{P}} m_{pt} x_p \\geq r_t, \\ \\forall t \\in \\mathcal{T} \\\\\n",
    "&\\quad x_p \\geq 0, \\ \\forall p \\in \\mathcal{P}\n",
    "\\end{align}"
   ]
  },
  {
   "attachments": {},
   "cell_type": "markdown",
   "metadata": {},
   "source": [
    "The code snippet below gives the Python code to solve this problem using Google OR-Tools."
   ]
  },
  {
   "cell_type": "code",
   "execution_count": 87,
   "metadata": {},
   "outputs": [
    {
     "name": "stdout",
     "output_type": "stream",
     "text": [
      "obj = 380.0\n",
      "var_1 = 4.0\n",
      "var_2 = 0.0\n",
      "var_3 = 7.0\n",
      "var_4 = 5.0\n"
     ]
    }
   ],
   "source": [
    "from ortools.linear_solver import pywraplp\n",
    "\n",
    "# import instance data\n",
    "num_periods = 10\n",
    "num_patterns = 4\n",
    "requirements = [3, 4, 3, 1, 5, 7, 2, 4, 5, 1]\n",
    "costs = [10, 30, 20, 40]\n",
    "patterns = [set([1, 2, 3, 4]),\n",
    "            set([3, 4, 5]),\n",
    "            set([4, 5, 6, 7]),\n",
    "            set([7, 8, 9, 10])]\n",
    "\n",
    "# create solver object\n",
    "solver = pywraplp.Solver.CreateSolver('GLOP')\n",
    "\n",
    "infinity = solver.Infinity()\n",
    "# create decision variables\n",
    "var_p = [solver.NumVar(0, infinity, name=f\"x_{p}\")\n",
    "         for p in range(num_patterns)]\n",
    "\n",
    "# create objective function\n",
    "solver.Minimize(\n",
    "    solver.Sum([costs[p] * var_p[p] \n",
    "                for p in range(num_patterns)])\n",
    ")\n",
    "\n",
    "# create constraints\n",
    "for t in range(num_periods):   \n",
    "    solver.Add(\n",
    "        solver.Sum([var_p[p] \n",
    "                    for p in range(num_patterns) \n",
    "                    if (t + 1) in patterns[p]])\n",
    "        >= requirements[t])\n",
    "\n",
    "# solve the problem and retrieve optimal solution\n",
    "status = solver.Solve()\n",
    "if status == pywraplp.Solver.OPTIMAL:\n",
    "    print(f\"obj = {solver.Objective().Value()}\")\n",
    "    for p in range(num_patterns):\n",
    "        print(f\"var_{p + 1} = {var_p[p].solution_value()}\")"
   ]
  },
  {
   "attachments": {},
   "cell_type": "markdown",
   "metadata": {},
   "source": [
    "### Sudoku Problem\n",
    "\n",
    "\n",
    "In a Sudoku problem, a grid of 9x9 is given and the task is to fill all the cells with numbers 1-9.\n",
    "At the beginning, some of the cells are already gilled with numbers and the requirements are that the remaining cells must be filled so that each row, each column, and each of the 9 3x3 sub-grids contain all the numbers from 1 to 9 without any repitition.\n",
    "The difficulty level of Sudoku problems depends on the number of cells that are already filled in the grid at the beginning of the game. \n",
    "Problems with fewer initial digits filled are considered more challenging.\n",
    "@fig-sudoku-problem illustrate a sample Sudoku problem.\n"
   ]
  },
  {
   "cell_type": "code",
   "execution_count": 88,
   "metadata": {},
   "outputs": [
    {
     "data": {
      "image/png": "[encoded data removed]",
      "text/plain": [
       "<Figure size 800x800 with 1 Axes>"
      ]
     },
     "metadata": {},
     "output_type": "display_data"
    }
   ],
   "source": [
    "# | echo: false\n",
    "# | label: fig-sudoku-problem\n",
    "# | fig-cap: A Sudoku problem\n",
    "\n",
    "from typing import List\n",
    "import matplotlib.pyplot as plt\n",
    "from random import sample\n",
    "import copy\n",
    "\n",
    "random.seed(42)\n",
    "\n",
    "def create_sudoku():\n",
    "    \"\"\"create a sudoku puzzle\n",
    "    source: https://stackoverflow.com/a/56581709\n",
    "    \"\"\"\n",
    "    base  = 3\n",
    "    side  = base*base\n",
    "\n",
    "    # pattern for a baseline valid solution\n",
    "    def pattern(r,c): return (base*(r%base)+r//base+c)%side\n",
    "\n",
    "    # randomize rows, columns and numbers (of valid base pattern)\n",
    "    def shuffle(s): return sample(s,len(s)) \n",
    "    rBase = range(base) \n",
    "    rows  = [ g*base + r for g in shuffle(rBase) for r in shuffle(rBase) ] \n",
    "    cols  = [ g*base + c for g in shuffle(rBase) for c in shuffle(rBase) ]\n",
    "    nums  = shuffle(range(1,base*base+1))\n",
    "\n",
    "    # produce board using randomized baseline pattern\n",
    "    board = [ [nums[pattern(r,c)] for c in cols] for r in rows ]\n",
    "    solution = copy.deepcopy(board)\n",
    "    \n",
    "    squares = side*side\n",
    "    empties = squares * 3//4\n",
    "    for p in sample(range(squares),empties):\n",
    "        board[p//side][p%side] = 0\n",
    "\n",
    "    return board, solution\n",
    "\n",
    "# define function that draws a sudoku\n",
    "def draw_sudoku(puzzle: List[List[int]] = None, puzzle_color='k', solution = None):\n",
    "    fix, ax = plt.subplots(figsize=(8, 8))\n",
    "    for i in range(0, 10, 3):\n",
    "        ax.plot([i, i], [0, 9], linewidth=2, color='k')\n",
    "        ax.plot([0, 9], [i, i], linewidth=2, color='k')\n",
    "        \n",
    "    for i in range(1, 9):\n",
    "        ax.plot([i, i], [0, 9], linewidth=1, color='k')\n",
    "        ax.plot([0, 9], [i, i], linewidth=1, color='k')\n",
    "        \n",
    "    if solution is not None:\n",
    "        for i in range(9):\n",
    "            for j in range(9):\n",
    "                if solution[i][j] != 0:\n",
    "                    ax.text((j + 0.5), (i + 0.5), str(solution[i][j]), size=18, ha='center', va='center', color='k')\n",
    "\n",
    "    if puzzle is not None:\n",
    "        for i in range(9):\n",
    "            for j in range(9):\n",
    "                if puzzle[i][j] != 0:\n",
    "                    ax.text((j + 0.5), (i + 0.5), str(puzzle[i][j]), size=18, ha='center', va='center', color=puzzle_color)\n",
    "        \n",
    "    ax.axis('off')\n",
    "    ax.set_aspect(1.0)\n",
    "    ax.invert_yaxis()\n",
    "    plt.show()\n",
    "    \n",
    "create_sudoku()\n",
    "\n",
    "puzzle, solution = create_sudoku()\n",
    "draw_sudoku(puzzle=puzzle)"
   ]
  },
  {
   "attachments": {},
   "cell_type": "markdown",
   "metadata": {},
   "source": [
    "To model this problem, we define set $S = (1, 2, 3, 4, 5, 6, 7, 8, 9)$ and use $i, j \\in S$ to index the row and column respectively.\n",
    "In addition, we use $M=\\{(i, j, k) | i, j, k \\in S\\}$ to represent all the known numbers in the grid.\n",
    "\n",
    "To formulate this problem, we define 9 binary variables for each cell in the 9x9 grid.\n",
    "Each of the 9 variables corresponds to one of the numbers in set $S$.\n",
    "Formally, $x_{ijk}$ represents whether the value $k$ shows up in cell $(i, j)$ of the grid.\n",
    "Note that $i, j, k \\in S$.\n",
    "The mathematical formulation can be stated as below."
   ]
  },
  {
   "attachments": {},
   "cell_type": "markdown",
   "metadata": {},
   "source": [
    "\\begin{align}\n",
    "\\text{min.} &\\quad 0 \\label{sudoku-obj} \\\\\n",
    "\\text{s.t.} &\\quad \\sum_{j \\in S}x_{ijk} = 1, \\ \\forall i, k \\in S \\label{sudoku-cons1} \\\\\n",
    "&\\quad \\sum_{i \\in S} x_{ijk} = 1, \\ \\forall j, k \\in S \\label{sudoku-cons2} \\\\\n",
    "&\\quad \\sum_{k \\in S} x_{ijk} = 1, \\ \\forall i, j \\in S \\label{sudoku-cons3} \\\\\n",
    "&\\quad \\sum_{(i - 1) \\times 3 + 1}^{(i - 1) \\times 3 + 3} \\sum_{(j - 1) \\times 3 + 1}^{(j - 1) \\times 3 + 3} x_{ijk} = 1, \\ \\forall i, j \\in \\{1, 2, 3\\}, k \\in S \\label{sudoku-cons4}\\\\\n",
    "&\\quad x_{ijk} = 1, \\ \\forall (i, j, k) \\in M \\label{sudoku-cons5}\\\\\n",
    "&\\quad x_{ijk} \\in \\{0, 1\\}, \\ \\forall i, j,k \\in S\n",
    "\\end{align}"
   ]
  },
  {
   "attachments": {},
   "cell_type": "markdown",
   "metadata": {},
   "source": [
    "Since no feasible soution is more preferable than another, we use a constant value as the objective function, meaning any feasible soution is an optimal solution to this problem.\n",
    "Constraints \\eqref{sudoku-cons1} require that the number $k \\in S$ shows up once and only once in each row of the grid.\n",
    "Similarly, \\eqref{sudoku-cons2} make sure that the number $k \\in S$ shows up once and only once in each column of the grid.\n",
    "For each cell in the grid, only one of the numbers in $S$ can appear, which is guaranteed by constraints \\eqref{sudoku-cons3}.\n",
    "Constraints \\eqref{sudoku-cons4} ensure that the numbers in set $S$ show up once and only once in each of the sub-grids.\n",
    "Constraints \\eqref{sudoku-cons5} make sure that the existing numbers in the grid stay the same in the optimal solution."
   ]
  },
  {
   "attachments": {},
   "cell_type": "markdown",
   "metadata": {},
   "source": [
    "We can then solve the problem using Google OR-Tools and the code snippet is given below."
   ]
  },
  {
   "cell_type": "code",
   "execution_count": 89,
   "metadata": {},
   "outputs": [],
   "source": [
    "import numpy as np\n",
    "from ortools.linear_solver import pywraplp\n",
    "\n",
    "# import data\n",
    "grid_size = 9\n",
    "subgrid_size = 3\n",
    "M = [[(1, 3, 6)],\n",
    "     [(2, 3, 3)],\n",
    "     [(3, 1, 5), (3, 7, 3), (3, 8, 7), (3, 9, 9)],\n",
    "     [(4, 1, 2), (4, 2, 1), (4, 3, 4), (4, 4, 0)],\n",
    "     [(5, 6, 5), (5, 7, 4)],\n",
    "     [(6, 1, 3), (6, 2, 5), (6, 3, 8), (6, 7, 9)],\n",
    "     [(7, 1, 4), (7, 9, 2)],\n",
    "     [(8, 3, 5)],\n",
    "     [(9, 1, 8), (9, 2, 2)]]\n",
    "\n",
    "# create solver\n",
    "solver = pywraplp.Solver.CreateSolver(\"SCIP\")\n",
    "\n",
    "# # create decision variables\n",
    "sudoku_vars = np.empty((grid_size, grid_size, grid_size), dtype=object)\n",
    "for row in range(grid_size):\n",
    "     for col in range(grid_size):\n",
    "          for num in range(grid_size):\n",
    "               sudoku_vars[row][col][num] = solver.Var(0, \n",
    "                                   1, \n",
    "                                   integer=True, \n",
    "                                   name=f\"x_{row, col, num}\")\n",
    "\n",
    "# create objective\n",
    "solver.Minimize(0)\n",
    "\n",
    "# create constraints\n",
    "for row in range(grid_size):\n",
    "     for num in range(grid_size):\n",
    "          solver.Add(\n",
    "               solver.Sum([sudoku_vars[row][col][num] \n",
    "                              for col in range(grid_size)\n",
    "                         ]) == 1\n",
    "                    )\n",
    "\n",
    "for col in range(grid_size):\n",
    "     for num in range(grid_size):\n",
    "          solver.Add(\n",
    "               solver.Sum([sudoku_vars[row][col][num] \n",
    "                              for row in range(grid_size)\n",
    "                         ]) == 1\n",
    "                    )\n",
    "          \n",
    "for row in range(grid_size):\n",
    "     for col in range(grid_size):\n",
    "          solver.Add(\n",
    "               solver.Sum([sudoku_vars[row][col][num] \n",
    "                              for num in range(grid_size)\n",
    "                         ]) == 1\n",
    "                    )\n",
    "          \n",
    "for row in range(grid_size):\n",
    "     known_values = M[row]\n",
    "     for value in known_values:\n",
    "          row, col, num = value\n",
    "          solver.Add(\n",
    "               sudoku_vars[row - 1][col - 1][num - 1] == 1\n",
    "          )\n",
    "\n",
    "# solve the problem\n",
    "status = solver.Solve()\n",
    "\n",
    "if status == pywraplp.Solver.OPTIMAL or status == pywraplp.Solver.FEASIBLE:\n",
    "     sudoku_sol = np.zeros((grid_size, grid_size), dtype=int)\n",
    "     for row in range(grid_size):\n",
    "          for col in range(grid_size):\n",
    "               for num in range(grid_size):\n",
    "                    if sudoku_vars[row][col][num].solution_value() == 1:\n",
    "                         sudoku_sol[row][col] = num + 1"
   ]
  },
  {
   "attachments": {},
   "cell_type": "markdown",
   "metadata": {},
   "source": [
    "@fig-sudoku-sol shows one solution to the example problem."
   ]
  },
  {
   "cell_type": "code",
   "execution_count": 91,
   "metadata": {},
   "outputs": [
    {
     "data": {
      "image/png": "[encoded data removed]",
      "text/plain": [
       "<Figure size 800x800 with 1 Axes>"
      ]
     },
     "metadata": {},
     "output_type": "display_data"
    }
   ],
   "source": [
    "# | echo: false\n",
    "# | label: fig-sudoku-sol\n",
    "# | fig-cap: One solution to the Sudoku problem\n",
    "\n",
    "draw_sudoku(puzzle=puzzle, puzzle_color='r', solution=sudoku_sol)"
   ]
  }
 ],
 "metadata": {
  "kernelspec": {
   "display_name": "ortools",
   "language": "python",
   "name": "python3"
  },
  "language_info": {
   "codemirror_mode": {
    "name": "ipython",
    "version": 3
   },
   "file_extension": ".py",
   "mimetype": "text/x-python",
   "name": "python",
   "nbconvert_exporter": "python",
   "pygments_lexer": "ipython3",
   "version": "3.10.9"
  },
  "orig_nbformat": 4,
  "vscode": {
   "interpreter": {
    "hash": "bf48c6200b504fe5a034fe37dc129ab5028b5377bed7e5a0a28d850d57df49a8"
   }
  }
 },
 "nbformat": 4,
 "nbformat_minor": 2
}
