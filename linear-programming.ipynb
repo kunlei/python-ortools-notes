{
 "cells": [
  {
   "attachments": {},
   "cell_type": "markdown",
   "metadata": {},
   "source": [
    "---\n",
    "highlight-style:\n",
    "  light: arrow.theme\n",
    "  dark: arrow-dark.theme\n",
    "format:\n",
    "  html:\n",
    "    code-line-numbers: false\n",
    "---"
   ]
  },
  {
   "attachments": {},
   "cell_type": "markdown",
   "metadata": {},
   "source": [
    "\n",
    "\n",
    "# Linear Programming {#sec-linear}"
   ]
  },
  {
   "attachments": {},
   "cell_type": "markdown",
   "metadata": {},
   "source": [
    "In this chapter, we first go through the modeling capabilities provided by Google OR-Tools to solve linear programming problems.\n",
    "Then we get our hands dirty by solving some linear programming problems.\n",
    "\n",
    "## Modeling Capabilities\n",
    "\n",
    "There are three components in a mathematical model, namely, decision varaibles, constraints and objective, for which we will go over in the following sections."
   ]
  },
  {
   "attachments": {},
   "cell_type": "markdown",
   "metadata": {},
   "source": [
    "### Solver\n",
    "\n",
    "In Google OR-Tools, a `Solver` instance must be created first so that variables, constraints and objective can be added to it.\n",
    "The `Solver` class is defined in the `ortools.linear_solver.pywraplp` module and it requires a solver id to instantiate an object.\n",
    "In the code snippet below, the required module is imported first and a `solver` object is created with `GLOP`, Google's own optimization engine for solving linear programming problems.\n",
    "It is good practice to verify whether the desired solver is indeed created successfully or not."
   ]
  },
  {
   "cell_type": "code",
   "execution_count": 59,
   "metadata": {},
   "outputs": [
    {
     "name": "stdout",
     "output_type": "stream",
     "text": [
      "solver creation success!\n"
     ]
    }
   ],
   "source": [
    "from ortools.linear_solver import pywraplp\n",
    "\n",
    "solver = pywraplp.Solver.CreateSolver(\"GLOP\")\n",
    "\n",
    "if solver:\n",
    "    print(\"solver creation success!\")\n",
    "else:\n",
    "    print(\"solver creation failure!\")"
   ]
  },
  {
   "attachments": {},
   "cell_type": "markdown",
   "metadata": {},
   "source": [
    "### Decision Variables\n",
    "\n",
    "The `Solver` class defines a number of ways to create decision variables:\n",
    "\n",
    "1. `Var(lb, ub, integer, name)`\n",
    "2. `NumVar(lb, ub, name)`\n",
    "3. `IntVar(lb, ub, name)`\n",
    "4. `BoolVar(name)`"
   ]
  },
  {
   "attachments": {},
   "cell_type": "markdown",
   "metadata": {},
   "source": [
    "- Function `Var()`\n",
    "\n",
    "The `Var()` method is the most flexible way to define variables, as it can be used to create numerical, integral and boolean variables.\n",
    "In the following code, a numerical variable named 'var1' is created with bound (0.0, 1.0).\n",
    "Note that the parameter `integer` is set to `False` in the call to function `Var()`."
   ]
  },
  {
   "cell_type": "code",
   "execution_count": 60,
   "metadata": {},
   "outputs": [],
   "source": [
    "var1 = solver.Var(lb=0, ub=1.0, integer=False, name=\"var1\")"
   ]
  },
  {
   "attachments": {},
   "cell_type": "markdown",
   "metadata": {},
   "source": [
    "We could create an integer variable using the same function:"
   ]
  },
  {
   "cell_type": "code",
   "execution_count": 61,
   "metadata": {},
   "outputs": [],
   "source": [
    "var2 = solver.Var(lb=0, ub=1.0, integer=True, name=\"var2\")"
   ]
  },
  {
   "attachments": {},
   "cell_type": "markdown",
   "metadata": {},
   "source": [
    "- Function `NumVar()`\n",
    "\n",
    "`var1` could be creatd alternatively using the specialized function `NumVar()`:"
   ]
  },
  {
   "cell_type": "code",
   "execution_count": 62,
   "metadata": {},
   "outputs": [],
   "source": [
    "var1 = solver.NumVar(lb=0, ub=1.0, name='var1')"
   ]
  },
  {
   "attachments": {},
   "cell_type": "markdown",
   "metadata": {},
   "source": [
    "- Function `IntVar()`\n",
    "\n",
    "Similarly, `var2` could be created alternatively using the specialized function `IntVar()`:"
   ]
  },
  {
   "cell_type": "code",
   "execution_count": 63,
   "metadata": {},
   "outputs": [],
   "source": [
    "var2 = solver.IntVar(lb=0, ub=1.0, name='var2')"
   ]
  },
  {
   "attachments": {},
   "cell_type": "markdown",
   "metadata": {},
   "source": [
    "- Function `BoolVar()`\n",
    "\n",
    "A boolean variable could be created using the `BoolVar()` function:"
   ]
  },
  {
   "cell_type": "code",
   "execution_count": 64,
   "metadata": {},
   "outputs": [],
   "source": [
    "var3 = solver.BoolVar(name='var3')"
   ]
  },
  {
   "attachments": {},
   "cell_type": "markdown",
   "metadata": {},
   "source": [
    "### Constraints\n",
    "\n",
    "Constraints limit the solution space of an optimization problem, and there are two ways to define constraints in Google OR-Tools.\n",
    "In the first approach, we could use the `Add()` function to create a constraint and automatically add it to the model at the same time, as the below code snippet illustrates."
   ]
  },
  {
   "cell_type": "code",
   "execution_count": 65,
   "metadata": {},
   "outputs": [
    {
     "data": {
      "text/plain": [
       "ortools.linear_solver.pywraplp.Constraint"
      ]
     },
     "execution_count": 65,
     "metadata": {},
     "output_type": "execute_result"
    }
   ],
   "source": [
    "cons1 = solver.Add(constraint=var1 + var2 <= 1, name=\"cons1\")\n",
    "\n",
    "type(cons1)"
   ]
  },
  {
   "attachments": {},
   "cell_type": "markdown",
   "metadata": {},
   "source": [
    "Note that the `Add()` function returns an object of the `Constraint` class defined in the `pywraplp` module, as shown in the code output.\n",
    "It is a good practice to retain the reference of the newly created constraint, as we might want to query its information later on."
   ]
  },
  {
   "attachments": {},
   "cell_type": "markdown",
   "metadata": {},
   "source": [
    "The second approach works in a slightly different way. It starts with an empty constraint, with potential lower bound and upper bounds provided, and add components of the constraint gradually.\n",
    "The code snippet below shows an example of adding a second constraint to the model.\n",
    "In this approach, we must retain the reference to the constraint, as it is needed to add decision variables to the constraint in following steps."
   ]
  },
  {
   "cell_type": "code",
   "execution_count": 66,
   "metadata": {},
   "outputs": [
    {
     "data": {
      "text/plain": [
       "ortools.linear_solver.pywraplp.Constraint"
      ]
     },
     "execution_count": 66,
     "metadata": {},
     "output_type": "execute_result"
    }
   ],
   "source": [
    "cons2 = solver.Constraint(-solver.infinity(), 10.0, \"cons2\")\n",
    "cons2.SetCoefficient(var1, 2)\n",
    "cons2.SetCoefficient(var2, 3)\n",
    "cons2.SetCoefficient(var3, 4)\n",
    "type(cons2)"
   ]
  },
  {
   "attachments": {},
   "cell_type": "markdown",
   "metadata": {},
   "source": [
    "### Objective\n",
    "\n",
    "Similar to constraints, there are two ways to define the objective in Google OR-Tools.\n",
    "In the first approach, we directly add an objective to the model by using the `Maximize()` or `Minimize()` function.\n",
    "Below is an example:\n",
    "\n"
   ]
  },
  {
   "cell_type": "code",
   "execution_count": 67,
   "metadata": {},
   "outputs": [],
   "source": [
    "solver.Minimize(var1 + var2 + var3)"
   ]
  },
  {
   "attachments": {},
   "cell_type": "markdown",
   "metadata": {},
   "source": [
    "Note that the function itself does not return a reference to the newly created objective function, but we could use a dedicated function to retrive it:"
   ]
  },
  {
   "cell_type": "code",
   "execution_count": 68,
   "metadata": {},
   "outputs": [
    {
     "name": "stdout",
     "output_type": "stream",
     "text": [
      "<ortools.linear_solver.pywraplp.Objective; proxy of <Swig Object of type 'operations_research::MPObjective *' at 0x10815d9b0> >\n"
     ]
    }
   ],
   "source": [
    "obj = solver.Objective()\n",
    "print(obj)"
   ]
  },
  {
   "attachments": {},
   "cell_type": "markdown",
   "metadata": {},
   "source": [
    "In the second approach, we build the objective incrementally, just as in the second approach of creating constraints.\n",
    "Specifically, we start with an empty objective function, and gradually add components to it.\n",
    "In the end, we specify the optimization sense - whether we want to maximize or minimnize the objective."
   ]
  },
  {
   "cell_type": "code",
   "execution_count": 69,
   "metadata": {},
   "outputs": [
    {
     "name": "stdout",
     "output_type": "stream",
     "text": [
      "<ortools.linear_solver.pywraplp.Objective; proxy of <Swig Object of type 'operations_research::MPObjective *' at 0x10815dc20> >\n"
     ]
    }
   ],
   "source": [
    "obj = solver.Objective()\n",
    "obj.SetCoefficient(var1, 1.0)\n",
    "obj.SetCoefficient(var2, 1.0)\n",
    "obj.SetCoefficient(var3, 1.0)\n",
    "obj.SetMinimization()\n",
    "print(obj)"
   ]
  },
  {
   "attachments": {},
   "cell_type": "markdown",
   "metadata": {},
   "source": [
    "### Objective and Constraint Expressions\n",
    "\n",
    "When we build constraints or objective functions, sometimes they comprise of complex expressions that we would like to build incrementally, possibly within loops.\n",
    "For example, we might have a mathematical expression of the form $expr = 2x_1 + 3x_2 + 4x_3 + x_4$, which could be part of the objective function or any constraints.\n",
    "In this case, we can either use the aforementioned `SetCoefficient()` function to add each element of the expression to the constraint or objective, or we could build an expression first and add it once in the end.\n",
    "The code snippet below shows an example."
   ]
  },
  {
   "cell_type": "code",
   "execution_count": 70,
   "metadata": {},
   "outputs": [
    {
     "name": "stdout",
     "output_type": "stream",
     "text": [
      "<ortools.linear_solver.pywraplp.Constraint; proxy of <Swig Object of type 'operations_research::MPConstraint *' at 0x10815c5d0> >\n"
     ]
    }
   ],
   "source": [
    "infinity = solver.Infinity()\n",
    "x1 = solver.NumVar(0, infinity, name=\"x1\")\n",
    "x2 = solver.NumVar(0, infinity, name=\"x2\")\n",
    "x3 = solver.NumVar(0, infinity, name=\"x3\")\n",
    "x4 = solver.NumVar(0, infinity, name=\"x4\")\n",
    "\n",
    "expr = []\n",
    "expr.append(2 * x1)\n",
    "expr.append(3 * x2)\n",
    "expr.append(4 * x3)\n",
    "expr.append(x4)\n",
    "\n",
    "cons = solver.Add(solver.Sum(expr) <= 10)\n",
    "print(cons)\n",
    "\n",
    "solver.Minimize(solver.Sum(expr))"
   ]
  },
  {
   "attachments": {},
   "cell_type": "markdown",
   "metadata": {},
   "source": [
    "Of course, it is not obvious here that the retitive calls to the `append()` method are any more convenient than the `SetCoefficient()` method.\n",
    "Let's say that we have a slightly more complex expression of the form $\\sum_{0 \\le i < 4}w_i \\cdot x_i$, now we could build the expression using a loop:"
   ]
  },
  {
   "cell_type": "code",
   "execution_count": 71,
   "metadata": {},
   "outputs": [],
   "source": [
    "w = [2, 3, 4, 1]\n",
    "x = [x1, x2, x3, x4]\n",
    "expr = []\n",
    "for i in range(4):\n",
    "    expr.append(w[i] * x[i])\n",
    "\n",
    "cons = solver.Add(solver.Sum(expr) <= 10)"
   ]
  },
  {
   "attachments": {},
   "cell_type": "markdown",
   "metadata": {},
   "source": [
    "### Query the Model\n",
    "\n",
    "After we build the model, we can query it using some helper functions.\n",
    "For example, to get the total number of constraints, we use the `NumVariables()` function.\n",
    "In a similar fashion, we can retrieve the total number of constraints with the `NumConstraints()` function."
   ]
  },
  {
   "cell_type": "code",
   "execution_count": 72,
   "metadata": {},
   "outputs": [
    {
     "name": "stdout",
     "output_type": "stream",
     "text": [
      "there are a total of 9 variables in the model\n",
      "there are a total of 4 constraints in the model\n"
     ]
    }
   ],
   "source": [
    "num_vars = solver.NumVariables()\n",
    "print(f\"there are a total of {num_vars} variables in the model\")\n",
    "\n",
    "num_cons = solver.NumConstraints()\n",
    "print(f\"there are a total of {num_cons} constraints in the model\")"
   ]
  },
  {
   "attachments": {},
   "cell_type": "markdown",
   "metadata": {},
   "source": [
    "## Applications\n",
    "\n",
    "In this section, we use some examples to showcase the modeling capability of Google OR-Tools.\n",
    "\n",
    "### A Trivial Example"
   ]
  },
  {
   "attachments": {},
   "cell_type": "markdown",
   "metadata": {},
   "source": [
    "We now consider an simple linear programming problem with two decision variables $x$ and $y$.\n",
    "The formal mathematical model is defined as below:"
   ]
  },
  {
   "attachments": {},
   "cell_type": "markdown",
   "metadata": {},
   "source": [
    "\n",
    "\\begin{align}\n",
    "\\text{max.} \\quad & x + 2y \\\\\n",
    "\\text{s.t.} \\quad & x + y \\le 10 \\\\\n",
    "& x >= 1 \\\\\n",
    "& y >= 1\n",
    "\\end{align}\n"
   ]
  },
  {
   "attachments": {},
   "cell_type": "markdown",
   "metadata": {},
   "source": [
    "@fig-lp-example shows the three defining constraints represented in blue lines and the feasible space depicted by the orange shaded area.\n",
    "The objective function is indicated by the red dashed lines.\n",
    "It can be seen from the figure that the point in green circle gives the maximal objective value of 19."
   ]
  },
  {
   "cell_type": "code",
   "execution_count": 193,
   "metadata": {},
   "outputs": [
    {
     "data": {
      "image/png": "[encoded data removed]",
      "text/plain": [
       "<Figure size 640x480 with 1 Axes>"
      ]
     },
     "metadata": {},
     "output_type": "display_data"
    }
   ],
   "source": [
    "#| echo: false\n",
    "#| fig-cap: A simple LP example\n",
    "#| label: fig-lp-example\n",
    "import matplotlib.pyplot as plt\n",
    "import numpy as np\n",
    "\n",
    "# setup axis\n",
    "fig = plt.figure()\n",
    "ax = fig.add_subplot(1, 1, 1)\n",
    "ax.spines['left'].set_position('zero')\n",
    "ax.spines['bottom'].set_position('zero')\n",
    "ax.spines['right'].set_color('none')\n",
    "ax.spines['top'].set_color('none')\n",
    "ax.xaxis.set_ticks_position('bottom')\n",
    "ax.yaxis.set_ticks_position('left')\n",
    "\n",
    "# plot three constraints\n",
    "x = np.linspace(-1, 11)\n",
    "y = 10 - x\n",
    "plt.plot(x, y, 'b')\n",
    "plt.axvline(x = 1, color = 'b')\n",
    "plt.axhline(y = 1, color = 'b')\n",
    "\n",
    "# add annotations\n",
    "ax.annotate('y = 1', xy=(4, 0.4))\n",
    "ax.annotate('x = 1', xy=(0.5, 4), rotation=90)\n",
    "ax.annotate('x + y = 10', xy=(4.8, 4), rotation=-30)\n",
    "\n",
    "# show the feasible space\n",
    "corners_x = np.array([1, 9, 1])\n",
    "corners_y = np.array([1, 1, 9])\n",
    "plt.fill(corners_x, corners_y, facecolor='lightsalmon')\n",
    "\n",
    "# add objective function\n",
    "obj_x = np.linspace(-1, 11)\n",
    "obj_y = 9.5 - 0.5 * obj_x\n",
    "plt.plot(obj_x, obj_y, 'r--')\n",
    "ax.annotate('obj = x + 2y', xy=(3.5, 7.2), rotation=-15)\n",
    "ax.annotate('(1, 9)', xy=(1.2, 9))\n",
    "plt.scatter(1, 9, marker=\"o\", c='g')\n",
    "\n",
    "\n",
    "obj_x = np.linspace(-1, 11)\n",
    "obj_y = 1.5 - 0.5 * obj_x\n",
    "plt.plot(obj_x, obj_y, 'r--')\n",
    "# ax.annotate('x + 2y = 19', xy=(4.5, 6.5), rotation=-20)\n",
    "\n",
    "# show the figure\n",
    "plt.show()"
   ]
  },
  {
   "attachments": {},
   "cell_type": "markdown",
   "metadata": {},
   "source": [
    "Let's now use Google OR-Tools to model and solve this problem.\n",
    "The code snippet below shows the complete program."
   ]
  },
  {
   "cell_type": "code",
   "execution_count": 201,
   "metadata": {},
   "outputs": [
    {
     "name": "stdout",
     "output_type": "stream",
     "text": [
      "obj = 19.0\n",
      "x = 1.0, reduced cost = -1.0\n",
      "y = 9.0, reduced cost = 0.0\n",
      "cons dual value = 2.0\n"
     ]
    }
   ],
   "source": [
    "# import Google OR-Tools library\n",
    "from ortools.linear_solver import pywraplp\n",
    "\n",
    "# create a solver\n",
    "solver = pywraplp.Solver.CreateSolver(\"GLOP\")\n",
    "\n",
    "# create decision variables\n",
    "x = solver.NumVar(1.0, solver.Infinity(), 'x')\n",
    "y = solver.NumVar(1.0, solver.Infinity(), 'y')\n",
    "\n",
    "# create constraints\n",
    "cons = solver.Add(x + y <= 10)\n",
    "\n",
    "# create objective\n",
    "solver.Maximize(x + 2 * y)\n",
    "\n",
    "# solve the problem\n",
    "status = solver.Solve()\n",
    "\n",
    "if status == pywraplp.Solver.OPTIMAL or status == pywraplp.Solver.FEASIBLE:\n",
    "    print(f\"obj = {solver.Objective().Value()}\")\n",
    "    print(f\"x = {x.solution_value()}, reduced cost = {x.reduced_cost()}\")\n",
    "    print(f\"y = {y.solution_value()}, reduced cost = {y.reduced_cost()}\")\n",
    "    print(f\"cons dual value = {cons.dual_value()}\")"
   ]
  },
  {
   "attachments": {},
   "cell_type": "markdown",
   "metadata": {},
   "source": [
    "We can see from the output that the optimal solution is $x = 1.0$ and $y = 9.0$, and the optimal objective is 19.0.\n",
    "This can also be validated from @fig-lp-example that the optimal solution is exactly the green point that sits at the intersection of the three lines $x = 1$, $x + y = 10$ and $x + 2y = 19$."
   ]
  },
  {
   "attachments": {},
   "cell_type": "markdown",
   "metadata": {},
   "source": [
    "@fig-lp-example also shows that the point (1, 1) should give us the minimal value of the objective function.\n",
    "To validate this, we can actually change the optimization sense of the objective function from maximization to minimization using the function `SetOptimizationDirection()`, as shown in the code below:"
   ]
  },
  {
   "cell_type": "code",
   "execution_count": 202,
   "metadata": {},
   "outputs": [
    {
     "name": "stdout",
     "output_type": "stream",
     "text": [
      "obj = 3.0\n",
      "x = 1.0, reduced cost = 1.0\n",
      "y = 1.0, reduced cost = 2.0\n",
      "cons dual value = 0.0\n"
     ]
    }
   ],
   "source": [
    "solver.Objective().SetOptimizationDirection(maximize=False)\n",
    "\n",
    "solver.Solve()\n",
    "\n",
    "print(f\"obj = {solver.Objective().Value()}\")\n",
    "print(f\"x = {x.solution_value()}, reduced cost = {x.reduced_cost()}\")\n",
    "print(f\"y = {y.solution_value()}, reduced cost = {y.reduced_cost()}\")\n",
    "print(f\"cons dual value = {cons.dual_value()}\")"
   ]
  },
  {
   "attachments": {},
   "cell_type": "markdown",
   "metadata": {},
   "source": [
    "### The Transportation Problem"
   ]
  },
  {
   "cell_type": "code",
   "execution_count": 212,
   "metadata": {},
   "outputs": [
    {
     "data": {
      "text/markdown": [
       "       D1    D2    D3    D4    D5\n",
       "---  ----  ----  ----  ----  ----\n",
       "S1      2     1     5     4     4\n",
       "S2      3     2     9     2    10\n",
       "S3      7     1     1     2     4\n",
       "S4      4     9    10     1     9"
      ],
      "text/plain": [
       "<IPython.core.display.Markdown object>"
      ]
     },
     "execution_count": 212,
     "metadata": {},
     "output_type": "execute_result"
    }
   ],
   "source": [
    "#| echo: false\n",
    "#| label: tbl-planet-measures\n",
    "#| tbl-cap: A transportation problem\n",
    "\n",
    "from IPython.display import Markdown\n",
    "from tabulate import tabulate\n",
    "import random\n",
    "\n",
    "random.seed(42)\n",
    "\n",
    "cost_matrix = [[\"S1\"],\n",
    "         [\"S2\"],\n",
    "         [\"S3\"],\n",
    "         [\"S4\"]]\n",
    "for row in cost_matrix:\n",
    "  row.extend([random.randint(1, 10) for _ in range(5)])\n",
    "Markdown(tabulate(\n",
    "  cost_matrix, \n",
    "  headers=[\" \",\"D1\", \"D2\", \"D3\", \"D4\", \"D5\"]\n",
    "))"
   ]
  }
 ],
 "metadata": {
  "kernelspec": {
   "display_name": "ortools",
   "language": "python",
   "name": "python3"
  },
  "language_info": {
   "codemirror_mode": {
    "name": "ipython",
    "version": 3
   },
   "file_extension": ".py",
   "mimetype": "text/x-python",
   "name": "python",
   "nbconvert_exporter": "python",
   "pygments_lexer": "ipython3",
   "version": "3.10.9"
  },
  "orig_nbformat": 4,
  "vscode": {
   "interpreter": {
    "hash": "bf48c6200b504fe5a034fe37dc129ab5028b5377bed7e5a0a28d850d57df49a8"
   }
  }
 },
 "nbformat": 4,
 "nbformat_minor": 2
}
