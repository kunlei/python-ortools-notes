{
 "cells": [
  {
   "attachments": {},
   "cell_type": "markdown",
   "metadata": {},
   "source": [
    "---\n",
    "format:\n",
    "  html:\n",
    "    code-line-numbers: true\n",
    "    code-overflow: wrap\n",
    "    code-block-bg: true\n",
    "    code-block-border-left: true\n",
    "    highlight-style: Arrow\n",
    "---"
   ]
  },
  {
   "attachments": {},
   "cell_type": "markdown",
   "metadata": {},
   "source": [
    "# The Cutting Stock Problem {#sec-cutting-stock}"
   ]
  },
  {
   "attachments": {},
   "cell_type": "markdown",
   "metadata": {},
   "source": [
    "The cutting stock problem (CSP) is a common problem in the paper industry, where large rolls of paper must be cut into smaller rolls of various widths to meet customer demands. For example, a paper mill may have a large roll of paper that is 60 inches wide and needs to produce smaller rolls of widths 30, 24, 18, and 12 inches. The mill must determine the best way to cut the large roll of paper into the required widths while minimizing waste.\n",
    "\n",
    "Let's say that a paper company produces rolls with a uniform width of 100 inches and receives orders for rolls with widths of 20, 30, 40, and 50 inches. \n",
    "@tbl-cutting-stock-data shows the order details.\n"
   ]
  },
  {
   "cell_type": "code",
   "execution_count": 4,
   "metadata": {},
   "outputs": [
    {
     "data": {
      "text/markdown": [
       "  Order Width    Order Quantity\n",
       "-------------  ----------------\n",
       "           20               100\n",
       "           30               120\n",
       "           40                40\n",
       "           50                20"
      ],
      "text/plain": [
       "<IPython.core.display.Markdown object>"
      ]
     },
     "execution_count": 4,
     "metadata": {},
     "output_type": "execute_result"
    }
   ],
   "source": [
    "# | echo: false\n",
    "# | label: tbl-cutting-stock-data\n",
    "# | tbl-cap: Demands of different paper rolls\n",
    "\n",
    "from IPython.display import Markdown\n",
    "from tabulate import tabulate\n",
    "\n",
    "table_data = []\n",
    "\n",
    "row_data = []\n",
    "row_data.append(20)\n",
    "row_data.append(100)\n",
    "table_data.append(row_data)\n",
    "\n",
    "row_data = []\n",
    "row_data.append(30)\n",
    "row_data.append(120)\n",
    "table_data.append(row_data)\n",
    "\n",
    "row_data = []\n",
    "row_data.append(40)\n",
    "row_data.append(40)\n",
    "table_data.append(row_data)\n",
    "\n",
    "row_data = []\n",
    "row_data.append(50)\n",
    "row_data.append(20)\n",
    "table_data.append(row_data)\n",
    "\n",
    "col_names = [\"Order Width\", \"Order Quantity\"]\n",
    "Markdown(tabulate(table_data, headers=col_names))"
   ]
  },
  {
   "attachments": {},
   "cell_type": "markdown",
   "metadata": {},
   "source": [
    "To fulfill these orders, a single 100 inch roll can be cut into one or more of the order widths. This process generates scrap, which is the leftover material that cannot be used. The different combinations of cuts are called patterns. In this case, there are many possible patterns but for simplicity purpose, we'll assume only the 10 patterns listed in @tbl-cutting-stock-available-patterns are available."
   ]
  },
  {
   "cell_type": "code",
   "execution_count": 16,
   "metadata": {},
   "outputs": [
    {
     "data": {
      "text/markdown": [
       "Pattern       Width (20)    Wdith (30)    Width (40)    Width (50)\n",
       "----------  ------------  ------------  ------------  ------------\n",
       "Pattern 1              1             1             1             0\n",
       "Pattern 2              1             1             0             1\n",
       "Pattern 3              0             0             1             1\n",
       "Pattern 4              3             0             1             0\n",
       "Pattern 5              0             2             1             0\n",
       "Pattern 6              0             0             0             2\n",
       "Pattern 7              5             0             0             0\n",
       "Pattern 8              0             3             0             0\n",
       "Pattern 9              0             0             2             0\n",
       "Pattern 10             2             0             0             1"
      ],
      "text/plain": [
       "<IPython.core.display.Markdown object>"
      ]
     },
     "execution_count": 16,
     "metadata": {},
     "output_type": "execute_result"
    }
   ],
   "source": [
    "# | echo: false\n",
    "# | label: tbl-cutting-stock-available-patterns\n",
    "# | tbl-cap: Available patterns\n",
    "\n",
    "from IPython.display import Markdown\n",
    "from tabulate import tabulate\n",
    "\n",
    "table_data = []\n",
    "\n",
    "row_data = []\n",
    "row_data.append(\"Pattern 1\")\n",
    "row_data.append(1)\n",
    "row_data.append(1)\n",
    "row_data.append(1)\n",
    "row_data.append(0)\n",
    "table_data.append(row_data)\n",
    "\n",
    "row_data = []\n",
    "row_data.append(\"Pattern 2\")\n",
    "row_data.append(1)\n",
    "row_data.append(1)\n",
    "row_data.append(0)\n",
    "row_data.append(1)\n",
    "table_data.append(row_data)\n",
    "\n",
    "row_data = []\n",
    "row_data.append(\"Pattern 3\")\n",
    "row_data.append(0)\n",
    "row_data.append(0)\n",
    "row_data.append(1)\n",
    "row_data.append(1)\n",
    "table_data.append(row_data)\n",
    "\n",
    "row_data = []\n",
    "row_data.append(\"Pattern 4\")\n",
    "row_data.append(3)\n",
    "row_data.append(0)\n",
    "row_data.append(1)\n",
    "row_data.append(0)\n",
    "table_data.append(row_data)\n",
    "\n",
    "row_data = []\n",
    "row_data.append(\"Pattern 5\")\n",
    "row_data.append(0)\n",
    "row_data.append(2)\n",
    "row_data.append(1)\n",
    "row_data.append(0)\n",
    "table_data.append(row_data)\n",
    "\n",
    "row_data = []\n",
    "row_data.append(\"Pattern 6\")\n",
    "row_data.append(0)\n",
    "row_data.append(0)\n",
    "row_data.append(0)\n",
    "row_data.append(2)\n",
    "table_data.append(row_data)\n",
    "\n",
    "row_data = []\n",
    "row_data.append(\"Pattern 7\")\n",
    "row_data.append(5)\n",
    "row_data.append(0)\n",
    "row_data.append(0)\n",
    "row_data.append(0)\n",
    "table_data.append(row_data)\n",
    "\n",
    "row_data = []\n",
    "row_data.append(\"Pattern 8\")\n",
    "row_data.append(0)\n",
    "row_data.append(3)\n",
    "row_data.append(0)\n",
    "row_data.append(0)\n",
    "table_data.append(row_data)\n",
    "\n",
    "row_data = []\n",
    "row_data.append(\"Pattern 9\")\n",
    "row_data.append(0)\n",
    "row_data.append(0)\n",
    "row_data.append(2)\n",
    "row_data.append(0)\n",
    "table_data.append(row_data)\n",
    "\n",
    "row_data = []\n",
    "row_data.append(\"Pattern 10\")\n",
    "row_data.append(2)\n",
    "row_data.append(0)\n",
    "row_data.append(0)\n",
    "row_data.append(1)\n",
    "table_data.append(row_data)\n",
    "\n",
    "col_names = [\"Pattern\", \"Width (20)\", \"Wdith (30)\", \"Width (40)\", \"Width (50)\"]\n",
    "Markdown(tabulate(table_data, headers=col_names))"
   ]
  },
  {
   "attachments": {},
   "cell_type": "markdown",
   "metadata": {},
   "source": [
    "The objective of the cutting stock problem is to reduce the amount of material wastage while fulfilling the specified demands. The demand for each order is denoted by $r_i$, and the number of order size $i$ in pattern $j$ is represented by $a_{ij}$. To achieve this objective, we introduce the variable $x_j$ which is a non-negative integer representing the frequency with which pattern $j$ is used to fulfill the orders. The index $j$ ranges from 1 to 10. Thus, the problem can be expressed as follows."
   ]
  },
  {
   "attachments": {},
   "cell_type": "markdown",
   "metadata": {},
   "source": [
    "\\begin{align}\n",
    "    \\text{min.} &\\quad \\sum_{j = 1}^n x_j \\label{cutting-obj} \\\\\n",
    "    \\text{s.t.} &\\quad \\sum_{j=1}^n a_{ij} x_j \\geq r_i, \\ \\forall i \\in \\mathcal{I} \\label{cutting-cons1} \\\\\n",
    "    &\\quad x_j \\in \\mathbb{Z}^{+}=\\{1,2,3,\\ldots\\}, \\ \\forall j \\in \\{1, \\cdots, 10\\} \\label{cutting-cons2} \n",
    "\\end{align}"
   ]
  },
  {
   "attachments": {},
   "cell_type": "markdown",
   "metadata": {},
   "source": [
    "Now we solve this contrived cutting stock problem using OR-Tools.\n",
    "The code below gives the complete program."
   ]
  },
  {
   "cell_type": "code",
   "execution_count": 19,
   "metadata": {},
   "outputs": [
    {
     "name": "stdout",
     "output_type": "stream",
     "text": [
      "optimal obj = 83.0\n",
      "[0.0, 20.0, 0.0, 0.0, 40.0, 0.0, 16.0, 7.0, 0.0, 0.0]\n"
     ]
    }
   ],
   "source": [
    "from ortools.linear_solver import pywraplp\n",
    "\n",
    "# prepare data\n",
    "num_orders = 4\n",
    "order_quantities = [100, 120, 40, 20]\n",
    "num_patterns = 10\n",
    "pattern_details = [\n",
    "    [1, 1, 1, 0],\n",
    "    [1, 1, 0, 1],\n",
    "    [0, 0, 1, 1],\n",
    "    [3, 0, 1, 0],\n",
    "    [0, 2, 1, 0],\n",
    "    [0, 0, 0, 2],\n",
    "    [5, 0, 0, 0],\n",
    "    [0, 3, 0, 0],\n",
    "    [0, 0, 2, 0],\n",
    "    [2, 0, 0, 1]\n",
    "]\n",
    "\n",
    "# instantiate solver\n",
    "solver = pywraplp.Solver.CreateSolver('SCIP')\n",
    "\n",
    "# create decision varaibles\n",
    "infinity = solver.Infinity()\n",
    "var_j = [\n",
    "    solver.IntVar(0, infinity, name=f'x_{j}')\n",
    "    for j in range(num_patterns)\n",
    "]\n",
    "\n",
    "# create objective function\n",
    "solver.Minimize(solver.Sum(var_j))\n",
    "\n",
    "# create constraints\n",
    "for i in range(num_orders):\n",
    "    expr = [\n",
    "        var_j[j] * pattern_details[j][i]\n",
    "        for j in range(num_patterns)\n",
    "    ]\n",
    "    solver.Add(solver.Sum(expr) >= order_quantities[i])\n",
    "\n",
    "# solve the problem\n",
    "status = solver.Solve()\n",
    "if status == pywraplp.Solver.OPTIMAL:\n",
    "    obj = solver.Objective().Value()\n",
    "    print(f\"optimal obj = {obj}\")\n",
    "    \n",
    "    opt_j = [\n",
    "        var_j[j].solution_value()\n",
    "        for j in range(num_patterns)\n",
    "    ]\n",
    "    print(opt_j)"
   ]
  },
  {
   "attachments": {},
   "cell_type": "markdown",
   "metadata": {},
   "source": [
    "@tbl-cutting-stock-solution shows the final quantities produced for every order width."
   ]
  },
  {
   "cell_type": "code",
   "execution_count": 22,
   "metadata": {},
   "outputs": [
    {
     "data": {
      "text/markdown": [
       "Pattern           Width (20)    Wdith (30)    Width (40)    Width (50)    Optimal Quantity\n",
       "--------------  ------------  ------------  ------------  ------------  ------------------\n",
       "Pattern 1                  1             1             1             0                   0\n",
       "Pattern 2                  1             1             0             1                  20\n",
       "Pattern 3                  0             0             1             1                   0\n",
       "Pattern 4                  3             0             1             0                   0\n",
       "Pattern 5                  0             2             1             0                  40\n",
       "Pattern 6                  0             0             0             2                   0\n",
       "Pattern 7                  5             0             0             0                  16\n",
       "Pattern 8                  0             3             0             0                   7\n",
       "Pattern 9                  0             0             2             0                   0\n",
       "Pattern 10                 2             0             0             1                   0\n",
       "Produced Order           100           121            40            20                  83"
      ],
      "text/plain": [
       "<IPython.core.display.Markdown object>"
      ]
     },
     "execution_count": 22,
     "metadata": {},
     "output_type": "execute_result"
    }
   ],
   "source": [
    "# | echo: false\n",
    "# | label: tbl-cutting-stock-solution\n",
    "# | tbl-cap: Solution\n",
    "\n",
    "from IPython.display import Markdown\n",
    "from tabulate import tabulate\n",
    "\n",
    "table_data = []\n",
    "\n",
    "row_data = []\n",
    "row_data.append(\"Pattern 1\")\n",
    "row_data.append(1)\n",
    "row_data.append(1)\n",
    "row_data.append(1)\n",
    "row_data.append(0)\n",
    "row_data.append(opt_j[0])\n",
    "table_data.append(row_data)\n",
    "\n",
    "row_data = []\n",
    "row_data.append(\"Pattern 2\")\n",
    "row_data.append(1)\n",
    "row_data.append(1)\n",
    "row_data.append(0)\n",
    "row_data.append(1)\n",
    "row_data.append(opt_j[1])\n",
    "table_data.append(row_data)\n",
    "\n",
    "row_data = []\n",
    "row_data.append(\"Pattern 3\")\n",
    "row_data.append(0)\n",
    "row_data.append(0)\n",
    "row_data.append(1)\n",
    "row_data.append(1)\n",
    "row_data.append(opt_j[2])\n",
    "table_data.append(row_data)\n",
    "\n",
    "row_data = []\n",
    "row_data.append(\"Pattern 4\")\n",
    "row_data.append(3)\n",
    "row_data.append(0)\n",
    "row_data.append(1)\n",
    "row_data.append(0)\n",
    "row_data.append(opt_j[3])\n",
    "table_data.append(row_data)\n",
    "\n",
    "row_data = []\n",
    "row_data.append(\"Pattern 5\")\n",
    "row_data.append(0)\n",
    "row_data.append(2)\n",
    "row_data.append(1)\n",
    "row_data.append(0)\n",
    "row_data.append(opt_j[4])\n",
    "table_data.append(row_data)\n",
    "\n",
    "row_data = []\n",
    "row_data.append(\"Pattern 6\")\n",
    "row_data.append(0)\n",
    "row_data.append(0)\n",
    "row_data.append(0)\n",
    "row_data.append(2)\n",
    "row_data.append(opt_j[5])\n",
    "table_data.append(row_data)\n",
    "\n",
    "row_data = []\n",
    "row_data.append(\"Pattern 7\")\n",
    "row_data.append(5)\n",
    "row_data.append(0)\n",
    "row_data.append(0)\n",
    "row_data.append(0)\n",
    "row_data.append(opt_j[6])\n",
    "table_data.append(row_data)\n",
    "\n",
    "row_data = []\n",
    "row_data.append(\"Pattern 8\")\n",
    "row_data.append(0)\n",
    "row_data.append(3)\n",
    "row_data.append(0)\n",
    "row_data.append(0)\n",
    "row_data.append(opt_j[7])\n",
    "table_data.append(row_data)\n",
    "\n",
    "row_data = []\n",
    "row_data.append(\"Pattern 9\")\n",
    "row_data.append(0)\n",
    "row_data.append(0)\n",
    "row_data.append(2)\n",
    "row_data.append(0)\n",
    "row_data.append(opt_j[8])\n",
    "table_data.append(row_data)\n",
    "\n",
    "row_data = []\n",
    "row_data.append(\"Pattern 10\")\n",
    "row_data.append(2)\n",
    "row_data.append(0)\n",
    "row_data.append(0)\n",
    "row_data.append(1)\n",
    "row_data.append(opt_j[9])\n",
    "table_data.append(row_data)\n",
    "\n",
    "row_data = []\n",
    "row_data.append(\"Produced Order\")\n",
    "row_data.append(100)\n",
    "row_data.append(121)\n",
    "row_data.append(40)\n",
    "row_data.append(20)\n",
    "row_data.append(83)\n",
    "table_data.append(row_data)\n",
    "\n",
    "col_names = [\"Pattern\", \"Width (20)\", \"Wdith (30)\", \"Width (40)\", \"Width (50)\", \"Optimal Quantity\"]\n",
    "Markdown(tabulate(table_data, headers=col_names))"
   ]
  },
  {
   "attachments": {},
   "cell_type": "markdown",
   "metadata": {},
   "source": [
    "This example problem seems trivial to solve, but in practice the CSP is challenging to solve because of the large number of possible cutting patterns that can be used and the combinatorial nature of the problem.\n",
    "\n",
    "To efficiently solve the cutting stock problem, a column generation approach is often used. The basic idea behind column generation is to start with a small subset of the possible cutting patterns, and then iteratively generate and add new cutting patterns to the problem until an optimal solution is found.\n",
    "\n",
    "The column generation approach involves solving a master problem and a subproblem iteratively. The master problem involves selecting the best set of cutting patterns from a larger set of potential patterns, while the subproblem involves finding the next cutting pattern(s) to add to the master problem. By solving these two problems iteratively, the algorithm can gradually add new cutting patterns to the master problem until the optimal solution is reached.\n",
    "\n",
    "The column generation approach has several advantages over other methods for solving the cutting stock problem. First, it can handle large-scale instances of the problem more efficiently. This is because the algorithm only considers a subset of the possible cutting patterns at each iteration, which reduces the computational time and memory required. Second, the approach is flexible and can easily handle changes in the problem parameters, such as demand or material availability. Finally, the approach is guaranteed to converge to an optimal solution, provided certain conditions are met.\n",
    "\n",
    "Overall, the cutting stock problem is challenging to solve due to its combinatorial nature and large number of possible cutting patterns. The column generation approach is a powerful technique for solving this problem efficiently and effectively, and is widely used in practice."
   ]
  }
 ],
 "metadata": {
  "kernelspec": {
   "display_name": "ortools",
   "language": "python",
   "name": "python3"
  },
  "language_info": {
   "codemirror_mode": {
    "name": "ipython",
    "version": 3
   },
   "file_extension": ".py",
   "mimetype": "text/x-python",
   "name": "python",
   "nbconvert_exporter": "python",
   "pygments_lexer": "ipython3",
   "version": "3.10.9"
  },
  "orig_nbformat": 4,
  "vscode": {
   "interpreter": {
    "hash": "bf48c6200b504fe5a034fe37dc129ab5028b5377bed7e5a0a28d850d57df49a8"
   }
  }
 },
 "nbformat": 4,
 "nbformat_minor": 2
}
