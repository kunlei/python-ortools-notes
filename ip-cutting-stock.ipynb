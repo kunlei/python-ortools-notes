{
 "cells": [
  {
   "attachments": {},
   "cell_type": "markdown",
   "metadata": {},
   "source": [
    "---\n",
    "format:\n",
    "  html:\n",
    "    code-line-numbers: true\n",
    "    code-overflow: wrap\n",
    "    code-block-bg: true\n",
    "    code-block-border-left: true\n",
    "    highlight-style: Arrow\n",
    "---"
   ]
  },
  {
   "attachments": {},
   "cell_type": "markdown",
   "metadata": {},
   "source": [
    "# The Cutting Stock Problem {#sec-cutting-stock}"
   ]
  },
  {
   "attachments": {},
   "cell_type": "markdown",
   "metadata": {},
   "source": [
    "The cutting stock problem is a common problem in the paper industry, where large rolls of paper must be cut into smaller rolls of various widths to meet customer demands. For example, a paper mill may have a large roll of paper that is 60 inches wide and needs to produce smaller rolls of widths 30, 24, 18, and 12 inches. The mill must determine the best way to cut the large roll of paper into the required widths while minimizing waste.\n",
    "\n",
    "Let's say that a paper company produces rolls with a uniform width of 100 inches and receives orders for rolls with widths of 20, 30, 40, and 50 inches. \n",
    "@tbl-cutting-stock-data shows an illustrative example.\n"
   ]
  },
  {
   "cell_type": "code",
   "execution_count": 4,
   "metadata": {},
   "outputs": [
    {
     "data": {
      "text/markdown": [
       "  Order Width    Order Quantity\n",
       "-------------  ----------------\n",
       "           20               100\n",
       "           30               120\n",
       "           40                40\n",
       "           50                20"
      ],
      "text/plain": [
       "<IPython.core.display.Markdown object>"
      ]
     },
     "execution_count": 4,
     "metadata": {},
     "output_type": "execute_result"
    }
   ],
   "source": [
    "# | echo: false\n",
    "# | label: tbl-cutting-stock-data\n",
    "# | tbl-cap: Demands of different paper rolls\n",
    "\n",
    "from IPython.display import Markdown\n",
    "from tabulate import tabulate\n",
    "\n",
    "table_data = []\n",
    "\n",
    "row_data = []\n",
    "row_data.append(20)\n",
    "row_data.append(100)\n",
    "table_data.append(row_data)\n",
    "\n",
    "row_data = []\n",
    "row_data.append(30)\n",
    "row_data.append(120)\n",
    "table_data.append(row_data)\n",
    "\n",
    "row_data = []\n",
    "row_data.append(40)\n",
    "row_data.append(40)\n",
    "table_data.append(row_data)\n",
    "\n",
    "row_data = []\n",
    "row_data.append(50)\n",
    "row_data.append(20)\n",
    "table_data.append(row_data)\n",
    "\n",
    "col_names = [\"Order Width\", \"Order Quantity\"]\n",
    "Markdown(tabulate(table_data, headers=col_names))"
   ]
  },
  {
   "attachments": {},
   "cell_type": "markdown",
   "metadata": {},
   "source": [
    "To fulfill these orders, a single 100 inch roll can be cut into one or more of the order widths. This process generates scrap, which is the leftover material that cannot be used. The different combinations of cuts are called patterns. In this case, there are 37 different patterns that can be used."
   ]
  },
  {
   "cell_type": "code",
   "execution_count": 16,
   "metadata": {},
   "outputs": [
    {
     "data": {
      "text/markdown": [
       "Pattern       Width (20)    Wdith (30)    Width (40)    Width (50)\n",
       "----------  ------------  ------------  ------------  ------------\n",
       "Pattern 1              1             1             1             0\n",
       "Pattern 2              1             1             0             1\n",
       "Pattern 3              0             0             1             1\n",
       "Pattern 4              3             0             1             0\n",
       "Pattern 5              0             2             1             0\n",
       "Pattern 6              0             0             0             2\n",
       "Pattern 7              5             0             0             0\n",
       "Pattern 8              0             3             0             0\n",
       "Pattern 9              0             0             2             0\n",
       "Pattern 10             2             0             0             1"
      ],
      "text/plain": [
       "<IPython.core.display.Markdown object>"
      ]
     },
     "execution_count": 16,
     "metadata": {},
     "output_type": "execute_result"
    }
   ],
   "source": [
    "# | echo: false\n",
    "# | label: tbl-cutting-stock-available-patterns\n",
    "# | tbl-cap: Available patterns\n",
    "\n",
    "from IPython.display import Markdown\n",
    "from tabulate import tabulate\n",
    "\n",
    "table_data = []\n",
    "\n",
    "row_data = []\n",
    "row_data.append(\"Pattern 1\")\n",
    "row_data.append(1)\n",
    "row_data.append(1)\n",
    "row_data.append(1)\n",
    "row_data.append(0)\n",
    "table_data.append(row_data)\n",
    "\n",
    "row_data = []\n",
    "row_data.append(\"Pattern 2\")\n",
    "row_data.append(1)\n",
    "row_data.append(1)\n",
    "row_data.append(0)\n",
    "row_data.append(1)\n",
    "table_data.append(row_data)\n",
    "\n",
    "row_data = []\n",
    "row_data.append(\"Pattern 3\")\n",
    "row_data.append(0)\n",
    "row_data.append(0)\n",
    "row_data.append(1)\n",
    "row_data.append(1)\n",
    "table_data.append(row_data)\n",
    "\n",
    "row_data = []\n",
    "row_data.append(\"Pattern 4\")\n",
    "row_data.append(3)\n",
    "row_data.append(0)\n",
    "row_data.append(1)\n",
    "row_data.append(0)\n",
    "table_data.append(row_data)\n",
    "\n",
    "row_data = []\n",
    "row_data.append(\"Pattern 5\")\n",
    "row_data.append(0)\n",
    "row_data.append(2)\n",
    "row_data.append(1)\n",
    "row_data.append(0)\n",
    "table_data.append(row_data)\n",
    "\n",
    "row_data = []\n",
    "row_data.append(\"Pattern 6\")\n",
    "row_data.append(0)\n",
    "row_data.append(0)\n",
    "row_data.append(0)\n",
    "row_data.append(2)\n",
    "table_data.append(row_data)\n",
    "\n",
    "row_data = []\n",
    "row_data.append(\"Pattern 7\")\n",
    "row_data.append(5)\n",
    "row_data.append(0)\n",
    "row_data.append(0)\n",
    "row_data.append(0)\n",
    "table_data.append(row_data)\n",
    "\n",
    "row_data = []\n",
    "row_data.append(\"Pattern 8\")\n",
    "row_data.append(0)\n",
    "row_data.append(3)\n",
    "row_data.append(0)\n",
    "row_data.append(0)\n",
    "table_data.append(row_data)\n",
    "\n",
    "row_data = []\n",
    "row_data.append(\"Pattern 9\")\n",
    "row_data.append(0)\n",
    "row_data.append(0)\n",
    "row_data.append(2)\n",
    "row_data.append(0)\n",
    "table_data.append(row_data)\n",
    "\n",
    "row_data = []\n",
    "row_data.append(\"Pattern 10\")\n",
    "row_data.append(2)\n",
    "row_data.append(0)\n",
    "row_data.append(0)\n",
    "row_data.append(1)\n",
    "table_data.append(row_data)\n",
    "\n",
    "col_names = [\"Pattern\", \"Width (20)\", \"Wdith (30)\", \"Width (40)\", \"Width (50)\"]\n",
    "Markdown(tabulate(table_data, headers=col_names))"
   ]
  }
 ],
 "metadata": {
  "kernelspec": {
   "display_name": "ortools",
   "language": "python",
   "name": "python3"
  },
  "language_info": {
   "codemirror_mode": {
    "name": "ipython",
    "version": 3
   },
   "file_extension": ".py",
   "mimetype": "text/x-python",
   "name": "python",
   "nbconvert_exporter": "python",
   "pygments_lexer": "ipython3",
   "version": "3.10.9"
  },
  "orig_nbformat": 4,
  "vscode": {
   "interpreter": {
    "hash": "bf48c6200b504fe5a034fe37dc129ab5028b5377bed7e5a0a28d850d57df49a8"
   }
  }
 },
 "nbformat": 4,
 "nbformat_minor": 2
}
